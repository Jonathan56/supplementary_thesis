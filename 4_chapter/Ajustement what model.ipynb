{
 "cells": [
  {
   "cell_type": "markdown",
   "metadata": {},
   "source": [
    "## Objective : test linear decision tree"
   ]
  },
  {
   "cell_type": "code",
   "execution_count": 1,
   "metadata": {
    "hide_input": true
   },
   "outputs": [],
   "source": [
    "import pandas as pd\n",
    "import numpy as np\n",
    "import warnings\n",
    "from datetime import datetime, timedelta\n",
    "\n",
    "from pylec.optimize.batteries import OptimizeBatteries\n",
    "from pylec.forecast.manage import MultiModel\n",
    "from pylec.forecast.pipelines import PipelineNoExog, PipelineZenith\n",
    "from horizon.models import GAM, Perfect\n",
    "from pylec.control.matchsurplus import MatchSurplus\n",
    "from pylec.simulate import Simulation\n",
    "from pylec.scenarios import PVGISQuoilin, describe\n",
    "\n",
    "import plotly.express as px\n",
    "\n",
    "layout = {\n",
    "    'showlegend': False,\n",
    "    'margin': {'b':10, 'l':10, 'r':10, 't':10},\n",
    "    'font': {'size': 19},\n",
    "    'xaxis': {'zerolinewidth': 2,  'zerolinecolor':'black'},\n",
    "    'yaxis': {'zerolinewidth': 2, 'zerolinecolor':'black'},\n",
    "    'template': 'plotly_white',\n",
    "}\n",
    "px.defaults.color_discrete_sequence = px.colors.qualitative.T10\n",
    "\n",
    "\n",
    "def distribution_plots(errors, ecdf_only=False):\n",
    "    if not ecdf_only:\n",
    "        fig = px.histogram(errors, barmode=\"overlay\", histnorm=\"percent\", marginal=\"box\")\n",
    "        fig.data[0].update({\"marker_opacity\": 1.0})\n",
    "        fig.data[1].update({\"boxpoints\": False})\n",
    "        fig.data[2].update({\"opacity\": 0.7})\n",
    "        fig.data[3].update({\"boxpoints\": False})\n",
    "        fig.update_layout(layout, showlegend=True,\n",
    "                          yaxis_title=\"Percentage [%]\", xaxis_title=\"U* - Uhat\",\n",
    "                          xaxis_range=[-0.5, 0.5])\n",
    "        fig.show()\n",
    "\n",
    "    fig = px.ecdf(errors, lines=True, markers=False)\n",
    "    fig.update_layout(layout, showlegend=True,\n",
    "                      yaxis_title=\"ECDF\", xaxis_title=\"U* - Uhat\",\n",
    "                      xaxis_range=[-1, 1], yaxis_dtick=0.1)\n",
    "    fig.update_traces(line_width=5)\n",
    "    fig.show()\n",
    "    \n",
    "    print(f\"Score before = {round(errors['Uhat=U (before)'].abs().sum(), 2)}, \\\n",
    "            Score after = {round(errors['Uhat=g() (after)'].abs().sum(), 2)}\")\n",
    "    print(\"\")"
   ]
  },
  {
   "cell_type": "markdown",
   "metadata": {
    "heading_collapsed": true
   },
   "source": [
    "## Model and scenario\n",
    "\n",
    "- Perfect model\n",
    "- GAM forecast not adjusted\n",
    "- 15 days in june, 3kWh, 1.5kWp"
   ]
  },
  {
   "cell_type": "code",
   "execution_count": 2,
   "metadata": {
    "hidden": true,
    "hide_input": true
   },
   "outputs": [],
   "source": [
    "cons_gam = {\n",
    "    \"model\": GAM,\n",
    "    \"kwarg\": {\n",
    "        \"inputs\": [],\n",
    "        \"daily_seasonality\": True,\n",
    "        \"weekly_seasonality\": True,\n",
    "        \"seasonality_mode\": \"additive\",\n",
    "        \"changepoint_prior_scale\": 0.05,\n",
    "        \"seasonality_prior_scale\": 0.1,\n",
    "        \"uncertainty_samples\": 0,\n",
    "    },\n",
    "    \"pipeline\": PipelineNoExog,\n",
    "    \"target\": \"cons_id\",\n",
    "}\n",
    "\n",
    "prod_gam = {\n",
    "    \"model\": GAM,\n",
    "    \"kwarg\": {\n",
    "        \"inputs\": [\"clearsky_ghi\", \"zenith\"],\n",
    "        \"daily_seasonality\": True,\n",
    "        \"weekly_seasonality\": False,\n",
    "        \"seasonality_mode\": \"additive\",\n",
    "        \"changepoint_prior_scale\": 0.05,\n",
    "        \"seasonality_prior_scale\": 0.1,\n",
    "        \"uncertainty_samples\": 0,\n",
    "    },\n",
    "    \"pipeline\": PipelineZenith,\n",
    "    \"target\": \"prod_id\",\n",
    "}\n",
    "\n",
    "cons_perfect = {\n",
    "    \"model\": Perfect,\n",
    "    \"kwarg\": {\n",
    "        \"inputs\": [],\n",
    "    },\n",
    "    \"pipeline\": PipelineNoExog,\n",
    "    \"target\": \"cons_id\",\n",
    "}\n",
    "\n",
    "prod_perfect = {\n",
    "    \"model\": Perfect,\n",
    "    \"kwarg\": {\n",
    "        \"inputs\": [],\n",
    "    },\n",
    "    \"pipeline\": PipelineNoExog,\n",
    "    \"target\": \"prod_id\",\n",
    "}\n",
    "\n",
    "costs = {\n",
    "        \"grid_buy\": 0.1740,\n",
    "        \"grid_fee\": 0.0371,  # 0.0686 for the \"real turpe\"\n",
    "        \"battery_aging_cost\": 0.001\n",
    "}\n",
    "\n",
    "two_days = timedelta(days=2)\n",
    "one_day = timedelta(days=1)\n",
    "\n",
    "models = []\n",
    "names = []\n",
    "names.append(\"Perfect\")\n",
    "models.append(Simulation(\n",
    "    cons_model=MultiModel(**cons_perfect),\n",
    "    prod_model=MultiModel(**prod_perfect),\n",
    "    optim_model=OptimizeBatteries(**costs),\n",
    "    realtime_model=False,\n",
    "    optim_horizon=two_days,\n",
    "    optim_freq=one_day,\n",
    "))\n",
    "\n",
    "names.append(\"GAM_NOTadjusted\")\n",
    "models.append(Simulation(\n",
    "    cons_model=MultiModel(**cons_gam),\n",
    "    prod_model=MultiModel(**prod_gam),\n",
    "    optim_model=OptimizeBatteries(**costs),\n",
    "    realtime_model=False,\n",
    "    optim_horizon=two_days,\n",
    "    optim_freq=one_day,\n",
    "))"
   ]
  },
  {
   "cell_type": "code",
   "execution_count": 3,
   "metadata": {
    "hidden": true
   },
   "outputs": [],
   "source": [
    "start = datetime(2019, 4, 1, 0, 0, 0)\n",
    "end = start + timedelta(days=29+7, hours=23, minutes=45)\n",
    "\n",
    "scenario = PVGISQuoilin(\n",
    "    start=start,\n",
    "    end=end,\n",
    "    consumption_file=\"../../pylec/studies/data/Synthetic.Household.Profiles.h5\",\n",
    "    production_file=\"../../pylec/studies/data/Timeseries_45.187_5.737_SA_1kWp_crystSi_0_39deg_-6deg_2015_2015.csv\",\n",
    "    pv_kw=3.0,\n",
    "    batt_kw=2.5,\n",
    "    batt_kwh=5.0,\n",
    "    community_size=False,\n",
    "    consumption_ids=['2000989', '2001197', '2000914', '2001123', '2000964', '2001189', \n",
    "       '2001111', '2001179', '2000909', '2000918', '2000994', '2001107', '2000913',\n",
    "       '2001139', '2000960', '2001149', '2001165', '2000954', '2001114',\n",
    "       '2000926'],\n",
    "    apply_topology=True,\n",
    ")\n",
    "\n",
    "timeseries, topology = scenario.create()\n",
    "scenarios = [1]\n",
    "datas = [{\n",
    "    \"data\": timeseries.copy(),\n",
    "    \"topology\": topology.copy(),\n",
    "    \"start\": start,\n",
    "    \"end\": end\n",
    "}]"
   ]
  },
  {
   "cell_type": "markdown",
   "metadata": {
    "heading_collapsed": true
   },
   "source": [
    "## Simulation"
   ]
  },
  {
   "cell_type": "code",
   "execution_count": 4,
   "metadata": {
    "hidden": true,
    "hide_input": false
   },
   "outputs": [
    {
     "name": "stdout",
     "output_type": "stream",
     "text": [
      "Perfect\n",
      "1 — total time elapsed 0:03:49.180381\n",
      "\n",
      "GAM_NOTadjusted\n",
      "1 — total time elapsed 0:06:26.179674\n",
      "\n"
     ]
    }
   ],
   "source": [
    "results, metrics = {}, {}\n",
    "for name, model in zip(names, models):\n",
    "    print(name)\n",
    "    results[name], metrics[name] = {}, {}\n",
    "    for data, scenario in zip(datas, scenarios):\n",
    "        _start_time = datetime.now()\n",
    "        with warnings.catch_warnings():\n",
    "            warnings.filterwarnings(\"ignore\")\n",
    "    \n",
    "            results[name][scenario], metrics[name][scenario] = model.run(**data)\n",
    "        \n",
    "        _time_elapsed = datetime.now() - _start_time\n",
    "        print(f\"{scenario} — total time elapsed {_time_elapsed}\")\n",
    "    print(\"\")"
   ]
  },
  {
   "cell_type": "markdown",
   "metadata": {},
   "source": [
    "## Training data"
   ]
  },
  {
   "cell_type": "code",
   "execution_count": 5,
   "metadata": {
    "hide_input": false
   },
   "outputs": [
    {
     "name": "stdout",
     "output_type": "stream",
     "text": [
      "['time', 'hour', 'member_id', 'soc', 'soc_*', 'netload_kw', 'f_netload_kw', 'epsilon', 'u_*', 'u', 'u_ind', 'u_virtual', 'sum_u_notme_netload', 'sum_epsilon', 'sum_netload_kw', 'sum_f_netload_kw', 'u_netload', 'sum_u_netload']\n"
     ]
    },
    {
     "data": {
      "text/html": [
       "<div>\n",
       "<style scoped>\n",
       "    .dataframe tbody tr th:only-of-type {\n",
       "        vertical-align: middle;\n",
       "    }\n",
       "\n",
       "    .dataframe tbody tr th {\n",
       "        vertical-align: top;\n",
       "    }\n",
       "\n",
       "    .dataframe thead th {\n",
       "        text-align: right;\n",
       "    }\n",
       "</style>\n",
       "<table border=\"1\" class=\"dataframe\">\n",
       "  <thead>\n",
       "    <tr style=\"text-align: right;\">\n",
       "      <th></th>\n",
       "      <th>time</th>\n",
       "      <th>hour</th>\n",
       "      <th>member_id</th>\n",
       "      <th>u_*</th>\n",
       "      <th>u</th>\n",
       "      <th>u_ind</th>\n",
       "      <th>u_virtual</th>\n",
       "      <th>soc_*</th>\n",
       "      <th>soc</th>\n",
       "      <th>netload_kw</th>\n",
       "      <th>f_netload_kw</th>\n",
       "    </tr>\n",
       "  </thead>\n",
       "  <tbody>\n",
       "    <tr>\n",
       "      <th>0</th>\n",
       "      <td>2019-04-01 00:00:00</td>\n",
       "      <td>0</td>\n",
       "      <td>0</td>\n",
       "      <td>-2.500000</td>\n",
       "      <td>0.0</td>\n",
       "      <td>0.0</td>\n",
       "      <td>0.0</td>\n",
       "      <td>2.280702</td>\n",
       "      <td>2.5</td>\n",
       "      <td>0.177383</td>\n",
       "      <td>0.642595</td>\n",
       "    </tr>\n",
       "    <tr>\n",
       "      <th>1</th>\n",
       "      <td>2019-04-01 00:05:00</td>\n",
       "      <td>0</td>\n",
       "      <td>0</td>\n",
       "      <td>-2.500000</td>\n",
       "      <td>0.0</td>\n",
       "      <td>0.0</td>\n",
       "      <td>0.0</td>\n",
       "      <td>2.061404</td>\n",
       "      <td>2.5</td>\n",
       "      <td>0.177383</td>\n",
       "      <td>0.642595</td>\n",
       "    </tr>\n",
       "    <tr>\n",
       "      <th>2</th>\n",
       "      <td>2019-04-01 00:10:00</td>\n",
       "      <td>0</td>\n",
       "      <td>0</td>\n",
       "      <td>-2.500000</td>\n",
       "      <td>0.0</td>\n",
       "      <td>0.0</td>\n",
       "      <td>0.0</td>\n",
       "      <td>1.842105</td>\n",
       "      <td>2.5</td>\n",
       "      <td>0.177383</td>\n",
       "      <td>0.642595</td>\n",
       "    </tr>\n",
       "    <tr>\n",
       "      <th>3</th>\n",
       "      <td>2019-04-01 00:15:00</td>\n",
       "      <td>0</td>\n",
       "      <td>0</td>\n",
       "      <td>-0.038346</td>\n",
       "      <td>0.0</td>\n",
       "      <td>0.0</td>\n",
       "      <td>0.0</td>\n",
       "      <td>1.838742</td>\n",
       "      <td>2.5</td>\n",
       "      <td>0.038346</td>\n",
       "      <td>0.620475</td>\n",
       "    </tr>\n",
       "    <tr>\n",
       "      <th>4</th>\n",
       "      <td>2019-04-01 00:20:00</td>\n",
       "      <td>0</td>\n",
       "      <td>0</td>\n",
       "      <td>-0.038346</td>\n",
       "      <td>0.0</td>\n",
       "      <td>0.0</td>\n",
       "      <td>0.0</td>\n",
       "      <td>1.835378</td>\n",
       "      <td>2.5</td>\n",
       "      <td>0.038346</td>\n",
       "      <td>0.620475</td>\n",
       "    </tr>\n",
       "  </tbody>\n",
       "</table>\n",
       "</div>"
      ],
      "text/plain": [
       "                 time  hour  member_id       u_*    u  u_ind  u_virtual  \\\n",
       "0 2019-04-01 00:00:00     0          0 -2.500000  0.0    0.0        0.0   \n",
       "1 2019-04-01 00:05:00     0          0 -2.500000  0.0    0.0        0.0   \n",
       "2 2019-04-01 00:10:00     0          0 -2.500000  0.0    0.0        0.0   \n",
       "3 2019-04-01 00:15:00     0          0 -0.038346  0.0    0.0        0.0   \n",
       "4 2019-04-01 00:20:00     0          0 -0.038346  0.0    0.0        0.0   \n",
       "\n",
       "      soc_*  soc  netload_kw  f_netload_kw  \n",
       "0  2.280702  2.5    0.177383      0.642595  \n",
       "1  2.061404  2.5    0.177383      0.642595  \n",
       "2  1.842105  2.5    0.177383      0.642595  \n",
       "3  1.838742  2.5    0.038346      0.620475  \n",
       "4  1.835378  2.5    0.038346      0.620475  "
      ]
     },
     "execution_count": 5,
     "metadata": {},
     "output_type": "execute_result"
    }
   ],
   "source": [
    "regression_df = pd.DataFrame()\n",
    "member_ids = metrics[\"GAM_NOTadjusted\"][1][\"member_ids\"]\n",
    "battery_ids = metrics[\"GAM_NOTadjusted\"][1][\"batt_ids\"]\n",
    "GAMresults = results[\"GAM_NOTadjusted\"][1]\n",
    "Perfectresults = results[\"Perfect\"][1]\n",
    "netload = lambda x, member_id, prefix: (x[f\"{prefix}cons_{member_id}\"] - x[f\"{prefix}prod_{member_id}\"])\n",
    "\n",
    "# Training data\n",
    "for member_id, battery_id in zip(member_ids, battery_ids):\n",
    "    df = pd.DataFrame()\n",
    "    df[\"time\"] = GAMresults.index\n",
    "    df[\"hour\"] = df[\"time\"].dt.hour\n",
    "    df[\"member_id\"] = member_id\n",
    "    \n",
    "    # SOC\n",
    "    df[\"soc\"] = GAMresults[f\"_batt_{battery_id}_kwh\"].values\n",
    "    df[\"soc_*\"] = Perfectresults[f\"_batt_{battery_id}_kwh\"].values\n",
    "    \n",
    "    # Individual netload\n",
    "    df[\"netload_kw\"] = netload(GAMresults, member_id, \"\").values\n",
    "    df[\"f_netload_kw\"] = netload(GAMresults, member_id, \"f\").values\n",
    "    df[\"epsilon\"] = df[\"netload_kw\"] - df[\"f_netload_kw\"]\n",
    "    \n",
    "    # Decision\n",
    "    df[\"u_*\"] = Perfectresults[f\"obatt_{battery_id}\"].values\n",
    "    df[\"u\"] = GAMresults[f\"obatt_{battery_id}\"].values\n",
    "    df[\"u_ind\"] = df[[\"u\", \"netload_kw\"]].apply(\n",
    "        lambda x: MatchSurplus._split_individual_collective(x.netload_kw, x.u)[0], axis=1)\n",
    "    df[\"u_virtual\"] = df[[\"u\", \"netload_kw\"]].apply(\n",
    "        lambda x: MatchSurplus._split_individual_collective(x.netload_kw, x.u)[1], axis=1)\n",
    "\n",
    "    regression_df = pd.concat([regression_df, df], axis=0, ignore_index=True)\n",
    "\n",
    "# An idea on the remaining for me at the community level\n",
    "tmp = []\n",
    "for member_id in member_ids:\n",
    "    _ = regression_df[regression_df.member_id != member_id].groupby(\"time\")[\"u\"].sum()\n",
    "    tmp.extend(_)\n",
    "regression_df[f\"sum_u_notme_netload\"] = tmp\n",
    "\n",
    "# Add community epsilon\n",
    "sum_epsilon = regression_df.groupby(\"time\")[\"epsilon\"].sum()\n",
    "regression_df[\"sum_epsilon\"] = [*sum_epsilon.values] * len(member_ids)\n",
    "netload_kw = regression_df.groupby(\"time\")[\"netload_kw\"].sum()\n",
    "regression_df[\"sum_netload_kw\"] = [*netload_kw.values] * len(member_ids)\n",
    "f_netload_kw = regression_df.groupby(\"time\")[\"f_netload_kw\"].sum()\n",
    "regression_df[\"sum_f_netload_kw\"] = [*f_netload_kw.values] * len(member_ids)\n",
    "regression_df[\"u_netload\"] = regression_df[\"u\"] + regression_df[\"netload_kw\"]\n",
    "u_virtual = regression_df.groupby(\"time\")[\"u\"].sum()\n",
    "regression_df[\"sum_u_netload\"] = [*u_virtual.values] * len(member_ids)\n",
    "regression_df[\"sum_u_netload\"] += regression_df[\"sum_netload_kw\"]\n",
    "regression_df[f\"sum_u_notme_netload\"] += regression_df[\"sum_netload_kw\"]\n",
    "\n",
    "view_columns = [\"time\", \"hour\", \"member_id\", \"u_*\", \"u\", \"u_ind\", \"u_virtual\",\n",
    "               \"soc_*\", \"soc\", \"netload_kw\", \"f_netload_kw\"]\n",
    "print(list(regression_df.columns))\n",
    "regression_df[view_columns].head()"
   ]
  },
  {
   "cell_type": "markdown",
   "metadata": {},
   "source": [
    "## Split and score functions"
   ]
  },
  {
   "cell_type": "code",
   "execution_count": 6,
   "metadata": {
    "hide_input": false
   },
   "outputs": [],
   "source": [
    "def split_train_test(regression_df, member_id, test_start, soc_threshold=500):\n",
    "    # Select the right member and resample to 15 min\n",
    "    member_df = regression_df[regression_df.member_id == member_id].copy()\n",
    "    member_df.set_index(\"time\", inplace=True)\n",
    "    member_df = member_df.resample(\"15T\").first()\n",
    "    member_df.reset_index(inplace=True)\n",
    "    \n",
    "    # Filter based on SOC threshold ?\n",
    "    battery_kwh = 5.0\n",
    "    mask_df = member_df.copy()\n",
    "    mask_df = mask_df[(mask_df[\"soc_*\"] - mask_df[\"soc\"]).abs()\n",
    "                      * 100 / battery_kwh < soc_threshold]\n",
    "    \n",
    "    # Split train and test\n",
    "    train_df = mask_df.copy()\n",
    "    train_df.set_index(\"time\", inplace=True)\n",
    "    train_df = train_df.loc[:test_start - timedelta(minutes=15)]\n",
    "    train_df.reset_index(inplace=True)\n",
    "    \n",
    "    test_df = member_df.copy()\n",
    "    test_df.set_index(\"time\", inplace=True)\n",
    "    test_df = test_df.loc[test_start:test_start + timedelta(hours=23, minutes=45)]\n",
    "    test_df.reset_index(inplace=True)\n",
    "    return train_df, test_df"
   ]
  },
  {
   "cell_type": "code",
   "execution_count": 7,
   "metadata": {
    "hide_input": false
   },
   "outputs": [],
   "source": [
    "def _capacity_filter(in_kw, soc_kwh, b_spec, deltat):\n",
    "    # Energy\n",
    "    offset = b_spec[\"max_kwh\"] * (b_spec[\"offset\"] + 0.000001)\n",
    "    max_charg_kW = max(\n",
    "        0, (b_spec[\"max_kwh\"] - offset - soc_kwh) / (b_spec[\"eta\"] * deltat / 60)\n",
    "    )\n",
    "    if in_kw > max_charg_kW:\n",
    "        in_kw = max_charg_kW\n",
    "\n",
    "    max_discharg_kW = min(0, (0 + offset - soc_kwh) * b_spec[\"eta\"] / (deltat / 60))\n",
    "    if in_kw < max_discharg_kW:\n",
    "        in_kw = max_discharg_kW\n",
    "\n",
    "    # Power\n",
    "    if in_kw > b_spec[\"max_kw\"]:\n",
    "        in_kw = b_spec[\"max_kw\"] - 0.000001\n",
    "\n",
    "    if in_kw < -b_spec[\"min_kw\"]:\n",
    "        in_kw = -b_spec[\"min_kw\"] + 0.000001\n",
    "    return in_kw\n",
    "\n",
    "def update_soc(pbattery, previous_soc_kwh, spec, deltat):\n",
    "    # Power\n",
    "    assert pbattery <= spec[\"max_kw\"], f\"{pbattery} <= {spec['max_kw']}\"\n",
    "    assert pbattery >= -spec[\"min_kw\"], f\"{pbattery} >= {-spec['min_kw']}\"\n",
    "\n",
    "    # Energy\n",
    "    if pbattery > 0:\n",
    "        _eta = spec[\"eta\"]\n",
    "    else:\n",
    "        _eta = 1 / spec[\"eta\"]\n",
    "    new_soc_kwh = previous_soc_kwh + _eta * pbattery * deltat / 60\n",
    "    assert new_soc_kwh <= spec[\"max_kwh\"], f\"{new_soc_kwh}\"\n",
    "    assert new_soc_kwh >= 0, f\"{new_soc_kwh}\"\n",
    "    return new_soc_kwh\n",
    "\n",
    "def score(test_df, adjust_model, features):\n",
    "    prior_error = test_df[\"u_*\"].values - test_df[\"u\"].values\n",
    "    \n",
    "    # Add battery constraints\n",
    "    b_spec = {\"max_kwh\": 5.0, \"offset\": 0, \"eta\": 0.95, \"max_kw\": 2.5, \"min_kw\": 2.5}\n",
    "    uhats = []\n",
    "    _uhats = adjust_model.predict(test_df[features].values)\n",
    "    soc_kwhs = [test_df[\"soc\"].values[0]]\n",
    "    for i, val in enumerate(_uhats):\n",
    "        uhat = _capacity_filter(val, soc_kwhs[i], b_spec, deltat=5)\n",
    "        soc_kwhs.append(update_soc(uhat, soc_kwhs[i], b_spec, deltat=5))\n",
    "        uhats.append(uhat)\n",
    "    np.array(uhats)\n",
    "    \n",
    "    error_after = test_df[\"u_*\"].values - uhats\n",
    "    errors = pd.DataFrame(data={\"Uhat=U (before)\": prior_error, \"Uhat=g() (after)\": error_after})\n",
    "    \n",
    "    # (Error with U - Error with g()) * 100 / Error with U\n",
    "    score = round((errors['Uhat=U (before)'].abs().sum() -\n",
    "                   errors['Uhat=g() (after)'].abs().sum()) * 100 /\n",
    "                   errors['Uhat=U (before)'].abs().sum(), 2)\n",
    "    return score"
   ]
  },
  {
   "cell_type": "markdown",
   "metadata": {},
   "source": [
    "# Illustrate a parametrization"
   ]
  },
  {
   "cell_type": "code",
   "execution_count": 25,
   "metadata": {},
   "outputs": [],
   "source": [
    "import copy\n",
    "from sklearn.linear_model import LinearRegression\n",
    "from lineartree import LinearTreeRegressor\n",
    "\n",
    "test_date_range = [start + timedelta(days=x) for x in range(29, 29+7)]\n",
    "features = [\n",
    " 'hour',        \n",
    " 'soc',           \n",
    " 'netload_kw',      \n",
    " 'f_netload_kw',    \n",
    " 'epsilon',       \n",
    " 'u',\n",
    " 'u_ind',           \n",
    " 'u_virtual',        \n",
    " 'sum_epsilon',    \n",
    " 'sum_netload_kw', \n",
    " 'sum_f_netload_kw',\n",
    " 'sum_u_netload',\n",
    " \"sum_u_notme_netload\"\n",
    "]\n",
    "\n",
    "# Model definition\n",
    "# ################\n",
    "adjust_model = LinearTreeRegressor(\n",
    "    base_estimator=LinearRegression(),\n",
    "    max_depth=5,\n",
    "    linear_features=[\n",
    "        features.index(\"u\"),\n",
    "        features.index(\"netload_kw\"),\n",
    "        features.index(\"sum_netload_kw\"),\n",
    "    ],\n",
    "    split_features=[\n",
    "        #features.index(\"u\"),\n",
    "        features.index(\"netload_kw\"),\n",
    "        features.index(\"epsilon\"),\n",
    "        features.index(\"sum_netload_kw\"),\n",
    "        \n",
    "        #features.index(\"hour\"),\n",
    "        #features.index(\"soc\"),\n",
    "        #features.index(\"u\"),\n",
    "        #features.index(\"u_ind\"),\n",
    "        #features.index(\"u_virtual\"),\n",
    "        #features.index(\"sum_epsilon\"),\n",
    "    ],\n",
    "    min_samples_leaf=0.1, max_bins=25)\n",
    "# ################\n",
    "\n",
    "models = []\n",
    "scores = {\"member_id\": [], \"score\": []}\n",
    "for member_id in regression_df.member_id.unique():\n",
    "    for start_test in test_date_range:\n",
    "        # Split and filter data\n",
    "        train_df, test_df = split_train_test(\n",
    "            regression_df, member_id=member_id, test_start=start_test)\n",
    "        \n",
    "        # Fit model\n",
    "        adjust_model = adjust_model.fit(train_df[features].values, train_df[\"u_*\"].values)\n",
    "        \n",
    "        # Score\n",
    "        scores[\"member_id\"].append(member_id)\n",
    "        scores[\"score\"].append(score(test_df, adjust_model, features))\n",
    "    models.append(copy.deepcopy(adjust_model))"
   ]
  },
  {
   "cell_type": "code",
   "execution_count": 30,
   "metadata": {},
   "outputs": [
    {
     "name": "stdout",
     "output_type": "stream",
     "text": [
      "Mean value 31.47 %\n"
     ]
    },
    {
     "data": {
      "application/vnd.plotly.v1+json": {
       "config": {
        "plotlyServerURL": "https://plot.ly"
       },
       "data": [
        {
         "alignmentgroup": "True",
         "bingroup": "x",
         "histnorm": "percent",
         "hovertemplate": "variable=score<br>value=%{x}<br>percent=%{y}<extra></extra>",
         "legendgroup": "score",
         "marker": {
          "color": "rgba(255, 127, 14, 0.7)",
          "line": {
           "color": "black",
           "width": 2
          },
          "opacity": 0.7,
          "pattern": {
           "shape": ""
          }
         },
         "name": "score",
         "nbinsx": 10,
         "offsetgroup": "score",
         "orientation": "v",
         "showlegend": true,
         "type": "histogram",
         "x": [
          13.54,
          64.23,
          40.34,
          88.56,
          39.14,
          17.91,
          22.45,
          28.09,
          68.16,
          21.43,
          62.97,
          22.33,
          -58.09,
          -17.9,
          53.94,
          72.72,
          13.3,
          65.4,
          73.21,
          45.38,
          3.3,
          24.35,
          54.39,
          26.64,
          55.54,
          53.14,
          71.05,
          12.52,
          16.73,
          31.38,
          20.88,
          60.81,
          33.14,
          25.25,
          26.21,
          23.13,
          40.21,
          57.52,
          68.29,
          66.17,
          -0.38,
          -7.9,
          14.68,
          38.34,
          22.66,
          53.65,
          42.85,
          25.84,
          7.41,
          24.52,
          77.04,
          16.19,
          63.75,
          37.46,
          72.84,
          11.39,
          -27.96,
          67.5,
          38.31,
          55.63,
          49.57,
          42.13,
          5.94,
          29.11,
          76.36,
          45.58,
          79.81,
          28.35,
          48.02,
          15.52,
          18.87,
          80.29,
          19.62,
          72.54,
          7.96,
          63.75,
          -1.43,
          27.12,
          74.12,
          23.77,
          73.49,
          29.8,
          62.31,
          24.42,
          10.32,
          35.68,
          32.81,
          67.9,
          28.36,
          62.25,
          15.58,
          17.92,
          51.82,
          36.4,
          71.57,
          45.78,
          42.39,
          -4.33,
          15.05,
          53.33,
          58.09,
          72.12,
          60.33,
          36.03,
          -12.13,
          13.79,
          44.41,
          28.15,
          53.97,
          21.91,
          -14.12,
          31.73,
          22.96,
          56.99,
          49.36,
          79.88,
          -17.66,
          7.56,
          13.49,
          -4.14,
          50.34,
          43.64,
          62.87,
          -39.03,
          -1.07,
          30.17,
          53.58,
          27.1,
          59.62,
          34.45,
          65.31,
          -3.44,
          27.23,
          61.76,
          50.47,
          65.76,
          23.12,
          48.48,
          7.85
         ],
         "xaxis": "x",
         "yaxis": "y"
        },
        {
         "alignmentgroup": "True",
         "hovertemplate": "variable=score<br>value=%{x}<extra></extra>",
         "legendgroup": "score",
         "marker": {
          "color": "rgba(255, 127, 14, 0.7)",
          "line": {
           "color": "black",
           "width": 2
          },
          "opacity": 0.7
         },
         "name": "score",
         "notched": true,
         "offsetgroup": "score",
         "showlegend": false,
         "type": "box",
         "x": [
          13.54,
          64.23,
          40.34,
          88.56,
          39.14,
          17.91,
          22.45,
          28.09,
          68.16,
          21.43,
          62.97,
          22.33,
          -58.09,
          -17.9,
          53.94,
          72.72,
          13.3,
          65.4,
          73.21,
          45.38,
          3.3,
          24.35,
          54.39,
          26.64,
          55.54,
          53.14,
          71.05,
          12.52,
          16.73,
          31.38,
          20.88,
          60.81,
          33.14,
          25.25,
          26.21,
          23.13,
          40.21,
          57.52,
          68.29,
          66.17,
          -0.38,
          -7.9,
          14.68,
          38.34,
          22.66,
          53.65,
          42.85,
          25.84,
          7.41,
          24.52,
          77.04,
          16.19,
          63.75,
          37.46,
          72.84,
          11.39,
          -27.96,
          67.5,
          38.31,
          55.63,
          49.57,
          42.13,
          5.94,
          29.11,
          76.36,
          45.58,
          79.81,
          28.35,
          48.02,
          15.52,
          18.87,
          80.29,
          19.62,
          72.54,
          7.96,
          63.75,
          -1.43,
          27.12,
          74.12,
          23.77,
          73.49,
          29.8,
          62.31,
          24.42,
          10.32,
          35.68,
          32.81,
          67.9,
          28.36,
          62.25,
          15.58,
          17.92,
          51.82,
          36.4,
          71.57,
          45.78,
          42.39,
          -4.33,
          15.05,
          53.33,
          58.09,
          72.12,
          60.33,
          36.03,
          -12.13,
          13.79,
          44.41,
          28.15,
          53.97,
          21.91,
          -14.12,
          31.73,
          22.96,
          56.99,
          49.36,
          79.88,
          -17.66,
          7.56,
          13.49,
          -4.14,
          50.34,
          43.64,
          62.87,
          -39.03,
          -1.07,
          30.17,
          53.58,
          27.1,
          59.62,
          34.45,
          65.31,
          -3.44,
          27.23,
          61.76,
          50.47,
          65.76,
          23.12,
          48.48,
          7.85
         ],
         "xaxis": "x2",
         "yaxis": "y2"
        }
       ],
       "layout": {
        "barmode": "relative",
        "font": {
         "size": 19
        },
        "height": 550,
        "legend": {
         "title": {
          "text": "variable"
         },
         "tracegroupgap": 0
        },
        "margin": {
         "b": 10,
         "l": 10,
         "r": 10,
         "t": 10
        },
        "showlegend": false,
        "template": {
         "data": {
          "bar": [
           {
            "error_x": {
             "color": "#2a3f5f"
            },
            "error_y": {
             "color": "#2a3f5f"
            },
            "marker": {
             "line": {
              "color": "white",
              "width": 0.5
             },
             "pattern": {
              "fillmode": "overlay",
              "size": 10,
              "solidity": 0.2
             }
            },
            "type": "bar"
           }
          ],
          "barpolar": [
           {
            "marker": {
             "line": {
              "color": "white",
              "width": 0.5
             },
             "pattern": {
              "fillmode": "overlay",
              "size": 10,
              "solidity": 0.2
             }
            },
            "type": "barpolar"
           }
          ],
          "carpet": [
           {
            "aaxis": {
             "endlinecolor": "#2a3f5f",
             "gridcolor": "#C8D4E3",
             "linecolor": "#C8D4E3",
             "minorgridcolor": "#C8D4E3",
             "startlinecolor": "#2a3f5f"
            },
            "baxis": {
             "endlinecolor": "#2a3f5f",
             "gridcolor": "#C8D4E3",
             "linecolor": "#C8D4E3",
             "minorgridcolor": "#C8D4E3",
             "startlinecolor": "#2a3f5f"
            },
            "type": "carpet"
           }
          ],
          "choropleth": [
           {
            "colorbar": {
             "outlinewidth": 0,
             "ticks": ""
            },
            "type": "choropleth"
           }
          ],
          "contour": [
           {
            "colorbar": {
             "outlinewidth": 0,
             "ticks": ""
            },
            "colorscale": [
             [
              0,
              "#0d0887"
             ],
             [
              0.1111111111111111,
              "#46039f"
             ],
             [
              0.2222222222222222,
              "#7201a8"
             ],
             [
              0.3333333333333333,
              "#9c179e"
             ],
             [
              0.4444444444444444,
              "#bd3786"
             ],
             [
              0.5555555555555556,
              "#d8576b"
             ],
             [
              0.6666666666666666,
              "#ed7953"
             ],
             [
              0.7777777777777778,
              "#fb9f3a"
             ],
             [
              0.8888888888888888,
              "#fdca26"
             ],
             [
              1,
              "#f0f921"
             ]
            ],
            "type": "contour"
           }
          ],
          "contourcarpet": [
           {
            "colorbar": {
             "outlinewidth": 0,
             "ticks": ""
            },
            "type": "contourcarpet"
           }
          ],
          "heatmap": [
           {
            "colorbar": {
             "outlinewidth": 0,
             "ticks": ""
            },
            "colorscale": [
             [
              0,
              "#0d0887"
             ],
             [
              0.1111111111111111,
              "#46039f"
             ],
             [
              0.2222222222222222,
              "#7201a8"
             ],
             [
              0.3333333333333333,
              "#9c179e"
             ],
             [
              0.4444444444444444,
              "#bd3786"
             ],
             [
              0.5555555555555556,
              "#d8576b"
             ],
             [
              0.6666666666666666,
              "#ed7953"
             ],
             [
              0.7777777777777778,
              "#fb9f3a"
             ],
             [
              0.8888888888888888,
              "#fdca26"
             ],
             [
              1,
              "#f0f921"
             ]
            ],
            "type": "heatmap"
           }
          ],
          "heatmapgl": [
           {
            "colorbar": {
             "outlinewidth": 0,
             "ticks": ""
            },
            "colorscale": [
             [
              0,
              "#0d0887"
             ],
             [
              0.1111111111111111,
              "#46039f"
             ],
             [
              0.2222222222222222,
              "#7201a8"
             ],
             [
              0.3333333333333333,
              "#9c179e"
             ],
             [
              0.4444444444444444,
              "#bd3786"
             ],
             [
              0.5555555555555556,
              "#d8576b"
             ],
             [
              0.6666666666666666,
              "#ed7953"
             ],
             [
              0.7777777777777778,
              "#fb9f3a"
             ],
             [
              0.8888888888888888,
              "#fdca26"
             ],
             [
              1,
              "#f0f921"
             ]
            ],
            "type": "heatmapgl"
           }
          ],
          "histogram": [
           {
            "marker": {
             "pattern": {
              "fillmode": "overlay",
              "size": 10,
              "solidity": 0.2
             }
            },
            "type": "histogram"
           }
          ],
          "histogram2d": [
           {
            "colorbar": {
             "outlinewidth": 0,
             "ticks": ""
            },
            "colorscale": [
             [
              0,
              "#0d0887"
             ],
             [
              0.1111111111111111,
              "#46039f"
             ],
             [
              0.2222222222222222,
              "#7201a8"
             ],
             [
              0.3333333333333333,
              "#9c179e"
             ],
             [
              0.4444444444444444,
              "#bd3786"
             ],
             [
              0.5555555555555556,
              "#d8576b"
             ],
             [
              0.6666666666666666,
              "#ed7953"
             ],
             [
              0.7777777777777778,
              "#fb9f3a"
             ],
             [
              0.8888888888888888,
              "#fdca26"
             ],
             [
              1,
              "#f0f921"
             ]
            ],
            "type": "histogram2d"
           }
          ],
          "histogram2dcontour": [
           {
            "colorbar": {
             "outlinewidth": 0,
             "ticks": ""
            },
            "colorscale": [
             [
              0,
              "#0d0887"
             ],
             [
              0.1111111111111111,
              "#46039f"
             ],
             [
              0.2222222222222222,
              "#7201a8"
             ],
             [
              0.3333333333333333,
              "#9c179e"
             ],
             [
              0.4444444444444444,
              "#bd3786"
             ],
             [
              0.5555555555555556,
              "#d8576b"
             ],
             [
              0.6666666666666666,
              "#ed7953"
             ],
             [
              0.7777777777777778,
              "#fb9f3a"
             ],
             [
              0.8888888888888888,
              "#fdca26"
             ],
             [
              1,
              "#f0f921"
             ]
            ],
            "type": "histogram2dcontour"
           }
          ],
          "mesh3d": [
           {
            "colorbar": {
             "outlinewidth": 0,
             "ticks": ""
            },
            "type": "mesh3d"
           }
          ],
          "parcoords": [
           {
            "line": {
             "colorbar": {
              "outlinewidth": 0,
              "ticks": ""
             }
            },
            "type": "parcoords"
           }
          ],
          "pie": [
           {
            "automargin": true,
            "type": "pie"
           }
          ],
          "scatter": [
           {
            "marker": {
             "colorbar": {
              "outlinewidth": 0,
              "ticks": ""
             }
            },
            "type": "scatter"
           }
          ],
          "scatter3d": [
           {
            "line": {
             "colorbar": {
              "outlinewidth": 0,
              "ticks": ""
             }
            },
            "marker": {
             "colorbar": {
              "outlinewidth": 0,
              "ticks": ""
             }
            },
            "type": "scatter3d"
           }
          ],
          "scattercarpet": [
           {
            "marker": {
             "colorbar": {
              "outlinewidth": 0,
              "ticks": ""
             }
            },
            "type": "scattercarpet"
           }
          ],
          "scattergeo": [
           {
            "marker": {
             "colorbar": {
              "outlinewidth": 0,
              "ticks": ""
             }
            },
            "type": "scattergeo"
           }
          ],
          "scattergl": [
           {
            "marker": {
             "colorbar": {
              "outlinewidth": 0,
              "ticks": ""
             }
            },
            "type": "scattergl"
           }
          ],
          "scattermapbox": [
           {
            "marker": {
             "colorbar": {
              "outlinewidth": 0,
              "ticks": ""
             }
            },
            "type": "scattermapbox"
           }
          ],
          "scatterpolar": [
           {
            "marker": {
             "colorbar": {
              "outlinewidth": 0,
              "ticks": ""
             }
            },
            "type": "scatterpolar"
           }
          ],
          "scatterpolargl": [
           {
            "marker": {
             "colorbar": {
              "outlinewidth": 0,
              "ticks": ""
             }
            },
            "type": "scatterpolargl"
           }
          ],
          "scatterternary": [
           {
            "marker": {
             "colorbar": {
              "outlinewidth": 0,
              "ticks": ""
             }
            },
            "type": "scatterternary"
           }
          ],
          "surface": [
           {
            "colorbar": {
             "outlinewidth": 0,
             "ticks": ""
            },
            "colorscale": [
             [
              0,
              "#0d0887"
             ],
             [
              0.1111111111111111,
              "#46039f"
             ],
             [
              0.2222222222222222,
              "#7201a8"
             ],
             [
              0.3333333333333333,
              "#9c179e"
             ],
             [
              0.4444444444444444,
              "#bd3786"
             ],
             [
              0.5555555555555556,
              "#d8576b"
             ],
             [
              0.6666666666666666,
              "#ed7953"
             ],
             [
              0.7777777777777778,
              "#fb9f3a"
             ],
             [
              0.8888888888888888,
              "#fdca26"
             ],
             [
              1,
              "#f0f921"
             ]
            ],
            "type": "surface"
           }
          ],
          "table": [
           {
            "cells": {
             "fill": {
              "color": "#EBF0F8"
             },
             "line": {
              "color": "white"
             }
            },
            "header": {
             "fill": {
              "color": "#C8D4E3"
             },
             "line": {
              "color": "white"
             }
            },
            "type": "table"
           }
          ]
         },
         "layout": {
          "annotationdefaults": {
           "arrowcolor": "#2a3f5f",
           "arrowhead": 0,
           "arrowwidth": 1
          },
          "autotypenumbers": "strict",
          "coloraxis": {
           "colorbar": {
            "outlinewidth": 0,
            "ticks": ""
           }
          },
          "colorscale": {
           "diverging": [
            [
             0,
             "#8e0152"
            ],
            [
             0.1,
             "#c51b7d"
            ],
            [
             0.2,
             "#de77ae"
            ],
            [
             0.3,
             "#f1b6da"
            ],
            [
             0.4,
             "#fde0ef"
            ],
            [
             0.5,
             "#f7f7f7"
            ],
            [
             0.6,
             "#e6f5d0"
            ],
            [
             0.7,
             "#b8e186"
            ],
            [
             0.8,
             "#7fbc41"
            ],
            [
             0.9,
             "#4d9221"
            ],
            [
             1,
             "#276419"
            ]
           ],
           "sequential": [
            [
             0,
             "#0d0887"
            ],
            [
             0.1111111111111111,
             "#46039f"
            ],
            [
             0.2222222222222222,
             "#7201a8"
            ],
            [
             0.3333333333333333,
             "#9c179e"
            ],
            [
             0.4444444444444444,
             "#bd3786"
            ],
            [
             0.5555555555555556,
             "#d8576b"
            ],
            [
             0.6666666666666666,
             "#ed7953"
            ],
            [
             0.7777777777777778,
             "#fb9f3a"
            ],
            [
             0.8888888888888888,
             "#fdca26"
            ],
            [
             1,
             "#f0f921"
            ]
           ],
           "sequentialminus": [
            [
             0,
             "#0d0887"
            ],
            [
             0.1111111111111111,
             "#46039f"
            ],
            [
             0.2222222222222222,
             "#7201a8"
            ],
            [
             0.3333333333333333,
             "#9c179e"
            ],
            [
             0.4444444444444444,
             "#bd3786"
            ],
            [
             0.5555555555555556,
             "#d8576b"
            ],
            [
             0.6666666666666666,
             "#ed7953"
            ],
            [
             0.7777777777777778,
             "#fb9f3a"
            ],
            [
             0.8888888888888888,
             "#fdca26"
            ],
            [
             1,
             "#f0f921"
            ]
           ]
          },
          "colorway": [
           "#636efa",
           "#EF553B",
           "#00cc96",
           "#ab63fa",
           "#FFA15A",
           "#19d3f3",
           "#FF6692",
           "#B6E880",
           "#FF97FF",
           "#FECB52"
          ],
          "font": {
           "color": "#2a3f5f"
          },
          "geo": {
           "bgcolor": "white",
           "lakecolor": "white",
           "landcolor": "white",
           "showlakes": true,
           "showland": true,
           "subunitcolor": "#C8D4E3"
          },
          "hoverlabel": {
           "align": "left"
          },
          "hovermode": "closest",
          "mapbox": {
           "style": "light"
          },
          "paper_bgcolor": "white",
          "plot_bgcolor": "white",
          "polar": {
           "angularaxis": {
            "gridcolor": "#EBF0F8",
            "linecolor": "#EBF0F8",
            "ticks": ""
           },
           "bgcolor": "white",
           "radialaxis": {
            "gridcolor": "#EBF0F8",
            "linecolor": "#EBF0F8",
            "ticks": ""
           }
          },
          "scene": {
           "xaxis": {
            "backgroundcolor": "white",
            "gridcolor": "#DFE8F3",
            "gridwidth": 2,
            "linecolor": "#EBF0F8",
            "showbackground": true,
            "ticks": "",
            "zerolinecolor": "#EBF0F8"
           },
           "yaxis": {
            "backgroundcolor": "white",
            "gridcolor": "#DFE8F3",
            "gridwidth": 2,
            "linecolor": "#EBF0F8",
            "showbackground": true,
            "ticks": "",
            "zerolinecolor": "#EBF0F8"
           },
           "zaxis": {
            "backgroundcolor": "white",
            "gridcolor": "#DFE8F3",
            "gridwidth": 2,
            "linecolor": "#EBF0F8",
            "showbackground": true,
            "ticks": "",
            "zerolinecolor": "#EBF0F8"
           }
          },
          "shapedefaults": {
           "line": {
            "color": "#2a3f5f"
           }
          },
          "ternary": {
           "aaxis": {
            "gridcolor": "#DFE8F3",
            "linecolor": "#A2B1C6",
            "ticks": ""
           },
           "baxis": {
            "gridcolor": "#DFE8F3",
            "linecolor": "#A2B1C6",
            "ticks": ""
           },
           "bgcolor": "white",
           "caxis": {
            "gridcolor": "#DFE8F3",
            "linecolor": "#A2B1C6",
            "ticks": ""
           }
          },
          "title": {
           "x": 0.05
          },
          "xaxis": {
           "automargin": true,
           "gridcolor": "#EBF0F8",
           "linecolor": "#EBF0F8",
           "ticks": "",
           "title": {
            "standoff": 15
           },
           "zerolinecolor": "#EBF0F8",
           "zerolinewidth": 2
          },
          "yaxis": {
           "automargin": true,
           "gridcolor": "#EBF0F8",
           "linecolor": "#EBF0F8",
           "ticks": "",
           "title": {
            "standoff": 15
           },
           "zerolinecolor": "#EBF0F8",
           "zerolinewidth": 2
          }
         }
        },
        "width": 850,
        "xaxis": {
         "anchor": "y",
         "domain": [
          0,
          1
         ],
         "dtick": 20,
         "range": [
          -100,
          100
         ],
         "title": {
          "text": "Improvement with linear trees (closer to p*) [%]"
         },
         "type": "linear",
         "zerolinecolor": "black",
         "zerolinewidth": 2
        },
        "xaxis2": {
         "anchor": "y2",
         "domain": [
          0,
          1
         ],
         "matches": "x",
         "showgrid": true,
         "showticklabels": false,
         "type": "linear"
        },
        "yaxis": {
         "anchor": "x",
         "autorange": true,
         "domain": [
          0,
          0.7326
         ],
         "range": [
          0,
          29.534267322983716
         ],
         "title": {
          "text": "Occurrence [%]"
         },
         "zerolinecolor": "black",
         "zerolinewidth": 2
        },
        "yaxis2": {
         "anchor": "x2",
         "autorange": true,
         "domain": [
          0.7426,
          1
         ],
         "matches": "y2",
         "range": [
          -0.5,
          0.5
         ],
         "showgrid": false,
         "showline": false,
         "showticklabels": false,
         "ticks": "",
         "type": "category"
        }
       }
      },
      "image/png": "[encoded data removed]",
      "text/html": [
       "<div>                            <div id=\"f5760bd4-ed2d-4de4-834f-ebdd017632d1\" class=\"plotly-graph-div\" style=\"height:550px; width:850px;\"></div>            <script type=\"text/javascript\">                require([\"plotly\"], function(Plotly) {                    window.PLOTLYENV=window.PLOTLYENV || {};                                    if (document.getElementById(\"f5760bd4-ed2d-4de4-834f-ebdd017632d1\")) {                    Plotly.newPlot(                        \"f5760bd4-ed2d-4de4-834f-ebdd017632d1\",                        [{\"alignmentgroup\":\"True\",\"bingroup\":\"x\",\"histnorm\":\"percent\",\"hovertemplate\":\"variable=score<br>value=%{x}<br>percent=%{y}<extra></extra>\",\"legendgroup\":\"score\",\"marker\":{\"color\":\"rgba(255, 127, 14, 0.7)\",\"line\":{\"color\":\"black\",\"width\":2},\"opacity\":0.7,\"pattern\":{\"shape\":\"\"}},\"name\":\"score\",\"nbinsx\":10,\"offsetgroup\":\"score\",\"orientation\":\"v\",\"showlegend\":true,\"type\":\"histogram\",\"x\":[13.54,64.23,40.34,88.56,39.14,17.91,22.45,28.09,68.16,21.43,62.97,22.33,-58.09,-17.9,53.94,72.72,13.3,65.4,73.21,45.38,3.3,24.35,54.39,26.64,55.54,53.14,71.05,12.52,16.73,31.38,20.88,60.81,33.14,25.25,26.21,23.13,40.21,57.52,68.29,66.17,-0.38,-7.9,14.68,38.34,22.66,53.65,42.85,25.84,7.41,24.52,77.04,16.19,63.75,37.46,72.84,11.39,-27.96,67.5,38.31,55.63,49.57,42.13,5.94,29.11,76.36,45.58,79.81,28.35,48.02,15.52,18.87,80.29,19.62,72.54,7.96,63.75,-1.43,27.12,74.12,23.77,73.49,29.8,62.31,24.42,10.32,35.68,32.81,67.9,28.36,62.25,15.58,17.92,51.82,36.4,71.57,45.78,42.39,-4.33,15.05,53.33,58.09,72.12,60.33,36.03,-12.13,13.79,44.41,28.15,53.97,21.91,-14.12,31.73,22.96,56.99,49.36,79.88,-17.66,7.56,13.49,-4.14,50.34,43.64,62.87,-39.03,-1.07,30.17,53.58,27.1,59.62,34.45,65.31,-3.44,27.23,61.76,50.47,65.76,23.12,48.48,7.85],\"xaxis\":\"x\",\"yaxis\":\"y\"},{\"alignmentgroup\":\"True\",\"hovertemplate\":\"variable=score<br>value=%{x}<extra></extra>\",\"legendgroup\":\"score\",\"marker\":{\"color\":\"rgba(255, 127, 14, 0.7)\",\"line\":{\"color\":\"black\",\"width\":2},\"opacity\":0.7},\"name\":\"score\",\"notched\":true,\"offsetgroup\":\"score\",\"showlegend\":false,\"type\":\"box\",\"x\":[13.54,64.23,40.34,88.56,39.14,17.91,22.45,28.09,68.16,21.43,62.97,22.33,-58.09,-17.9,53.94,72.72,13.3,65.4,73.21,45.38,3.3,24.35,54.39,26.64,55.54,53.14,71.05,12.52,16.73,31.38,20.88,60.81,33.14,25.25,26.21,23.13,40.21,57.52,68.29,66.17,-0.38,-7.9,14.68,38.34,22.66,53.65,42.85,25.84,7.41,24.52,77.04,16.19,63.75,37.46,72.84,11.39,-27.96,67.5,38.31,55.63,49.57,42.13,5.94,29.11,76.36,45.58,79.81,28.35,48.02,15.52,18.87,80.29,19.62,72.54,7.96,63.75,-1.43,27.12,74.12,23.77,73.49,29.8,62.31,24.42,10.32,35.68,32.81,67.9,28.36,62.25,15.58,17.92,51.82,36.4,71.57,45.78,42.39,-4.33,15.05,53.33,58.09,72.12,60.33,36.03,-12.13,13.79,44.41,28.15,53.97,21.91,-14.12,31.73,22.96,56.99,49.36,79.88,-17.66,7.56,13.49,-4.14,50.34,43.64,62.87,-39.03,-1.07,30.17,53.58,27.1,59.62,34.45,65.31,-3.44,27.23,61.76,50.47,65.76,23.12,48.48,7.85],\"xaxis\":\"x2\",\"yaxis\":\"y2\"}],                        {\"barmode\":\"relative\",\"font\":{\"size\":19},\"height\":550,\"legend\":{\"title\":{\"text\":\"variable\"},\"tracegroupgap\":0},\"margin\":{\"b\":10,\"l\":10,\"r\":10,\"t\":10},\"showlegend\":false,\"template\":{\"data\":{\"bar\":[{\"error_x\":{\"color\":\"#2a3f5f\"},\"error_y\":{\"color\":\"#2a3f5f\"},\"marker\":{\"line\":{\"color\":\"white\",\"width\":0.5},\"pattern\":{\"fillmode\":\"overlay\",\"size\":10,\"solidity\":0.2}},\"type\":\"bar\"}],\"barpolar\":[{\"marker\":{\"line\":{\"color\":\"white\",\"width\":0.5},\"pattern\":{\"fillmode\":\"overlay\",\"size\":10,\"solidity\":0.2}},\"type\":\"barpolar\"}],\"carpet\":[{\"aaxis\":{\"endlinecolor\":\"#2a3f5f\",\"gridcolor\":\"#C8D4E3\",\"linecolor\":\"#C8D4E3\",\"minorgridcolor\":\"#C8D4E3\",\"startlinecolor\":\"#2a3f5f\"},\"baxis\":{\"endlinecolor\":\"#2a3f5f\",\"gridcolor\":\"#C8D4E3\",\"linecolor\":\"#C8D4E3\",\"minorgridcolor\":\"#C8D4E3\",\"startlinecolor\":\"#2a3f5f\"},\"type\":\"carpet\"}],\"choropleth\":[{\"colorbar\":{\"outlinewidth\":0,\"ticks\":\"\"},\"type\":\"choropleth\"}],\"contour\":[{\"colorbar\":{\"outlinewidth\":0,\"ticks\":\"\"},\"colorscale\":[[0.0,\"#0d0887\"],[0.1111111111111111,\"#46039f\"],[0.2222222222222222,\"#7201a8\"],[0.3333333333333333,\"#9c179e\"],[0.4444444444444444,\"#bd3786\"],[0.5555555555555556,\"#d8576b\"],[0.6666666666666666,\"#ed7953\"],[0.7777777777777778,\"#fb9f3a\"],[0.8888888888888888,\"#fdca26\"],[1.0,\"#f0f921\"]],\"type\":\"contour\"}],\"contourcarpet\":[{\"colorbar\":{\"outlinewidth\":0,\"ticks\":\"\"},\"type\":\"contourcarpet\"}],\"heatmap\":[{\"colorbar\":{\"outlinewidth\":0,\"ticks\":\"\"},\"colorscale\":[[0.0,\"#0d0887\"],[0.1111111111111111,\"#46039f\"],[0.2222222222222222,\"#7201a8\"],[0.3333333333333333,\"#9c179e\"],[0.4444444444444444,\"#bd3786\"],[0.5555555555555556,\"#d8576b\"],[0.6666666666666666,\"#ed7953\"],[0.7777777777777778,\"#fb9f3a\"],[0.8888888888888888,\"#fdca26\"],[1.0,\"#f0f921\"]],\"type\":\"heatmap\"}],\"heatmapgl\":[{\"colorbar\":{\"outlinewidth\":0,\"ticks\":\"\"},\"colorscale\":[[0.0,\"#0d0887\"],[0.1111111111111111,\"#46039f\"],[0.2222222222222222,\"#7201a8\"],[0.3333333333333333,\"#9c179e\"],[0.4444444444444444,\"#bd3786\"],[0.5555555555555556,\"#d8576b\"],[0.6666666666666666,\"#ed7953\"],[0.7777777777777778,\"#fb9f3a\"],[0.8888888888888888,\"#fdca26\"],[1.0,\"#f0f921\"]],\"type\":\"heatmapgl\"}],\"histogram\":[{\"marker\":{\"pattern\":{\"fillmode\":\"overlay\",\"size\":10,\"solidity\":0.2}},\"type\":\"histogram\"}],\"histogram2d\":[{\"colorbar\":{\"outlinewidth\":0,\"ticks\":\"\"},\"colorscale\":[[0.0,\"#0d0887\"],[0.1111111111111111,\"#46039f\"],[0.2222222222222222,\"#7201a8\"],[0.3333333333333333,\"#9c179e\"],[0.4444444444444444,\"#bd3786\"],[0.5555555555555556,\"#d8576b\"],[0.6666666666666666,\"#ed7953\"],[0.7777777777777778,\"#fb9f3a\"],[0.8888888888888888,\"#fdca26\"],[1.0,\"#f0f921\"]],\"type\":\"histogram2d\"}],\"histogram2dcontour\":[{\"colorbar\":{\"outlinewidth\":0,\"ticks\":\"\"},\"colorscale\":[[0.0,\"#0d0887\"],[0.1111111111111111,\"#46039f\"],[0.2222222222222222,\"#7201a8\"],[0.3333333333333333,\"#9c179e\"],[0.4444444444444444,\"#bd3786\"],[0.5555555555555556,\"#d8576b\"],[0.6666666666666666,\"#ed7953\"],[0.7777777777777778,\"#fb9f3a\"],[0.8888888888888888,\"#fdca26\"],[1.0,\"#f0f921\"]],\"type\":\"histogram2dcontour\"}],\"mesh3d\":[{\"colorbar\":{\"outlinewidth\":0,\"ticks\":\"\"},\"type\":\"mesh3d\"}],\"parcoords\":[{\"line\":{\"colorbar\":{\"outlinewidth\":0,\"ticks\":\"\"}},\"type\":\"parcoords\"}],\"pie\":[{\"automargin\":true,\"type\":\"pie\"}],\"scatter\":[{\"marker\":{\"colorbar\":{\"outlinewidth\":0,\"ticks\":\"\"}},\"type\":\"scatter\"}],\"scatter3d\":[{\"line\":{\"colorbar\":{\"outlinewidth\":0,\"ticks\":\"\"}},\"marker\":{\"colorbar\":{\"outlinewidth\":0,\"ticks\":\"\"}},\"type\":\"scatter3d\"}],\"scattercarpet\":[{\"marker\":{\"colorbar\":{\"outlinewidth\":0,\"ticks\":\"\"}},\"type\":\"scattercarpet\"}],\"scattergeo\":[{\"marker\":{\"colorbar\":{\"outlinewidth\":0,\"ticks\":\"\"}},\"type\":\"scattergeo\"}],\"scattergl\":[{\"marker\":{\"colorbar\":{\"outlinewidth\":0,\"ticks\":\"\"}},\"type\":\"scattergl\"}],\"scattermapbox\":[{\"marker\":{\"colorbar\":{\"outlinewidth\":0,\"ticks\":\"\"}},\"type\":\"scattermapbox\"}],\"scatterpolar\":[{\"marker\":{\"colorbar\":{\"outlinewidth\":0,\"ticks\":\"\"}},\"type\":\"scatterpolar\"}],\"scatterpolargl\":[{\"marker\":{\"colorbar\":{\"outlinewidth\":0,\"ticks\":\"\"}},\"type\":\"scatterpolargl\"}],\"scatterternary\":[{\"marker\":{\"colorbar\":{\"outlinewidth\":0,\"ticks\":\"\"}},\"type\":\"scatterternary\"}],\"surface\":[{\"colorbar\":{\"outlinewidth\":0,\"ticks\":\"\"},\"colorscale\":[[0.0,\"#0d0887\"],[0.1111111111111111,\"#46039f\"],[0.2222222222222222,\"#7201a8\"],[0.3333333333333333,\"#9c179e\"],[0.4444444444444444,\"#bd3786\"],[0.5555555555555556,\"#d8576b\"],[0.6666666666666666,\"#ed7953\"],[0.7777777777777778,\"#fb9f3a\"],[0.8888888888888888,\"#fdca26\"],[1.0,\"#f0f921\"]],\"type\":\"surface\"}],\"table\":[{\"cells\":{\"fill\":{\"color\":\"#EBF0F8\"},\"line\":{\"color\":\"white\"}},\"header\":{\"fill\":{\"color\":\"#C8D4E3\"},\"line\":{\"color\":\"white\"}},\"type\":\"table\"}]},\"layout\":{\"annotationdefaults\":{\"arrowcolor\":\"#2a3f5f\",\"arrowhead\":0,\"arrowwidth\":1},\"autotypenumbers\":\"strict\",\"coloraxis\":{\"colorbar\":{\"outlinewidth\":0,\"ticks\":\"\"}},\"colorscale\":{\"diverging\":[[0,\"#8e0152\"],[0.1,\"#c51b7d\"],[0.2,\"#de77ae\"],[0.3,\"#f1b6da\"],[0.4,\"#fde0ef\"],[0.5,\"#f7f7f7\"],[0.6,\"#e6f5d0\"],[0.7,\"#b8e186\"],[0.8,\"#7fbc41\"],[0.9,\"#4d9221\"],[1,\"#276419\"]],\"sequential\":[[0.0,\"#0d0887\"],[0.1111111111111111,\"#46039f\"],[0.2222222222222222,\"#7201a8\"],[0.3333333333333333,\"#9c179e\"],[0.4444444444444444,\"#bd3786\"],[0.5555555555555556,\"#d8576b\"],[0.6666666666666666,\"#ed7953\"],[0.7777777777777778,\"#fb9f3a\"],[0.8888888888888888,\"#fdca26\"],[1.0,\"#f0f921\"]],\"sequentialminus\":[[0.0,\"#0d0887\"],[0.1111111111111111,\"#46039f\"],[0.2222222222222222,\"#7201a8\"],[0.3333333333333333,\"#9c179e\"],[0.4444444444444444,\"#bd3786\"],[0.5555555555555556,\"#d8576b\"],[0.6666666666666666,\"#ed7953\"],[0.7777777777777778,\"#fb9f3a\"],[0.8888888888888888,\"#fdca26\"],[1.0,\"#f0f921\"]]},\"colorway\":[\"#636efa\",\"#EF553B\",\"#00cc96\",\"#ab63fa\",\"#FFA15A\",\"#19d3f3\",\"#FF6692\",\"#B6E880\",\"#FF97FF\",\"#FECB52\"],\"font\":{\"color\":\"#2a3f5f\"},\"geo\":{\"bgcolor\":\"white\",\"lakecolor\":\"white\",\"landcolor\":\"white\",\"showlakes\":true,\"showland\":true,\"subunitcolor\":\"#C8D4E3\"},\"hoverlabel\":{\"align\":\"left\"},\"hovermode\":\"closest\",\"mapbox\":{\"style\":\"light\"},\"paper_bgcolor\":\"white\",\"plot_bgcolor\":\"white\",\"polar\":{\"angularaxis\":{\"gridcolor\":\"#EBF0F8\",\"linecolor\":\"#EBF0F8\",\"ticks\":\"\"},\"bgcolor\":\"white\",\"radialaxis\":{\"gridcolor\":\"#EBF0F8\",\"linecolor\":\"#EBF0F8\",\"ticks\":\"\"}},\"scene\":{\"xaxis\":{\"backgroundcolor\":\"white\",\"gridcolor\":\"#DFE8F3\",\"gridwidth\":2,\"linecolor\":\"#EBF0F8\",\"showbackground\":true,\"ticks\":\"\",\"zerolinecolor\":\"#EBF0F8\"},\"yaxis\":{\"backgroundcolor\":\"white\",\"gridcolor\":\"#DFE8F3\",\"gridwidth\":2,\"linecolor\":\"#EBF0F8\",\"showbackground\":true,\"ticks\":\"\",\"zerolinecolor\":\"#EBF0F8\"},\"zaxis\":{\"backgroundcolor\":\"white\",\"gridcolor\":\"#DFE8F3\",\"gridwidth\":2,\"linecolor\":\"#EBF0F8\",\"showbackground\":true,\"ticks\":\"\",\"zerolinecolor\":\"#EBF0F8\"}},\"shapedefaults\":{\"line\":{\"color\":\"#2a3f5f\"}},\"ternary\":{\"aaxis\":{\"gridcolor\":\"#DFE8F3\",\"linecolor\":\"#A2B1C6\",\"ticks\":\"\"},\"baxis\":{\"gridcolor\":\"#DFE8F3\",\"linecolor\":\"#A2B1C6\",\"ticks\":\"\"},\"bgcolor\":\"white\",\"caxis\":{\"gridcolor\":\"#DFE8F3\",\"linecolor\":\"#A2B1C6\",\"ticks\":\"\"}},\"title\":{\"x\":0.05},\"xaxis\":{\"automargin\":true,\"gridcolor\":\"#EBF0F8\",\"linecolor\":\"#EBF0F8\",\"ticks\":\"\",\"title\":{\"standoff\":15},\"zerolinecolor\":\"#EBF0F8\",\"zerolinewidth\":2},\"yaxis\":{\"automargin\":true,\"gridcolor\":\"#EBF0F8\",\"linecolor\":\"#EBF0F8\",\"ticks\":\"\",\"title\":{\"standoff\":15},\"zerolinecolor\":\"#EBF0F8\",\"zerolinewidth\":2}}},\"width\":850,\"xaxis\":{\"anchor\":\"y\",\"domain\":[0.0,1.0],\"dtick\":20,\"range\":[-100,100],\"title\":{\"text\":\"Improvement with linear trees (closer to p*) [%]\"},\"zerolinecolor\":\"black\",\"zerolinewidth\":2},\"xaxis2\":{\"anchor\":\"y2\",\"domain\":[0.0,1.0],\"matches\":\"x\",\"showgrid\":true,\"showticklabels\":false},\"yaxis\":{\"anchor\":\"x\",\"domain\":[0.0,0.7326],\"title\":{\"text\":\"Occurrence [%]\"},\"zerolinecolor\":\"black\",\"zerolinewidth\":2},\"yaxis2\":{\"anchor\":\"x2\",\"domain\":[0.7426,1.0],\"matches\":\"y2\",\"showgrid\":false,\"showline\":false,\"showticklabels\":false,\"ticks\":\"\"}},                        {\"responsive\": true}                    ).then(function(){\n",
       "                            \n",
       "var gd = document.getElementById('f5760bd4-ed2d-4de4-834f-ebdd017632d1');\n",
       "var x = new MutationObserver(function (mutations, observer) {{\n",
       "        var display = window.getComputedStyle(gd).display;\n",
       "        if (!display || display === 'none') {{\n",
       "            console.log([gd, 'removed!']);\n",
       "            Plotly.purge(gd);\n",
       "            observer.disconnect();\n",
       "        }}\n",
       "}});\n",
       "\n",
       "// Listen for the removal of the full notebook cells\n",
       "var notebookContainer = gd.closest('#notebook-container');\n",
       "if (notebookContainer) {{\n",
       "    x.observe(notebookContainer, {childList: true});\n",
       "}}\n",
       "\n",
       "// Listen for the clearing of the current output cell\n",
       "var outputEl = gd.closest('.output');\n",
       "if (outputEl) {{\n",
       "    x.observe(outputEl, {childList: true});\n",
       "}}\n",
       "\n",
       "                        })                };                });            </script>        </div>"
      ]
     },
     "metadata": {},
     "output_type": "display_data"
    }
   ],
   "source": [
    "# Plot Score\n",
    "graph = pd.DataFrame(scores)\n",
    "graph.drop(columns=\"member_id\", inplace=True)\n",
    "print(f\"Mean value {round(graph.score.mean(), 2)} %\")\n",
    "\n",
    "\n",
    "_fig = px.histogram(graph[graph.score > -100], histnorm=\"percent\", nbins=10, marginal=\"box\")\n",
    "_fig.update_traces(marker_opacity=0.7, marker_line_color=\"black\", marker_line_width=2,\n",
    "                   marker_color=\"rgba(255, 127, 14, 0.7)\")\n",
    "\n",
    "_fig.update_layout(\n",
    "    layout, yaxis_title=\"Occurrence [%]\",\n",
    "    height=550,\n",
    "    width=850,\n",
    "    xaxis_title=\"Improvement with linear trees (closer to p*) [%]\",\n",
    "    xaxis_range=[-100, 100],\n",
    "    xaxis_dtick=20)\n",
    "_fig.show()"
   ]
  },
  {
   "cell_type": "code",
   "execution_count": 29,
   "metadata": {},
   "outputs": [
    {
     "name": "stdout",
     "output_type": "stream",
     "text": [
      "+----------------+--------------+\n",
      "| features       |   importance |\n",
      "|----------------+--------------|\n",
      "| netload_kw     |         0.89 |\n",
      "| sum_netload_kw |         0.06 |\n",
      "| epsilon        |         0.05 |\n",
      "+----------------+--------------+\n"
     ]
    },
    {
     "data": {
      "image/png": "[encoded data removed]",
      "text/plain": [
       "<IPython.core.display.Image object>"
      ]
     },
     "execution_count": 29,
     "metadata": {},
     "output_type": "execute_result"
    }
   ],
   "source": [
    "from tabulate import tabulate\n",
    "def printdf(df):\n",
    "    print(tabulate(df, headers='keys', tablefmt='psql'))\n",
    "\n",
    "index = -1\n",
    "\n",
    "feature_weight = pd.DataFrame(data={\"features\": features, \"importance\": models[index].feature_importances_})\n",
    "feature_weight = feature_weight.sort_values(\"importance\", ascending=False, ignore_index=True)\n",
    "feature_weight.set_index(\"features\", inplace=True)\n",
    "printdf(feature_weight.nlargest(3, \"importance\").round(2))\n",
    "\n",
    "models[index].plot_model(feature_names=features, max_depth=5)"
   ]
  },
  {
   "cell_type": "code",
   "execution_count": 31,
   "metadata": {},
   "outputs": [],
   "source": [
    "_fig.write_image(\"results/adjustment.svg\")"
   ]
  },
  {
   "cell_type": "code",
   "execution_count": 11,
   "metadata": {},
   "outputs": [],
   "source": [
    "#import plotly.graph_objects as go\n",
    "#__fig = go.Figure(_fig)\n",
    "\n",
    "#graph = pd.DataFrame(scores)\n",
    "#graph.drop(columns=\"member_id\", inplace=True)\n",
    "#print(f\"Mean value {round(graph.score.mean(), 2)} %\")\n",
    "\n",
    "#for trace in px.histogram(graph[graph.score > -100], histnorm=\"percent\", nbins=10).data:\n",
    "    #__fig.add_trace(trace)\n",
    "    #__fig.data[-1].update(marker_opacity=0.7, marker_line_color=\"black\",\n",
    "    #                      marker_line_width=2, marker_color=\"rgba(255, 127, 14, 0.7)\")\n",
    "    #__fig.layout.update(barmode=\"overlay\")\n",
    "#__fig.show()"
   ]
  },
  {
   "cell_type": "code",
   "execution_count": null,
   "metadata": {},
   "outputs": [],
   "source": []
  }
 ],
 "metadata": {
  "hide_input": false,
  "kernelspec": {
   "display_name": "Jonathan",
   "language": "python",
   "name": "jonathan"
  },
  "language_info": {
   "codemirror_mode": {
    "name": "ipython",
    "version": 3
   },
   "file_extension": ".py",
   "mimetype": "text/x-python",
   "name": "python",
   "nbconvert_exporter": "python",
   "pygments_lexer": "ipython3",
   "version": "3.8.9"
  },
  "toc": {
   "base_numbering": 1,
   "nav_menu": {},
   "number_sections": true,
   "sideBar": true,
   "skip_h1_title": false,
   "title_cell": "Table of Contents",
   "title_sidebar": "Contents",
   "toc_cell": false,
   "toc_position": {
    "height": "calc(100% - 180px)",
    "left": "10px",
    "top": "150px",
    "width": "328.6px"
   },
   "toc_section_display": true,
   "toc_window_display": true
  }
 },
 "nbformat": 4,
 "nbformat_minor": 4
}
