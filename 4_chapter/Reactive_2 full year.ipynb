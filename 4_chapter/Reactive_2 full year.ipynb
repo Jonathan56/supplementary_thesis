{
 "cells": [
  {
   "cell_type": "code",
   "execution_count": 1,
   "metadata": {},
   "outputs": [],
   "source": [
    "from datetime import datetime, timedelta\n",
    "import pandas as pd\n",
    "import numpy as np\n",
    "import plotly.express as px\n",
    "import warnings\n",
    "\n",
    "from tqdm.notebook import tqdm\n",
    "import pickle\n",
    "\n",
    "layout = {\n",
    "    'showlegend': True,\n",
    "    'margin': {'b':10, 'l':20, 'r':50, 't':50},\n",
    "    'font': {'size': 19},\n",
    "    'xaxis': {'zerolinewidth': 2, 'zerolinecolor':'black'},\n",
    "    'yaxis': {'zerolinewidth': 2, 'zerolinecolor':'black'},\n",
    "    'template': 'plotly_white',\n",
    "}\n",
    "\n",
    "px.defaults.color_discrete_sequence = px.colors.qualitative.T10"
   ]
  },
  {
   "cell_type": "markdown",
   "metadata": {},
   "source": [
    "# Import Quoilin dataset\n",
    "Data available at: https://github.com/squoilin/Self-Consumption/releases Synthetic.Household.Profiles.h5"
   ]
  },
  {
   "cell_type": "code",
   "execution_count": 2,
   "metadata": {},
   "outputs": [],
   "source": [
    "_individuals = pd.read_pickle(\"../2_chapter/fr_quoilin_data_valence.pickle\")\n",
    "individuals = _individuals.copy()\n",
    "house_ids=[\n",
    "    \"2000989\",\"2001197\",\"2000914\",\"2001123\",\"2000964\",\n",
    "    \"2001189\",\"2001111\",\"2001179\",\"2000909\",\"2000918\",\n",
    "    \"2000994\",\"2001107\",\"2000913\",\"2001139\",\"2000960\",\n",
    "    \"2001149\",\"2001165\",\"2000954\",\"2001114\",\"2000926\",\n",
    "]\n",
    "\n",
    "start = datetime(2019, 1, 1, 0, 0, 0)\n",
    "end = datetime(2019, 12, 31, 23, 45, 0)\n",
    "\n",
    "pv_size = 3\n",
    "individuals = individuals.loc[start:end, house_ids + [\"pv_1kw\"]]\n",
    "for col in individuals.columns:\n",
    "    individuals[col] -= pv_size * individuals[\"pv_1kw\"]\n",
    "individuals.drop(columns=[\"pv_1kw\"], inplace=True)"
   ]
  },
  {
   "cell_type": "markdown",
   "metadata": {},
   "source": [
    "# Get perfect schedule"
   ]
  },
  {
   "cell_type": "code",
   "execution_count": 3,
   "metadata": {
    "jupyter": {
     "source_hidden": true
    }
   },
   "outputs": [],
   "source": [
    "from pyomo.opt import SolverFactory\n",
    "from pyomo.environ import *\n",
    "from dataclasses import dataclass\n",
    "from datetime import timedelta\n",
    "\n",
    "\n",
    "@dataclass\n",
    "class OptimizeBatteries_quadratic:\n",
    "    grid_buy: float\n",
    "    grid_fee: float\n",
    "    battery_aging_cost: float = 0.0\n",
    "    only_return_schedules: bool = True\n",
    "    freq: int = 15\n",
    "    optim_horizon: timedelta = timedelta(days=2)\n",
    "    solver: str = \"gurobi\"\n",
    "    solver_path: str = None\n",
    "    verbose: bool = False\n",
    "    \n",
    "    def _solve(self, netloads, members, assets):\n",
    "        m = ConcreteModel()\n",
    "        batteries = assets[\"batt\"]\n",
    "\n",
    "        m.horizon = Set(initialize=list(netloads.keys()), ordered=True)\n",
    "        m.members = Set(initialize=list(members.keys()), ordered=True)\n",
    "        m.batteries = Set(initialize=list(batteries.keys()), ordered=True)\n",
    "\n",
    "        m.community_import = Var(m.horizon, domain=NonNegativeReals)\n",
    "        m.member_import = Var(m.horizon, m.members, domain=NonNegativeReals)\n",
    "        m.batteryin = Var(m.horizon, m.batteries, domain=NonNegativeReals)\n",
    "        m.batteryout = Var(m.horizon, m.batteries, domain=NonNegativeReals)\n",
    "        m.batteryenergy = Var(m.horizon, m.batteries, domain=NonNegativeReals)\n",
    "\n",
    "        m.grid_buy = Param(initialize=self.grid_buy)\n",
    "        m.grid_fee = Param(initialize=self.grid_fee)\n",
    "        m.battery_aging_cost = Param(initialize=self.battery_aging_cost)\n",
    "        m.deltat = Param(initialize=self.freq / 60)\n",
    "        m.last = Param(initialize=m.horizon.last())\n",
    "\n",
    "        # Battery constraints\n",
    "        def r_battery_max_powerin(m, t, b):\n",
    "            return m.batteryin[t, b] <= batteries[b][\"max_kw\"]\n",
    "\n",
    "        def r_battery_max_powerout(m, t, b):\n",
    "            return m.batteryout[t, b] <= batteries[b][\"min_kw\"]\n",
    "\n",
    "        def r_battery_energy(m, t, b):\n",
    "            if t == 0:\n",
    "                return m.batteryenergy[t, b] == batteries[b][\"init_kwh\"]\n",
    "            else:\n",
    "                return (\n",
    "                    m.batteryenergy[t, b]\n",
    "                    == m.batteryenergy[t - 1, b]\n",
    "                    + m.batteryin[t - 1, b] * m.deltat * batteries[b][\"eta\"]\n",
    "                    - m.batteryout[t - 1, b] * m.deltat / batteries[b][\"eta\"]\n",
    "                )\n",
    "\n",
    "        def r_battery_min_energy(m, t, b):\n",
    "            return (\n",
    "                m.batteryenergy[t, b]\n",
    "                >= batteries[b][\"max_kwh\"] * batteries[b][\"offset\"]\n",
    "            )\n",
    "\n",
    "        def r_battery_max_energy(m, t, b):\n",
    "            return m.batteryenergy[t, b] <= batteries[b][\"max_kwh\"] * (\n",
    "                1 - batteries[b][\"offset\"]\n",
    "            )\n",
    "\n",
    "        def r_battery_end_power_out(m, b):\n",
    "            return m.batteryout[m.last, b] == 0.0\n",
    "\n",
    "        def r_battery_end_power_in(m, b):\n",
    "            return m.batteryin[m.last, b] == 0.0\n",
    "\n",
    "        # Energy balance\n",
    "        def r_community_import(m, t):\n",
    "            return m.community_import[t] >= sum(\n",
    "                m.batteryin[t, b] - m.batteryout[t, b] for b in m.batteries\n",
    "            ) + sum(netloads[t][p] for p in m.members)\n",
    "\n",
    "        def r_member_import(m, t, p):\n",
    "            return (\n",
    "                m.member_import[t, p]\n",
    "                >= sum(\n",
    "                    m.batteryin[t, b] - m.batteryout[t, b] for b in members[p][\"batt\"]\n",
    "                )\n",
    "                + netloads[t][p]\n",
    "            )\n",
    "        \n",
    "        m.r1 = Constraint(m.horizon, m.batteries, rule=r_battery_max_powerin)\n",
    "        m.r2 = Constraint(m.horizon, m.batteries, rule=r_battery_max_powerout)\n",
    "        m.r3 = Constraint(m.horizon, m.batteries, rule=r_battery_energy)\n",
    "        m.r4 = Constraint(m.horizon, m.batteries, rule=r_battery_min_energy)\n",
    "        m.r5 = Constraint(m.horizon, m.batteries, rule=r_battery_max_energy)\n",
    "        m.r7 = Constraint(m.batteries, rule=r_battery_end_power_out)\n",
    "        m.r8 = Constraint(m.batteries, rule=r_battery_end_power_in)\n",
    "        m.r9 = Constraint(m.horizon, rule=r_community_import)\n",
    "        m.r10 = Constraint(m.horizon, m.members, rule=r_member_import)\n",
    "\n",
    "        def objective_function_bis(m):\n",
    "            return sum(\n",
    "                m.grid_buy * m.community_import[i]\n",
    "                + m.grid_fee\n",
    "                * (\n",
    "                    sum(m.member_import[i, p] for p in m.members)\n",
    "                    - m.community_import[i]\n",
    "                )\n",
    "                + m.battery_aging_cost * sum((1/netloads[i][p] * (m.batteryin[i, b] + m.batteryout[i, b]))**2 for b, p in zip(m.batteries, m.members))\n",
    "                for i in m.horizon\n",
    "            )\n",
    "     \n",
    "        def objective_function(m):\n",
    "            return sum(\n",
    "                m.grid_buy * m.community_import[i]\n",
    "                + m.grid_fee\n",
    "                * (\n",
    "                    sum(m.member_import[i, p] for p in m.members)\n",
    "                    - m.community_import[i]\n",
    "                )\n",
    "                + m.battery_aging_cost * sum((m.batteryin[i, b] + m.batteryout[i, b])**2 for b in m.batteries)\n",
    "                for i in m.horizon\n",
    "            )\n",
    "        m.objective = Objective(rule=objective_function_bis, sense=minimize)\n",
    "\n",
    "        with SolverFactory(self.solver, executable=self.solver_path) as opt:\n",
    "            results = opt.solve(m, tee=False)\n",
    "            if self.verbose:\n",
    "                print(results)\n",
    "        return m\n",
    "   \n",
    "    def solve(self, df, member_ids, spec):\n",
    "        netloads = df.copy()\n",
    "        netloads.index = range(0, len(netloads))\n",
    "        netloads = netloads.T.to_dict()\n",
    "        \n",
    "        members = {member_id:{\"batt\": [int(i)]} for i, member_id in enumerate(member_ids)}\n",
    "        \n",
    "        assets = {}\n",
    "        assets[\"batt\"] = {i:{\n",
    "            \"min_kw\": spec[i][\"min_kw\"],\n",
    "            \"max_kw\": spec[i][\"max_kw\"],\n",
    "            \"max_kwh\": spec[i][\"max_kwh\"],\n",
    "            \"eta\": spec[i][\"eta\"],\n",
    "            \"offset\": spec[i][\"offset\"],\n",
    "            \"init_kwh\": spec[i][\"init_kwh\"],\n",
    "            #\"end_kwh\": spec[\"max_kwh\"] * spec[\"offset\"]\n",
    "        } for i, member_id in enumerate(member_ids)}\n",
    "\n",
    "        model = self._solve(netloads, members, assets)\n",
    "        return self.postprocess(model, df, member_ids)\n",
    "\n",
    "    def postprocess(self, model, predictions, member_ids):\n",
    "        schedules = get_timevar_from_pyomo(model, predictions.index)\n",
    "        schedules[\"schedules\"] = (\n",
    "            schedules[\"batteryin\"] - schedules[\"batteryout\"]\n",
    "        ).copy()\n",
    "\n",
    "        if self.only_return_schedules:\n",
    "            schedules = schedules[\"schedules\"]\n",
    "            schedules.columns = member_ids\n",
    "        return schedules\n",
    "\n",
    "def get_timevar_from_pyomo(model, timeindex):\n",
    "    results = {}\n",
    "    for var in model.component_objects(Var):\n",
    "        if var.index_set()._implicit_subsets is None:\n",
    "            results[var.name] = pd.DataFrame(\n",
    "                index=[var.name], data=getattr(model, var.name).get_values()\n",
    "            ).transpose()\n",
    "            results[var.name].index = timeindex\n",
    "        else:\n",
    "            results[var.name] = (\n",
    "                pd.DataFrame(index=[\"none\"], data=getattr(model, var.name).get_values())\n",
    "                .transpose()\n",
    "                .unstack(level=1)\n",
    "            )\n",
    "            results[var.name].columns = results[var.name].columns.levels[1]\n",
    "            results[var.name].index = timeindex\n",
    "    return results"
   ]
  },
  {
   "cell_type": "code",
   "execution_count": 4,
   "metadata": {},
   "outputs": [
    {
     "data": {
      "application/vnd.jupyter.widget-view+json": {
       "model_id": "c8d244b5c1314035bdff5098653cb6bf",
       "version_major": 2,
       "version_minor": 0
      },
      "text/plain": [
       "# Weeks:   0%|          | 0/53 [00:00<?, ?it/s]"
      ]
     },
     "metadata": {},
     "output_type": "display_data"
    }
   ],
   "source": [
    "perfect_schedules_concat = []\n",
    "perfect_energy_concat = []\n",
    "perfect_communityimport_concat = []\n",
    "\n",
    "battery_size = 5\n",
    "ref_spec = {\n",
    "        \"min_kw\": battery_size / 2,\n",
    "        \"max_kw\": battery_size / 2,\n",
    "        \"max_kwh\": battery_size,\n",
    "        \"init_kwh\": battery_size * 0.01,\n",
    "        \"eta\": 0.95,\n",
    "        \"offset\": 0.01}\n",
    "spec = [dict(ref_spec) for i in house_ids]\n",
    "\n",
    "model = OptimizeBatteries_quadratic(\n",
    "    grid_buy=0.1740, grid_fee=0.0371, battery_aging_cost=0,\n",
    "    verbose=False, only_return_schedules=False)\n",
    "\n",
    "delta = timedelta(minutes=15)\n",
    "horizon = timedelta(days=7)\n",
    "date_range = pd.date_range(start, end, freq=\"7D\")\n",
    "for jndex, start_optimization in tqdm(enumerate(date_range), desc=\"# Weeks\", total=len(date_range)):\n",
    "\n",
    "    end_optimization = start_optimization + horizon\n",
    "    if end_optimization > end:\n",
    "        end_optimization = end\n",
    "\n",
    "    tmp_netload = individuals.loc[start_optimization:end_optimization, house_ids]\n",
    "    schedule = model.solve(tmp_netload, house_ids, spec)\n",
    "\n",
    "    # If not last iteration\n",
    "    if not jndex == len(date_range) - 1:\n",
    "        battery_time = start_optimization + horizon\n",
    "        for i, house_id in enumerate(house_ids):\n",
    "            spec[i][\"init_kwh\"] = float(schedule[\"batteryenergy\"].at[battery_time, i])\n",
    "\n",
    "    perfect_schedules_concat.append(schedule[\"schedules\"].loc[:start_optimization+horizon-delta].copy())\n",
    "    perfect_energy_concat.append(schedule[\"batteryenergy\"].loc[:start_optimization+horizon-delta].copy())\n",
    "    perfect_communityimport_concat.append(schedule[\"community_import\"].loc[:start_optimization+horizon-delta].copy())\n",
    "perfect_schedules_concat = pd.concat(perfect_schedules_concat, axis=0)\n",
    "perfect_energy_concat = pd.concat(perfect_energy_concat, axis=0)\n",
    "perfect_communityimport_concat = pd.concat(perfect_communityimport_concat, axis=0)"
   ]
  },
  {
   "cell_type": "code",
   "execution_count": null,
   "metadata": {},
   "outputs": [],
   "source": [
    "graph = individuals.copy()\n",
    "graph[\"community_kW\"] = graph[house_ids].sum(axis=1)\n",
    "graph.drop(house_ids, axis=1, inplace=True)\n",
    "\n",
    "graph[\"storage\"] = -perfect_schedules_concat.sum(axis=1)\n",
    "graph[\"soc\"] = perfect_energy_concat.sum(axis=1)\n",
    "\n",
    "\n",
    "fig = px.line(graph.loc[start:start+timedelta(days=7), :],\n",
    "              y=[\"community_kW\", \"storage\", \"soc\"])\n",
    "\n",
    "fig.data[2].update(line_width=4, line_dash=\"dot\")\n",
    "fig.update_layout(\n",
    "    layout,\n",
    "    height=500,\n",
    "    width=900,\n",
    "    showlegend=False,\n",
    "    xaxis_title=\"\",\n",
    "    yaxis_title=\"Power [kW] & SO [kWh]\",\n",
    "    yaxis_showline=True, yaxis_linewidth=2, yaxis_linecolor='black',\n",
    "    xaxis_showline=False, xaxis_linewidth=2, xaxis_linecolor='black',\n",
    "    xaxis_tickangle=0)\n",
    "fig.show()"
   ]
  },
  {
   "cell_type": "code",
   "execution_count": null,
   "metadata": {},
   "outputs": [],
   "source": [
    "graph = perfect_communityimport_concat.loc[:end].copy()\n",
    "graph.columns = [\"check_perfect\"]\n",
    "\n",
    "graph[\"Total\"] = _individuals.loc[graph.index[0]:graph.index[-1], house_ids].sum(axis=1)\n",
    "graph[\"pv_production_kw\"] = pv_size * len(house_ids) * _individuals.loc[graph.index[0]:graph.index[-1], \"pv_1kw\"]\n",
    "print(f\"Check PV size = {pv_size} kWp\")\n",
    "\n",
    "graph[\"PV_only\"] = (graph[\"Total\"] - graph[\"pv_production_kw\"]).clip(lower=0)\n",
    "graph[\"Perfect\"] = (graph[\"Total\"] - graph[\"pv_production_kw\"] + perfect_schedules_concat.sum(axis=1)).clip(lower=0)\n",
    "\n",
    "np.testing.assert_almost_equal(\n",
    "    graph[\"Perfect\"].sum(), graph[\"check_perfect\"].sum(),\n",
    "    decimal=7, verbose=True)\n",
    "graph.drop(columns=[\"Total\", \"pv_production_kw\", \"check_perfect\"], inplace=True)\n",
    "\n",
    "\n",
    "graph = graph.cumsum(axis=0) / 4\n",
    "graph = graph.resample(\"60T\").last()\n",
    "\n",
    "fig = px.line(graph.loc[:end, [\"PV_only\", \"Perfect\"]])\n",
    "\n",
    "fig.data[0].update(line_width=4)\n",
    "fig.data[1].update(line_width=4)\n",
    "fig.update_layout(\n",
    "    layout,\n",
    "    height=600,\n",
    "    width=800,\n",
    "    showlegend=True,\n",
    "    xaxis_title=\"\",\n",
    "    yaxis_title=\"Community import [kWh]\",\n",
    "    yaxis_showline=True, yaxis_linewidth=2, yaxis_linecolor='black',\n",
    "    xaxis_showline=False, xaxis_linewidth=2, xaxis_linecolor='black',\n",
    "    xaxis_tickangle=0)\n",
    "fig.show()\n",
    "#fig.write_image(f\"results/cumsum_new_objective_func.svg\")\n",
    "#print(graph.tail(1))"
   ]
  },
  {
   "cell_type": "markdown",
   "metadata": {},
   "source": [
    "# Get schedule from reactive control"
   ]
  },
  {
   "cell_type": "code",
   "execution_count": 5,
   "metadata": {},
   "outputs": [],
   "source": [
    "def battery_constraints(in_kw, soc_kwh, spec, deltat_minute):\n",
    "    # Energy\n",
    "    offset = spec[\"max_kwh\"] * spec[\"offset\"]\n",
    "    max_charg_kW = max(\n",
    "        0, (spec[\"max_kwh\"] - offset - soc_kwh) / (spec[\"eta\"] * deltat_minute / 60)\n",
    "    )\n",
    "    if in_kw > max_charg_kW:\n",
    "        in_kw = max_charg_kW\n",
    "\n",
    "    max_discharg_kW = min(0, (0 + offset - soc_kwh) * spec[\"eta\"] / (deltat_minute / 60))\n",
    "    if in_kw < max_discharg_kW:\n",
    "        in_kw = max_discharg_kW\n",
    "\n",
    "    # Power\n",
    "    if in_kw > spec[\"max_kw\"]:\n",
    "        in_kw = spec[\"max_kw\"]\n",
    "\n",
    "    if in_kw < -spec[\"min_kw\"]:\n",
    "        in_kw = -spec[\"min_kw\"]\n",
    "    return in_kw\n",
    "\n",
    "def update_soc(in_kw, previous_soc_kwh, spec, deltat_minute):\n",
    "    # Power\n",
    "    assert in_kw <= spec[\"max_kw\"], f\"{in_kw} <= {spec['max_kw']}\"\n",
    "    assert in_kw >= -spec[\"min_kw\"], f\"{in_kw} >= {-spec['min_kw']}\"\n",
    "\n",
    "    # Energy\n",
    "    if in_kw > 0:\n",
    "        _eta = spec[\"eta\"]\n",
    "    else:\n",
    "        _eta = 1 / spec[\"eta\"]\n",
    "    new_soc_kwh = previous_soc_kwh + _eta * in_kw * deltat_minute / 60\n",
    "    assert new_soc_kwh <= spec[\"max_kwh\"], f\"{new_soc_kwh}\"\n",
    "    assert new_soc_kwh >= 0, f\"{new_soc_kwh}\"\n",
    "    return new_soc_kwh\n",
    "\n",
    "def collective_storage_control(df, house_names, deltat_minute, spec):\n",
    "    \"\"\"Change input df\n",
    "    \"\"\"\n",
    "    if deltat_minute != 1:\n",
    "        assert pd.infer_freq(df.index) == f\"{deltat_minute}T\"\n",
    "    else:\n",
    "        assert pd.infer_freq(df.index) == \"T\"\n",
    "    \n",
    "    in_kws = {name:list([0]) for name in house_names}\n",
    "    soc_kwhs = {name:list([spec[\"max_kwh\"] * spec[\"offset\"]]) for name in house_names}\n",
    "    \n",
    "    for index, row in tqdm(df[house_names].iterrows(), desc=\"row #\", total=len(df)):\n",
    "        netload = row.to_dict()\n",
    "        \n",
    "        if index.minute % 15 == 0:\n",
    "            for name in house_names:\n",
    "                in_kws[name].append(0)\n",
    "                soc_kwhs[name].append(soc_kwhs[name][-1])\n",
    "            \n",
    "            last_netload = dict(netload)\n",
    "            continue\n",
    "            \n",
    "        if (index.minute + deltat_minute) % 15 == 0:\n",
    "            for name in house_names:\n",
    "                last_netload[name] *= 2\n",
    "        \n",
    "        for name in house_names:\n",
    "            in_kw = - last_netload[name]\n",
    "            in_kw = battery_constraints(in_kw, soc_kwhs[name][-1], spec, deltat_minute)\n",
    "            soc_kwh = update_soc(in_kw, soc_kwhs[name][-1], spec, deltat_minute)\n",
    "            in_kws[name].append(in_kw)\n",
    "            soc_kwhs[name].append(soc_kwh)\n",
    "        \n",
    "        community_netload = sum(last_netload[name] + in_kws[name][-1] for name in house_names)\n",
    "        \n",
    "        order = [(name, float(soc_kwhs[name][-1])) for name in house_names]\n",
    "        if community_netload <= 0:\n",
    "            order = sorted(order, key=lambda tup: tup[1], reverse=False)  # normal order 1, 2, 3 .. lowest soc\n",
    "            assert order[0][1] <= order[-1][1]\n",
    "        else:\n",
    "            order = sorted(order, key=lambda tup: tup[1], reverse=True)  # Reverse normal order to get highest soc\n",
    "            assert order[0][1] >= order[-1][1]\n",
    "        \n",
    "        # Overwrite individual commands for the most available batteries\n",
    "        for name, _ in order:\n",
    "            in_kw = in_kws[name][-1] - community_netload\n",
    "            in_kw = battery_constraints(in_kw, soc_kwhs[name][-2], spec, deltat_minute)\n",
    "            \n",
    "            community_netload += in_kw - in_kws[name][-1]\n",
    "            \n",
    "            soc_kwh = update_soc(in_kw, soc_kwhs[name][-2], spec, deltat_minute)\n",
    "            soc_kwhs[name][-1] = soc_kwh\n",
    "            in_kws[name][-1] = in_kw\n",
    "        \n",
    "        last_netload = dict(netload)\n",
    "    \n",
    "    for name in house_names:\n",
    "        del in_kws[name][0]    \n",
    "        del soc_kwhs[name][0]     \n",
    "        df[f\"{name}_storage\"] = in_kws[name]\n",
    "        df[f\"{name}_soc\"] = soc_kwhs[name]\n",
    "    return df"
   ]
  },
  {
   "cell_type": "code",
   "execution_count": 6,
   "metadata": {},
   "outputs": [
    {
     "data": {
      "application/vnd.jupyter.widget-view+json": {
       "model_id": "1376e37a1b10468bb473d801001050f9",
       "version_major": 2,
       "version_minor": 0
      },
      "text/plain": [
       "row #:   0%|          | 0/175196 [00:00<?, ?it/s]"
      ]
     },
     "metadata": {},
     "output_type": "display_data"
    }
   ],
   "source": [
    "freq = \"3T\"\n",
    "graph = individuals.copy()\n",
    "graph = graph.resample(freq).ffill()\n",
    "result = collective_storage_control(graph, house_ids, int(freq[0]), dict(ref_spec))"
   ]
  },
  {
   "cell_type": "code",
   "execution_count": null,
   "metadata": {},
   "outputs": [],
   "source": [
    "graph = result.copy()\n",
    "graph[\"storage\"] = -result[[f\"{name}_storage\" for name in house_ids]].sum(axis=1)\n",
    "graph[\"soc\"] = result[[f\"{name}_soc\" for name in house_ids]].sum(axis=1)\n",
    "\n",
    "graph[\"Total\"] = _individuals.loc[graph.index[0]:graph.index[-1], house_ids].sum(axis=1).resample(freq).ffill()\n",
    "graph[\"pv_production_kw\"] = pv_size * len(house_ids) * _individuals.loc[graph.index[0]:graph.index[-1], \"pv_1kw\"].resample(freq).ffill()\n",
    "graph[\"community_kW\"] = graph[\"Total\"] - graph[\"pv_production_kw\"]\n",
    "\n",
    "#graph[\"community_kW\"] = result[[f\"{name}\" for name in house_ids]].sum(axis=1)\n",
    "\n",
    "fig = px.line(graph.loc[start:start+timedelta(days=7), :],\n",
    "              y=[\"community_kW\", \"storage\", \"soc\"])\n",
    "fig.data[2].update(line_width=4, line_dash=\"dot\")\n",
    "fig.update_traces(line_shape='hv')\n",
    "fig.update_layout(\n",
    "    layout,\n",
    "    height=500,\n",
    "    width=900,\n",
    "    showlegend=False,\n",
    "    xaxis_title=\"\",\n",
    "    yaxis_title=\"Power [kW] & SO [kWh]\",\n",
    "    yaxis_showline=True, yaxis_linewidth=2, yaxis_linecolor='black',\n",
    "    xaxis_showline=False, xaxis_linewidth=2, xaxis_linecolor='black',\n",
    "    xaxis_tickangle=0)\n",
    "fig.show()"
   ]
  },
  {
   "cell_type": "code",
   "execution_count": 12,
   "metadata": {},
   "outputs": [
    {
     "name": "stdout",
     "output_type": "stream",
     "text": [
      "Check PV size = 3 kWp\n"
     ]
    },
    {
     "data": {
      "application/vnd.plotly.v1+json": {
       "config": {
        "plotlyServerURL": "https://plot.ly"
       },
       "data": [
        {
         "hovertemplate": "variable=PV_only<br>Index=%{x}<br>value=%{y}<extra></extra>",
         "legendgroup": "PV_only",
         "line": {
          "color": "#4C78A8",
          "dash": "solid",
          "width": 4
         },
         "marker": {
          "symbol": "circle"
         },
         "mode": "lines",
         "name": "PV_only",
         "orientation": "v",
         "showlegend": true,
         "type": "scatter",
         "x": [
          "2019-01-01T00:00:00",
          "2019-01-04T00:00:00",
          "2019-01-07T00:00:00",
          "2019-01-10T00:00:00",
          "2019-01-13T00:00:00",
          "2019-01-16T00:00:00",
          "2019-01-19T00:00:00",
          "2019-01-22T00:00:00",
          "2019-01-25T00:00:00",
          "2019-01-28T00:00:00",
          "2019-01-31T00:00:00",
          "2019-02-03T00:00:00",
          "2019-02-06T00:00:00",
          "2019-02-09T00:00:00",
          "2019-02-12T00:00:00",
          "2019-02-15T00:00:00",
          "2019-02-18T00:00:00",
          "2019-02-21T00:00:00",
          "2019-02-24T00:00:00",
          "2019-02-27T00:00:00",
          "2019-03-02T00:00:00",
          "2019-03-05T00:00:00",
          "2019-03-08T00:00:00",
          "2019-03-11T00:00:00",
          "2019-03-14T00:00:00",
          "2019-03-17T00:00:00",
          "2019-03-20T00:00:00",
          "2019-03-23T00:00:00",
          "2019-03-26T00:00:00",
          "2019-03-29T00:00:00",
          "2019-04-01T00:00:00",
          "2019-04-04T00:00:00",
          "2019-04-07T00:00:00",
          "2019-04-10T00:00:00",
          "2019-04-13T00:00:00",
          "2019-04-16T00:00:00",
          "2019-04-19T00:00:00",
          "2019-04-22T00:00:00",
          "2019-04-25T00:00:00",
          "2019-04-28T00:00:00",
          "2019-05-01T00:00:00",
          "2019-05-04T00:00:00",
          "2019-05-07T00:00:00",
          "2019-05-10T00:00:00",
          "2019-05-13T00:00:00",
          "2019-05-16T00:00:00",
          "2019-05-19T00:00:00",
          "2019-05-22T00:00:00",
          "2019-05-25T00:00:00",
          "2019-05-28T00:00:00",
          "2019-05-31T00:00:00",
          "2019-06-03T00:00:00",
          "2019-06-06T00:00:00",
          "2019-06-09T00:00:00",
          "2019-06-12T00:00:00",
          "2019-06-15T00:00:00",
          "2019-06-18T00:00:00",
          "2019-06-21T00:00:00",
          "2019-06-24T00:00:00",
          "2019-06-27T00:00:00",
          "2019-06-30T00:00:00",
          "2019-07-03T00:00:00",
          "2019-07-06T00:00:00",
          "2019-07-09T00:00:00",
          "2019-07-12T00:00:00",
          "2019-07-15T00:00:00",
          "2019-07-18T00:00:00",
          "2019-07-21T00:00:00",
          "2019-07-24T00:00:00",
          "2019-07-27T00:00:00",
          "2019-07-30T00:00:00",
          "2019-08-02T00:00:00",
          "2019-08-05T00:00:00",
          "2019-08-08T00:00:00",
          "2019-08-11T00:00:00",
          "2019-08-14T00:00:00",
          "2019-08-17T00:00:00",
          "2019-08-20T00:00:00",
          "2019-08-23T00:00:00",
          "2019-08-26T00:00:00",
          "2019-08-29T00:00:00",
          "2019-09-01T00:00:00",
          "2019-09-04T00:00:00",
          "2019-09-07T00:00:00",
          "2019-09-10T00:00:00",
          "2019-09-13T00:00:00",
          "2019-09-16T00:00:00",
          "2019-09-19T00:00:00",
          "2019-09-22T00:00:00",
          "2019-09-25T00:00:00",
          "2019-09-28T00:00:00",
          "2019-10-01T00:00:00",
          "2019-10-04T00:00:00",
          "2019-10-07T00:00:00",
          "2019-10-10T00:00:00",
          "2019-10-13T00:00:00",
          "2019-10-16T00:00:00",
          "2019-10-19T00:00:00",
          "2019-10-22T00:00:00",
          "2019-10-25T00:00:00",
          "2019-10-28T00:00:00",
          "2019-10-31T00:00:00",
          "2019-11-03T00:00:00",
          "2019-11-06T00:00:00",
          "2019-11-09T00:00:00",
          "2019-11-12T00:00:00",
          "2019-11-15T00:00:00",
          "2019-11-18T00:00:00",
          "2019-11-21T00:00:00",
          "2019-11-24T00:00:00",
          "2019-11-27T00:00:00",
          "2019-11-30T00:00:00",
          "2019-12-03T00:00:00",
          "2019-12-06T00:00:00",
          "2019-12-09T00:00:00",
          "2019-12-12T00:00:00",
          "2019-12-15T00:00:00",
          "2019-12-18T00:00:00",
          "2019-12-21T00:00:00",
          "2019-12-24T00:00:00",
          "2019-12-27T00:00:00",
          "2019-12-30T00:00:00"
         ],
         "xaxis": "x",
         "y": [
          1251.1339439924773,
          2385.5067494065706,
          3480.0089339877454,
          4313.627342022214,
          5205.30807658217,
          6122.2615217347275,
          7167.655971651651,
          8151.187525688779,
          8969.878815151724,
          10034.574688957551,
          10995.68878531507,
          11920.577963156029,
          12946.41441663956,
          14027.02868194398,
          15012.939263766471,
          15960.03614877417,
          16737.96587961985,
          17562.52126369889,
          18565.214681202644,
          19395.198786667796,
          20208.88419195882,
          20912.177782069262,
          21697.313038401244,
          22546.907031879236,
          23197.133280383106,
          23869.084651116173,
          24661.621278182734,
          25348.347264635264,
          25990.51757262353,
          26756.315881950588,
          27424.790506549023,
          28024.172415041856,
          28673.62033777283,
          29290.786627890386,
          29898.895527058197,
          30600.4177204011,
          31291.084963409583,
          32009.791811425857,
          32606.832997658523,
          33233.61273056596,
          33816.35294741707,
          34308.853704060435,
          34796.53833530962,
          35321.48099780974,
          35756.75036459477,
          36278.19872408846,
          36851.47267205127,
          37452.496567040274,
          38035.895641087875,
          38548.05797739788,
          38925.86987596487,
          39314.026323480524,
          39611.629817421526,
          39978.074977281045,
          40384.93941585673,
          40789.29618397175,
          41234.97888327402,
          41611.094716836524,
          42000.009419061535,
          42424.660836513,
          42763.834681551416,
          43152.932100527265,
          43506.609655745335,
          43986.97845437249,
          44423.58304197246,
          44826.64784347196,
          45232.64745036908,
          45581.68284711716,
          45944.93725388412,
          46353.50839582812,
          46709.56647693492,
          47103.09537763643,
          47452.42631124637,
          47805.999122202,
          48178.056173404366,
          48495.02994497019,
          48790.610717579635,
          49113.84315316996,
          49419.403815285696,
          49823.548539017844,
          50159.379987841974,
          50515.14847897831,
          50895.54800630474,
          51225.28299592607,
          51585.32288520035,
          51960.89282398339,
          52413.440100235835,
          52886.50899321089,
          53354.81186684748,
          53744.60688190163,
          54201.9985464884,
          54617.33666903092,
          55070.32609171791,
          55573.34777792287,
          56101.18339308089,
          56562.36580158302,
          57044.39117344216,
          57485.82060182955,
          57885.14329377597,
          58320.253839489415,
          58802.5487349687,
          59324.9312545942,
          60072.03562541402,
          60666.078932278564,
          61401.15851583739,
          62060.779015950015,
          62729.48950259426,
          63406.41623633853,
          64096.10690838513,
          64793.48434459426,
          65443.603481000304,
          66333.66290654076,
          67066.77045666656,
          67843.10691046098,
          68726.5331436731,
          69552.38897527404,
          70338.51485226123,
          71112.53463639287,
          71927.91669632366,
          72793.10809905239,
          73584.08110593808,
          74168.93279002866
         ],
         "yaxis": "y"
        },
        {
         "hovertemplate": "variable=Perfect<br>Index=%{x}<br>value=%{y}<extra></extra>",
         "legendgroup": "Perfect",
         "line": {
          "color": "#F58518",
          "dash": "solid",
          "width": 4
         },
         "marker": {
          "symbol": "circle"
         },
         "mode": "lines",
         "name": "Perfect",
         "orientation": "v",
         "showlegend": true,
         "type": "scatter",
         "x": [
          "2019-01-01T00:00:00",
          "2019-01-04T00:00:00",
          "2019-01-07T00:00:00",
          "2019-01-10T00:00:00",
          "2019-01-13T00:00:00",
          "2019-01-16T00:00:00",
          "2019-01-19T00:00:00",
          "2019-01-22T00:00:00",
          "2019-01-25T00:00:00",
          "2019-01-28T00:00:00",
          "2019-01-31T00:00:00",
          "2019-02-03T00:00:00",
          "2019-02-06T00:00:00",
          "2019-02-09T00:00:00",
          "2019-02-12T00:00:00",
          "2019-02-15T00:00:00",
          "2019-02-18T00:00:00",
          "2019-02-21T00:00:00",
          "2019-02-24T00:00:00",
          "2019-02-27T00:00:00",
          "2019-03-02T00:00:00",
          "2019-03-05T00:00:00",
          "2019-03-08T00:00:00",
          "2019-03-11T00:00:00",
          "2019-03-14T00:00:00",
          "2019-03-17T00:00:00",
          "2019-03-20T00:00:00",
          "2019-03-23T00:00:00",
          "2019-03-26T00:00:00",
          "2019-03-29T00:00:00",
          "2019-04-01T00:00:00",
          "2019-04-04T00:00:00",
          "2019-04-07T00:00:00",
          "2019-04-10T00:00:00",
          "2019-04-13T00:00:00",
          "2019-04-16T00:00:00",
          "2019-04-19T00:00:00",
          "2019-04-22T00:00:00",
          "2019-04-25T00:00:00",
          "2019-04-28T00:00:00",
          "2019-05-01T00:00:00",
          "2019-05-04T00:00:00",
          "2019-05-07T00:00:00",
          "2019-05-10T00:00:00",
          "2019-05-13T00:00:00",
          "2019-05-16T00:00:00",
          "2019-05-19T00:00:00",
          "2019-05-22T00:00:00",
          "2019-05-25T00:00:00",
          "2019-05-28T00:00:00",
          "2019-05-31T00:00:00",
          "2019-06-03T00:00:00",
          "2019-06-06T00:00:00",
          "2019-06-09T00:00:00",
          "2019-06-12T00:00:00",
          "2019-06-15T00:00:00",
          "2019-06-18T00:00:00",
          "2019-06-21T00:00:00",
          "2019-06-24T00:00:00",
          "2019-06-27T00:00:00",
          "2019-06-30T00:00:00",
          "2019-07-03T00:00:00",
          "2019-07-06T00:00:00",
          "2019-07-09T00:00:00",
          "2019-07-12T00:00:00",
          "2019-07-15T00:00:00",
          "2019-07-18T00:00:00",
          "2019-07-21T00:00:00",
          "2019-07-24T00:00:00",
          "2019-07-27T00:00:00",
          "2019-07-30T00:00:00",
          "2019-08-02T00:00:00",
          "2019-08-05T00:00:00",
          "2019-08-08T00:00:00",
          "2019-08-11T00:00:00",
          "2019-08-14T00:00:00",
          "2019-08-17T00:00:00",
          "2019-08-20T00:00:00",
          "2019-08-23T00:00:00",
          "2019-08-26T00:00:00",
          "2019-08-29T00:00:00",
          "2019-09-01T00:00:00",
          "2019-09-04T00:00:00",
          "2019-09-07T00:00:00",
          "2019-09-10T00:00:00",
          "2019-09-13T00:00:00",
          "2019-09-16T00:00:00",
          "2019-09-19T00:00:00",
          "2019-09-22T00:00:00",
          "2019-09-25T00:00:00",
          "2019-09-28T00:00:00",
          "2019-10-01T00:00:00",
          "2019-10-04T00:00:00",
          "2019-10-07T00:00:00",
          "2019-10-10T00:00:00",
          "2019-10-13T00:00:00",
          "2019-10-16T00:00:00",
          "2019-10-19T00:00:00",
          "2019-10-22T00:00:00",
          "2019-10-25T00:00:00",
          "2019-10-28T00:00:00",
          "2019-10-31T00:00:00",
          "2019-11-03T00:00:00",
          "2019-11-06T00:00:00",
          "2019-11-09T00:00:00",
          "2019-11-12T00:00:00",
          "2019-11-15T00:00:00",
          "2019-11-18T00:00:00",
          "2019-11-21T00:00:00",
          "2019-11-24T00:00:00",
          "2019-11-27T00:00:00",
          "2019-11-30T00:00:00",
          "2019-12-03T00:00:00",
          "2019-12-06T00:00:00",
          "2019-12-09T00:00:00",
          "2019-12-12T00:00:00",
          "2019-12-15T00:00:00",
          "2019-12-18T00:00:00",
          "2019-12-21T00:00:00",
          "2019-12-24T00:00:00",
          "2019-12-27T00:00:00",
          "2019-12-30T00:00:00"
         ],
         "xaxis": "x",
         "y": [
          1242.1109026812403,
          2256.264139995927,
          3186.4333954647313,
          3937.626757994045,
          4744.3723367015455,
          5607.553252865323,
          6591.302884449554,
          7444.726612375627,
          8054.250631661356,
          8988.472627694857,
          9850.869329388319,
          10654.729676068457,
          11640.17795983437,
          12557.45397545301,
          13499.154035612666,
          14358.746436131669,
          14941.424611292241,
          15562.376326995005,
          16414.084097665516,
          17171.742676148933,
          17728.057202299726,
          18191.3645260405,
          18696.1721881092,
          19265.302645568754,
          19688.635762314847,
          20077.223219110463,
          20663.439665101916,
          21030.485528570694,
          21428.322856653605,
          21962.630799040242,
          22430.544513565506,
          22833.913890493717,
          23223.13832350761,
          23551.243756080705,
          23839.648039571424,
          24336.8598515383,
          24879.337776827768,
          25378.208171334776,
          25721.53591277299,
          26093.927548055686,
          26576.22925036027,
          26833.333858275862,
          27113.355170583,
          27365.30694674357,
          27520.665392392963,
          27775.897703430623,
          28152.693091390414,
          28539.009504627647,
          28842.832296033605,
          29104.82314354233,
          29207.065088879488,
          29418.761471805894,
          29439.444501453843,
          29533.785176749192,
          29663.5625530749,
          29761.269667108714,
          29973.879055770987,
          30074.4527496488,
          30192.913061166266,
          30338.724228887615,
          30421.70411054016,
          30580.014101007855,
          30734.393228233686,
          31127.160941079233,
          31325.817212157883,
          31460.79479864934,
          31672.335087681444,
          31801.360862963462,
          31879.417615724797,
          32120.832721385963,
          32334.76607572974,
          32469.41737101047,
          32569.46511364321,
          32641.250402921705,
          32733.895026461505,
          32769.18240989413,
          32790.37713737486,
          32870.50355727788,
          32932.30391606091,
          33118.076409780784,
          33165.63559561757,
          33252.22498766714,
          33346.32845981496,
          33378.57287572252,
          33489.686530682215,
          33590.826026398216,
          33843.88906266536,
          34105.76507398604,
          34345.92483014396,
          34488.37593741467,
          34765.23998892537,
          34938.909776197055,
          35146.08325803729,
          35436.40001161756,
          35817.24281264613,
          36086.05648580501,
          36337.491691047326,
          36486.62485209147,
          36642.46960602166,
          36815.0169661853,
          37069.99996296171,
          37385.40325168512,
          38070.17406449084,
          38460.18916283029,
          39072.30122516865,
          39690.523332648336,
          40299.94035837474,
          40828.7097188039,
          41428.570446830105,
          42029.75270140687,
          42648.336375174265,
          43472.457498703654,
          44203.25208699022,
          44913.25847479578,
          45727.616223569734,
          46521.316943931946,
          47114.911502082614,
          47744.11000949153,
          48256.55084817258,
          49070.375171196676,
          49762.25587263574,
          50176.059275377294
         ],
         "yaxis": "y"
        },
        {
         "hovertemplate": "variable=Reactive<br>Index=%{x}<br>value=%{y}<extra></extra>",
         "legendgroup": "Reactive",
         "line": {
          "color": "#E45756",
          "dash": "solid"
         },
         "marker": {
          "symbol": "circle"
         },
         "mode": "lines",
         "name": "Reactive",
         "orientation": "v",
         "showlegend": true,
         "type": "scatter",
         "x": [
          "2019-01-01T00:00:00",
          "2019-01-04T00:00:00",
          "2019-01-07T00:00:00",
          "2019-01-10T00:00:00",
          "2019-01-13T00:00:00",
          "2019-01-16T00:00:00",
          "2019-01-19T00:00:00",
          "2019-01-22T00:00:00",
          "2019-01-25T00:00:00",
          "2019-01-28T00:00:00",
          "2019-01-31T00:00:00",
          "2019-02-03T00:00:00",
          "2019-02-06T00:00:00",
          "2019-02-09T00:00:00",
          "2019-02-12T00:00:00",
          "2019-02-15T00:00:00",
          "2019-02-18T00:00:00",
          "2019-02-21T00:00:00",
          "2019-02-24T00:00:00",
          "2019-02-27T00:00:00",
          "2019-03-02T00:00:00",
          "2019-03-05T00:00:00",
          "2019-03-08T00:00:00",
          "2019-03-11T00:00:00",
          "2019-03-14T00:00:00",
          "2019-03-17T00:00:00",
          "2019-03-20T00:00:00",
          "2019-03-23T00:00:00",
          "2019-03-26T00:00:00",
          "2019-03-29T00:00:00",
          "2019-04-01T00:00:00",
          "2019-04-04T00:00:00",
          "2019-04-07T00:00:00",
          "2019-04-10T00:00:00",
          "2019-04-13T00:00:00",
          "2019-04-16T00:00:00",
          "2019-04-19T00:00:00",
          "2019-04-22T00:00:00",
          "2019-04-25T00:00:00",
          "2019-04-28T00:00:00",
          "2019-05-01T00:00:00",
          "2019-05-04T00:00:00",
          "2019-05-07T00:00:00",
          "2019-05-10T00:00:00",
          "2019-05-13T00:00:00",
          "2019-05-16T00:00:00",
          "2019-05-19T00:00:00",
          "2019-05-22T00:00:00",
          "2019-05-25T00:00:00",
          "2019-05-28T00:00:00",
          "2019-05-31T00:00:00",
          "2019-06-03T00:00:00",
          "2019-06-06T00:00:00",
          "2019-06-09T00:00:00",
          "2019-06-12T00:00:00",
          "2019-06-15T00:00:00",
          "2019-06-18T00:00:00",
          "2019-06-21T00:00:00",
          "2019-06-24T00:00:00",
          "2019-06-27T00:00:00",
          "2019-06-30T00:00:00",
          "2019-07-03T00:00:00",
          "2019-07-06T00:00:00",
          "2019-07-09T00:00:00",
          "2019-07-12T00:00:00",
          "2019-07-15T00:00:00",
          "2019-07-18T00:00:00",
          "2019-07-21T00:00:00",
          "2019-07-24T00:00:00",
          "2019-07-27T00:00:00",
          "2019-07-30T00:00:00",
          "2019-08-02T00:00:00",
          "2019-08-05T00:00:00",
          "2019-08-08T00:00:00",
          "2019-08-11T00:00:00",
          "2019-08-14T00:00:00",
          "2019-08-17T00:00:00",
          "2019-08-20T00:00:00",
          "2019-08-23T00:00:00",
          "2019-08-26T00:00:00",
          "2019-08-29T00:00:00",
          "2019-09-01T00:00:00",
          "2019-09-04T00:00:00",
          "2019-09-07T00:00:00",
          "2019-09-10T00:00:00",
          "2019-09-13T00:00:00",
          "2019-09-16T00:00:00",
          "2019-09-19T00:00:00",
          "2019-09-22T00:00:00",
          "2019-09-25T00:00:00",
          "2019-09-28T00:00:00",
          "2019-10-01T00:00:00",
          "2019-10-04T00:00:00",
          "2019-10-07T00:00:00",
          "2019-10-10T00:00:00",
          "2019-10-13T00:00:00",
          "2019-10-16T00:00:00",
          "2019-10-19T00:00:00",
          "2019-10-22T00:00:00",
          "2019-10-25T00:00:00",
          "2019-10-28T00:00:00",
          "2019-10-31T00:00:00",
          "2019-11-03T00:00:00",
          "2019-11-06T00:00:00",
          "2019-11-09T00:00:00",
          "2019-11-12T00:00:00",
          "2019-11-15T00:00:00",
          "2019-11-18T00:00:00",
          "2019-11-21T00:00:00",
          "2019-11-24T00:00:00",
          "2019-11-27T00:00:00",
          "2019-11-30T00:00:00",
          "2019-12-03T00:00:00",
          "2019-12-06T00:00:00",
          "2019-12-09T00:00:00",
          "2019-12-12T00:00:00",
          "2019-12-15T00:00:00",
          "2019-12-18T00:00:00",
          "2019-12-21T00:00:00",
          "2019-12-24T00:00:00",
          "2019-12-27T00:00:00",
          "2019-12-30T00:00:00"
         ],
         "xaxis": "x",
         "y": [
          1203.5698455485467,
          2207.9677049421152,
          3157.9227793382493,
          3884.285032417638,
          4688.3537468616905,
          5550.51511890445,
          6591.420190201859,
          7423.266512245138,
          8019.682207595142,
          8993.327793059138,
          9830.870227885145,
          10667.228380808901,
          11629.175728005022,
          12571.200711294738,
          13462.63111796627,
          14313.48202393358,
          14895.630606708224,
          15533.774298517863,
          16425.996094656904,
          17144.323653779582,
          17749.241197700885,
          18175.944194019485,
          18673.7192891174,
          19253.189943184796,
          19677.727589694434,
          20065.940913339946,
          20670.342876557268,
          21064.073013609945,
          21426.966622858803,
          21959.234630951018,
          22441.246230643308,
          22830.098130441464,
          23216.60216941327,
          23552.95939335237,
          23878.3106358068,
          24346.072711217617,
          24886.887359598837,
          25368.732596454032,
          25721.055242270722,
          26115.538235486674,
          26602.013272579537,
          26880.398098560952,
          27125.526341827306,
          27383.14990529467,
          27553.757922800647,
          27776.568412543187,
          28147.68372753213,
          28548.77289287085,
          28897.717548758992,
          29127.23529490319,
          29251.594668739166,
          29457.268426171573,
          29476.02498499271,
          29533.50904043563,
          29662.58299575328,
          29792.435597646625,
          29968.632444585215,
          30075.833646389194,
          30186.680766457775,
          30328.279523936562,
          30412.77621227999,
          30569.727446670782,
          30735.92691211474,
          31078.82773517079,
          31277.031650183784,
          31403.22599549815,
          31619.555592311088,
          31758.95941060324,
          31830.732491532603,
          32088.932271569025,
          32278.49606206348,
          32413.577403901538,
          32486.685933043085,
          32571.175353181454,
          32676.72160408694,
          32721.93994737526,
          32743.18456349819,
          32777.79963552143,
          32801.29105649653,
          33021.67330759666,
          33057.970040821725,
          33153.55361366518,
          33233.84690065188,
          33290.63792521887,
          33376.14159911611,
          33454.01248578608,
          33680.177798254816,
          33969.15239725643,
          34230.48413259905,
          34361.64008676633,
          34660.88866861698,
          34808.346698602836,
          34995.191657394906,
          35283.01059130455,
          35659.41396137988,
          35934.684692234645,
          36204.82829419244,
          36389.596731628124,
          36509.87069793654,
          36663.62285348285,
          36937.4848869706,
          37223.38989026723,
          37970.49426108705,
          38301.00085366627,
          38980.794574848645,
          39547.15692568745,
          40174.52502433311,
          40669.996167649624,
          41286.521413215014,
          41935.32998474754,
          42506.88227656579,
          43378.7130021602,
          44070.45215627484,
          44787.874227903376,
          45580.36875092631,
          46406.18591127555,
          47015.5013677681,
          47613.04696632051,
          48168.01427927894,
          48923.72168420866,
          49617.45996697434,
          50087.293998876536
         ],
         "yaxis": "y"
        }
       ],
       "layout": {
        "font": {
         "size": 19
        },
        "height": 600,
        "legend": {
         "title": {
          "text": "variable"
         },
         "tracegroupgap": 0
        },
        "margin": {
         "b": 10,
         "l": 20,
         "r": 50,
         "t": 50
        },
        "showlegend": false,
        "template": {
         "data": {
          "bar": [
           {
            "error_x": {
             "color": "#2a3f5f"
            },
            "error_y": {
             "color": "#2a3f5f"
            },
            "marker": {
             "line": {
              "color": "white",
              "width": 0.5
             },
             "pattern": {
              "fillmode": "overlay",
              "size": 10,
              "solidity": 0.2
             }
            },
            "type": "bar"
           }
          ],
          "barpolar": [
           {
            "marker": {
             "line": {
              "color": "white",
              "width": 0.5
             },
             "pattern": {
              "fillmode": "overlay",
              "size": 10,
              "solidity": 0.2
             }
            },
            "type": "barpolar"
           }
          ],
          "carpet": [
           {
            "aaxis": {
             "endlinecolor": "#2a3f5f",
             "gridcolor": "#C8D4E3",
             "linecolor": "#C8D4E3",
             "minorgridcolor": "#C8D4E3",
             "startlinecolor": "#2a3f5f"
            },
            "baxis": {
             "endlinecolor": "#2a3f5f",
             "gridcolor": "#C8D4E3",
             "linecolor": "#C8D4E3",
             "minorgridcolor": "#C8D4E3",
             "startlinecolor": "#2a3f5f"
            },
            "type": "carpet"
           }
          ],
          "choropleth": [
           {
            "colorbar": {
             "outlinewidth": 0,
             "ticks": ""
            },
            "type": "choropleth"
           }
          ],
          "contour": [
           {
            "colorbar": {
             "outlinewidth": 0,
             "ticks": ""
            },
            "colorscale": [
             [
              0,
              "#0d0887"
             ],
             [
              0.1111111111111111,
              "#46039f"
             ],
             [
              0.2222222222222222,
              "#7201a8"
             ],
             [
              0.3333333333333333,
              "#9c179e"
             ],
             [
              0.4444444444444444,
              "#bd3786"
             ],
             [
              0.5555555555555556,
              "#d8576b"
             ],
             [
              0.6666666666666666,
              "#ed7953"
             ],
             [
              0.7777777777777778,
              "#fb9f3a"
             ],
             [
              0.8888888888888888,
              "#fdca26"
             ],
             [
              1,
              "#f0f921"
             ]
            ],
            "type": "contour"
           }
          ],
          "contourcarpet": [
           {
            "colorbar": {
             "outlinewidth": 0,
             "ticks": ""
            },
            "type": "contourcarpet"
           }
          ],
          "heatmap": [
           {
            "colorbar": {
             "outlinewidth": 0,
             "ticks": ""
            },
            "colorscale": [
             [
              0,
              "#0d0887"
             ],
             [
              0.1111111111111111,
              "#46039f"
             ],
             [
              0.2222222222222222,
              "#7201a8"
             ],
             [
              0.3333333333333333,
              "#9c179e"
             ],
             [
              0.4444444444444444,
              "#bd3786"
             ],
             [
              0.5555555555555556,
              "#d8576b"
             ],
             [
              0.6666666666666666,
              "#ed7953"
             ],
             [
              0.7777777777777778,
              "#fb9f3a"
             ],
             [
              0.8888888888888888,
              "#fdca26"
             ],
             [
              1,
              "#f0f921"
             ]
            ],
            "type": "heatmap"
           }
          ],
          "heatmapgl": [
           {
            "colorbar": {
             "outlinewidth": 0,
             "ticks": ""
            },
            "colorscale": [
             [
              0,
              "#0d0887"
             ],
             [
              0.1111111111111111,
              "#46039f"
             ],
             [
              0.2222222222222222,
              "#7201a8"
             ],
             [
              0.3333333333333333,
              "#9c179e"
             ],
             [
              0.4444444444444444,
              "#bd3786"
             ],
             [
              0.5555555555555556,
              "#d8576b"
             ],
             [
              0.6666666666666666,
              "#ed7953"
             ],
             [
              0.7777777777777778,
              "#fb9f3a"
             ],
             [
              0.8888888888888888,
              "#fdca26"
             ],
             [
              1,
              "#f0f921"
             ]
            ],
            "type": "heatmapgl"
           }
          ],
          "histogram": [
           {
            "marker": {
             "pattern": {
              "fillmode": "overlay",
              "size": 10,
              "solidity": 0.2
             }
            },
            "type": "histogram"
           }
          ],
          "histogram2d": [
           {
            "colorbar": {
             "outlinewidth": 0,
             "ticks": ""
            },
            "colorscale": [
             [
              0,
              "#0d0887"
             ],
             [
              0.1111111111111111,
              "#46039f"
             ],
             [
              0.2222222222222222,
              "#7201a8"
             ],
             [
              0.3333333333333333,
              "#9c179e"
             ],
             [
              0.4444444444444444,
              "#bd3786"
             ],
             [
              0.5555555555555556,
              "#d8576b"
             ],
             [
              0.6666666666666666,
              "#ed7953"
             ],
             [
              0.7777777777777778,
              "#fb9f3a"
             ],
             [
              0.8888888888888888,
              "#fdca26"
             ],
             [
              1,
              "#f0f921"
             ]
            ],
            "type": "histogram2d"
           }
          ],
          "histogram2dcontour": [
           {
            "colorbar": {
             "outlinewidth": 0,
             "ticks": ""
            },
            "colorscale": [
             [
              0,
              "#0d0887"
             ],
             [
              0.1111111111111111,
              "#46039f"
             ],
             [
              0.2222222222222222,
              "#7201a8"
             ],
             [
              0.3333333333333333,
              "#9c179e"
             ],
             [
              0.4444444444444444,
              "#bd3786"
             ],
             [
              0.5555555555555556,
              "#d8576b"
             ],
             [
              0.6666666666666666,
              "#ed7953"
             ],
             [
              0.7777777777777778,
              "#fb9f3a"
             ],
             [
              0.8888888888888888,
              "#fdca26"
             ],
             [
              1,
              "#f0f921"
             ]
            ],
            "type": "histogram2dcontour"
           }
          ],
          "mesh3d": [
           {
            "colorbar": {
             "outlinewidth": 0,
             "ticks": ""
            },
            "type": "mesh3d"
           }
          ],
          "parcoords": [
           {
            "line": {
             "colorbar": {
              "outlinewidth": 0,
              "ticks": ""
             }
            },
            "type": "parcoords"
           }
          ],
          "pie": [
           {
            "automargin": true,
            "type": "pie"
           }
          ],
          "scatter": [
           {
            "marker": {
             "colorbar": {
              "outlinewidth": 0,
              "ticks": ""
             }
            },
            "type": "scatter"
           }
          ],
          "scatter3d": [
           {
            "line": {
             "colorbar": {
              "outlinewidth": 0,
              "ticks": ""
             }
            },
            "marker": {
             "colorbar": {
              "outlinewidth": 0,
              "ticks": ""
             }
            },
            "type": "scatter3d"
           }
          ],
          "scattercarpet": [
           {
            "marker": {
             "colorbar": {
              "outlinewidth": 0,
              "ticks": ""
             }
            },
            "type": "scattercarpet"
           }
          ],
          "scattergeo": [
           {
            "marker": {
             "colorbar": {
              "outlinewidth": 0,
              "ticks": ""
             }
            },
            "type": "scattergeo"
           }
          ],
          "scattergl": [
           {
            "marker": {
             "colorbar": {
              "outlinewidth": 0,
              "ticks": ""
             }
            },
            "type": "scattergl"
           }
          ],
          "scattermapbox": [
           {
            "marker": {
             "colorbar": {
              "outlinewidth": 0,
              "ticks": ""
             }
            },
            "type": "scattermapbox"
           }
          ],
          "scatterpolar": [
           {
            "marker": {
             "colorbar": {
              "outlinewidth": 0,
              "ticks": ""
             }
            },
            "type": "scatterpolar"
           }
          ],
          "scatterpolargl": [
           {
            "marker": {
             "colorbar": {
              "outlinewidth": 0,
              "ticks": ""
             }
            },
            "type": "scatterpolargl"
           }
          ],
          "scatterternary": [
           {
            "marker": {
             "colorbar": {
              "outlinewidth": 0,
              "ticks": ""
             }
            },
            "type": "scatterternary"
           }
          ],
          "surface": [
           {
            "colorbar": {
             "outlinewidth": 0,
             "ticks": ""
            },
            "colorscale": [
             [
              0,
              "#0d0887"
             ],
             [
              0.1111111111111111,
              "#46039f"
             ],
             [
              0.2222222222222222,
              "#7201a8"
             ],
             [
              0.3333333333333333,
              "#9c179e"
             ],
             [
              0.4444444444444444,
              "#bd3786"
             ],
             [
              0.5555555555555556,
              "#d8576b"
             ],
             [
              0.6666666666666666,
              "#ed7953"
             ],
             [
              0.7777777777777778,
              "#fb9f3a"
             ],
             [
              0.8888888888888888,
              "#fdca26"
             ],
             [
              1,
              "#f0f921"
             ]
            ],
            "type": "surface"
           }
          ],
          "table": [
           {
            "cells": {
             "fill": {
              "color": "#EBF0F8"
             },
             "line": {
              "color": "white"
             }
            },
            "header": {
             "fill": {
              "color": "#C8D4E3"
             },
             "line": {
              "color": "white"
             }
            },
            "type": "table"
           }
          ]
         },
         "layout": {
          "annotationdefaults": {
           "arrowcolor": "#2a3f5f",
           "arrowhead": 0,
           "arrowwidth": 1
          },
          "autotypenumbers": "strict",
          "coloraxis": {
           "colorbar": {
            "outlinewidth": 0,
            "ticks": ""
           }
          },
          "colorscale": {
           "diverging": [
            [
             0,
             "#8e0152"
            ],
            [
             0.1,
             "#c51b7d"
            ],
            [
             0.2,
             "#de77ae"
            ],
            [
             0.3,
             "#f1b6da"
            ],
            [
             0.4,
             "#fde0ef"
            ],
            [
             0.5,
             "#f7f7f7"
            ],
            [
             0.6,
             "#e6f5d0"
            ],
            [
             0.7,
             "#b8e186"
            ],
            [
             0.8,
             "#7fbc41"
            ],
            [
             0.9,
             "#4d9221"
            ],
            [
             1,
             "#276419"
            ]
           ],
           "sequential": [
            [
             0,
             "#0d0887"
            ],
            [
             0.1111111111111111,
             "#46039f"
            ],
            [
             0.2222222222222222,
             "#7201a8"
            ],
            [
             0.3333333333333333,
             "#9c179e"
            ],
            [
             0.4444444444444444,
             "#bd3786"
            ],
            [
             0.5555555555555556,
             "#d8576b"
            ],
            [
             0.6666666666666666,
             "#ed7953"
            ],
            [
             0.7777777777777778,
             "#fb9f3a"
            ],
            [
             0.8888888888888888,
             "#fdca26"
            ],
            [
             1,
             "#f0f921"
            ]
           ],
           "sequentialminus": [
            [
             0,
             "#0d0887"
            ],
            [
             0.1111111111111111,
             "#46039f"
            ],
            [
             0.2222222222222222,
             "#7201a8"
            ],
            [
             0.3333333333333333,
             "#9c179e"
            ],
            [
             0.4444444444444444,
             "#bd3786"
            ],
            [
             0.5555555555555556,
             "#d8576b"
            ],
            [
             0.6666666666666666,
             "#ed7953"
            ],
            [
             0.7777777777777778,
             "#fb9f3a"
            ],
            [
             0.8888888888888888,
             "#fdca26"
            ],
            [
             1,
             "#f0f921"
            ]
           ]
          },
          "colorway": [
           "#636efa",
           "#EF553B",
           "#00cc96",
           "#ab63fa",
           "#FFA15A",
           "#19d3f3",
           "#FF6692",
           "#B6E880",
           "#FF97FF",
           "#FECB52"
          ],
          "font": {
           "color": "#2a3f5f"
          },
          "geo": {
           "bgcolor": "white",
           "lakecolor": "white",
           "landcolor": "white",
           "showlakes": true,
           "showland": true,
           "subunitcolor": "#C8D4E3"
          },
          "hoverlabel": {
           "align": "left"
          },
          "hovermode": "closest",
          "mapbox": {
           "style": "light"
          },
          "paper_bgcolor": "white",
          "plot_bgcolor": "white",
          "polar": {
           "angularaxis": {
            "gridcolor": "#EBF0F8",
            "linecolor": "#EBF0F8",
            "ticks": ""
           },
           "bgcolor": "white",
           "radialaxis": {
            "gridcolor": "#EBF0F8",
            "linecolor": "#EBF0F8",
            "ticks": ""
           }
          },
          "scene": {
           "xaxis": {
            "backgroundcolor": "white",
            "gridcolor": "#DFE8F3",
            "gridwidth": 2,
            "linecolor": "#EBF0F8",
            "showbackground": true,
            "ticks": "",
            "zerolinecolor": "#EBF0F8"
           },
           "yaxis": {
            "backgroundcolor": "white",
            "gridcolor": "#DFE8F3",
            "gridwidth": 2,
            "linecolor": "#EBF0F8",
            "showbackground": true,
            "ticks": "",
            "zerolinecolor": "#EBF0F8"
           },
           "zaxis": {
            "backgroundcolor": "white",
            "gridcolor": "#DFE8F3",
            "gridwidth": 2,
            "linecolor": "#EBF0F8",
            "showbackground": true,
            "ticks": "",
            "zerolinecolor": "#EBF0F8"
           }
          },
          "shapedefaults": {
           "line": {
            "color": "#2a3f5f"
           }
          },
          "ternary": {
           "aaxis": {
            "gridcolor": "#DFE8F3",
            "linecolor": "#A2B1C6",
            "ticks": ""
           },
           "baxis": {
            "gridcolor": "#DFE8F3",
            "linecolor": "#A2B1C6",
            "ticks": ""
           },
           "bgcolor": "white",
           "caxis": {
            "gridcolor": "#DFE8F3",
            "linecolor": "#A2B1C6",
            "ticks": ""
           }
          },
          "title": {
           "x": 0.05
          },
          "xaxis": {
           "automargin": true,
           "gridcolor": "#EBF0F8",
           "linecolor": "#EBF0F8",
           "ticks": "",
           "title": {
            "standoff": 15
           },
           "zerolinecolor": "#EBF0F8",
           "zerolinewidth": 2
          },
          "yaxis": {
           "automargin": true,
           "gridcolor": "#EBF0F8",
           "linecolor": "#EBF0F8",
           "ticks": "",
           "title": {
            "standoff": 15
           },
           "zerolinecolor": "#EBF0F8",
           "zerolinewidth": 2
          }
         }
        },
        "width": 750,
        "xaxis": {
         "anchor": "y",
         "autorange": true,
         "domain": [
          0,
          1
         ],
         "linecolor": "black",
         "linewidth": 2,
         "range": [
          "2019-01-01",
          "2019-12-30"
         ],
         "showline": false,
         "tickangle": 0,
         "title": {
          "text": ""
         },
         "type": "date",
         "zerolinecolor": "black",
         "zerolinewidth": 2
        },
        "yaxis": {
         "anchor": "x",
         "domain": [
          0,
          1
         ],
         "linecolor": "black",
         "linewidth": 2,
         "range": [
          0,
          81000
         ],
         "showline": true,
         "title": {
          "text": "Community import [kWh]"
         },
         "type": "linear",
         "zerolinecolor": "black",
         "zerolinewidth": 2
        }
       }
      },
      "image/png": "[encoded data removed]",
      "text/html": [
       "<div>                            <div id=\"1f331521-f616-47e6-950a-005deabf3bc5\" class=\"plotly-graph-div\" style=\"height:600px; width:750px;\"></div>            <script type=\"text/javascript\">                require([\"plotly\"], function(Plotly) {                    window.PLOTLYENV=window.PLOTLYENV || {};                                    if (document.getElementById(\"1f331521-f616-47e6-950a-005deabf3bc5\")) {                    Plotly.newPlot(                        \"1f331521-f616-47e6-950a-005deabf3bc5\",                        [{\"hovertemplate\":\"variable=PV_only<br>Index=%{x}<br>value=%{y}<extra></extra>\",\"legendgroup\":\"PV_only\",\"line\":{\"color\":\"#4C78A8\",\"dash\":\"solid\",\"width\":4},\"marker\":{\"symbol\":\"circle\"},\"mode\":\"lines\",\"name\":\"PV_only\",\"orientation\":\"v\",\"showlegend\":true,\"type\":\"scatter\",\"x\":[\"2019-01-01T00:00:00\",\"2019-01-04T00:00:00\",\"2019-01-07T00:00:00\",\"2019-01-10T00:00:00\",\"2019-01-13T00:00:00\",\"2019-01-16T00:00:00\",\"2019-01-19T00:00:00\",\"2019-01-22T00:00:00\",\"2019-01-25T00:00:00\",\"2019-01-28T00:00:00\",\"2019-01-31T00:00:00\",\"2019-02-03T00:00:00\",\"2019-02-06T00:00:00\",\"2019-02-09T00:00:00\",\"2019-02-12T00:00:00\",\"2019-02-15T00:00:00\",\"2019-02-18T00:00:00\",\"2019-02-21T00:00:00\",\"2019-02-24T00:00:00\",\"2019-02-27T00:00:00\",\"2019-03-02T00:00:00\",\"2019-03-05T00:00:00\",\"2019-03-08T00:00:00\",\"2019-03-11T00:00:00\",\"2019-03-14T00:00:00\",\"2019-03-17T00:00:00\",\"2019-03-20T00:00:00\",\"2019-03-23T00:00:00\",\"2019-03-26T00:00:00\",\"2019-03-29T00:00:00\",\"2019-04-01T00:00:00\",\"2019-04-04T00:00:00\",\"2019-04-07T00:00:00\",\"2019-04-10T00:00:00\",\"2019-04-13T00:00:00\",\"2019-04-16T00:00:00\",\"2019-04-19T00:00:00\",\"2019-04-22T00:00:00\",\"2019-04-25T00:00:00\",\"2019-04-28T00:00:00\",\"2019-05-01T00:00:00\",\"2019-05-04T00:00:00\",\"2019-05-07T00:00:00\",\"2019-05-10T00:00:00\",\"2019-05-13T00:00:00\",\"2019-05-16T00:00:00\",\"2019-05-19T00:00:00\",\"2019-05-22T00:00:00\",\"2019-05-25T00:00:00\",\"2019-05-28T00:00:00\",\"2019-05-31T00:00:00\",\"2019-06-03T00:00:00\",\"2019-06-06T00:00:00\",\"2019-06-09T00:00:00\",\"2019-06-12T00:00:00\",\"2019-06-15T00:00:00\",\"2019-06-18T00:00:00\",\"2019-06-21T00:00:00\",\"2019-06-24T00:00:00\",\"2019-06-27T00:00:00\",\"2019-06-30T00:00:00\",\"2019-07-03T00:00:00\",\"2019-07-06T00:00:00\",\"2019-07-09T00:00:00\",\"2019-07-12T00:00:00\",\"2019-07-15T00:00:00\",\"2019-07-18T00:00:00\",\"2019-07-21T00:00:00\",\"2019-07-24T00:00:00\",\"2019-07-27T00:00:00\",\"2019-07-30T00:00:00\",\"2019-08-02T00:00:00\",\"2019-08-05T00:00:00\",\"2019-08-08T00:00:00\",\"2019-08-11T00:00:00\",\"2019-08-14T00:00:00\",\"2019-08-17T00:00:00\",\"2019-08-20T00:00:00\",\"2019-08-23T00:00:00\",\"2019-08-26T00:00:00\",\"2019-08-29T00:00:00\",\"2019-09-01T00:00:00\",\"2019-09-04T00:00:00\",\"2019-09-07T00:00:00\",\"2019-09-10T00:00:00\",\"2019-09-13T00:00:00\",\"2019-09-16T00:00:00\",\"2019-09-19T00:00:00\",\"2019-09-22T00:00:00\",\"2019-09-25T00:00:00\",\"2019-09-28T00:00:00\",\"2019-10-01T00:00:00\",\"2019-10-04T00:00:00\",\"2019-10-07T00:00:00\",\"2019-10-10T00:00:00\",\"2019-10-13T00:00:00\",\"2019-10-16T00:00:00\",\"2019-10-19T00:00:00\",\"2019-10-22T00:00:00\",\"2019-10-25T00:00:00\",\"2019-10-28T00:00:00\",\"2019-10-31T00:00:00\",\"2019-11-03T00:00:00\",\"2019-11-06T00:00:00\",\"2019-11-09T00:00:00\",\"2019-11-12T00:00:00\",\"2019-11-15T00:00:00\",\"2019-11-18T00:00:00\",\"2019-11-21T00:00:00\",\"2019-11-24T00:00:00\",\"2019-11-27T00:00:00\",\"2019-11-30T00:00:00\",\"2019-12-03T00:00:00\",\"2019-12-06T00:00:00\",\"2019-12-09T00:00:00\",\"2019-12-12T00:00:00\",\"2019-12-15T00:00:00\",\"2019-12-18T00:00:00\",\"2019-12-21T00:00:00\",\"2019-12-24T00:00:00\",\"2019-12-27T00:00:00\",\"2019-12-30T00:00:00\"],\"xaxis\":\"x\",\"y\":[1251.1339439924773,2385.5067494065706,3480.0089339877454,4313.627342022214,5205.30807658217,6122.2615217347275,7167.655971651651,8151.187525688779,8969.878815151724,10034.574688957551,10995.68878531507,11920.577963156029,12946.41441663956,14027.02868194398,15012.939263766471,15960.03614877417,16737.96587961985,17562.52126369889,18565.214681202644,19395.198786667796,20208.88419195882,20912.177782069262,21697.313038401244,22546.907031879236,23197.133280383106,23869.084651116173,24661.621278182734,25348.347264635264,25990.51757262353,26756.315881950588,27424.790506549023,28024.172415041856,28673.62033777283,29290.786627890386,29898.895527058197,30600.4177204011,31291.084963409583,32009.791811425857,32606.832997658523,33233.61273056596,33816.35294741707,34308.853704060435,34796.53833530962,35321.48099780974,35756.75036459477,36278.19872408846,36851.47267205127,37452.496567040274,38035.895641087875,38548.05797739788,38925.86987596487,39314.026323480524,39611.629817421526,39978.074977281045,40384.93941585673,40789.29618397175,41234.97888327402,41611.094716836524,42000.009419061535,42424.660836513,42763.834681551416,43152.932100527265,43506.609655745335,43986.97845437249,44423.58304197246,44826.64784347196,45232.64745036908,45581.68284711716,45944.93725388412,46353.50839582812,46709.56647693492,47103.09537763643,47452.42631124637,47805.999122202,48178.056173404366,48495.02994497019,48790.610717579635,49113.84315316996,49419.403815285696,49823.548539017844,50159.379987841974,50515.14847897831,50895.54800630474,51225.28299592607,51585.32288520035,51960.89282398339,52413.440100235835,52886.50899321089,53354.81186684748,53744.60688190163,54201.9985464884,54617.33666903092,55070.32609171791,55573.34777792287,56101.18339308089,56562.36580158302,57044.39117344216,57485.82060182955,57885.14329377597,58320.253839489415,58802.5487349687,59324.9312545942,60072.03562541402,60666.078932278564,61401.15851583739,62060.779015950015,62729.48950259426,63406.41623633853,64096.10690838513,64793.48434459426,65443.603481000304,66333.66290654076,67066.77045666656,67843.10691046098,68726.5331436731,69552.38897527404,70338.51485226123,71112.53463639287,71927.91669632366,72793.10809905239,73584.08110593808,74168.93279002866],\"yaxis\":\"y\"},{\"hovertemplate\":\"variable=Perfect<br>Index=%{x}<br>value=%{y}<extra></extra>\",\"legendgroup\":\"Perfect\",\"line\":{\"color\":\"#F58518\",\"dash\":\"solid\",\"width\":4},\"marker\":{\"symbol\":\"circle\"},\"mode\":\"lines\",\"name\":\"Perfect\",\"orientation\":\"v\",\"showlegend\":true,\"type\":\"scatter\",\"x\":[\"2019-01-01T00:00:00\",\"2019-01-04T00:00:00\",\"2019-01-07T00:00:00\",\"2019-01-10T00:00:00\",\"2019-01-13T00:00:00\",\"2019-01-16T00:00:00\",\"2019-01-19T00:00:00\",\"2019-01-22T00:00:00\",\"2019-01-25T00:00:00\",\"2019-01-28T00:00:00\",\"2019-01-31T00:00:00\",\"2019-02-03T00:00:00\",\"2019-02-06T00:00:00\",\"2019-02-09T00:00:00\",\"2019-02-12T00:00:00\",\"2019-02-15T00:00:00\",\"2019-02-18T00:00:00\",\"2019-02-21T00:00:00\",\"2019-02-24T00:00:00\",\"2019-02-27T00:00:00\",\"2019-03-02T00:00:00\",\"2019-03-05T00:00:00\",\"2019-03-08T00:00:00\",\"2019-03-11T00:00:00\",\"2019-03-14T00:00:00\",\"2019-03-17T00:00:00\",\"2019-03-20T00:00:00\",\"2019-03-23T00:00:00\",\"2019-03-26T00:00:00\",\"2019-03-29T00:00:00\",\"2019-04-01T00:00:00\",\"2019-04-04T00:00:00\",\"2019-04-07T00:00:00\",\"2019-04-10T00:00:00\",\"2019-04-13T00:00:00\",\"2019-04-16T00:00:00\",\"2019-04-19T00:00:00\",\"2019-04-22T00:00:00\",\"2019-04-25T00:00:00\",\"2019-04-28T00:00:00\",\"2019-05-01T00:00:00\",\"2019-05-04T00:00:00\",\"2019-05-07T00:00:00\",\"2019-05-10T00:00:00\",\"2019-05-13T00:00:00\",\"2019-05-16T00:00:00\",\"2019-05-19T00:00:00\",\"2019-05-22T00:00:00\",\"2019-05-25T00:00:00\",\"2019-05-28T00:00:00\",\"2019-05-31T00:00:00\",\"2019-06-03T00:00:00\",\"2019-06-06T00:00:00\",\"2019-06-09T00:00:00\",\"2019-06-12T00:00:00\",\"2019-06-15T00:00:00\",\"2019-06-18T00:00:00\",\"2019-06-21T00:00:00\",\"2019-06-24T00:00:00\",\"2019-06-27T00:00:00\",\"2019-06-30T00:00:00\",\"2019-07-03T00:00:00\",\"2019-07-06T00:00:00\",\"2019-07-09T00:00:00\",\"2019-07-12T00:00:00\",\"2019-07-15T00:00:00\",\"2019-07-18T00:00:00\",\"2019-07-21T00:00:00\",\"2019-07-24T00:00:00\",\"2019-07-27T00:00:00\",\"2019-07-30T00:00:00\",\"2019-08-02T00:00:00\",\"2019-08-05T00:00:00\",\"2019-08-08T00:00:00\",\"2019-08-11T00:00:00\",\"2019-08-14T00:00:00\",\"2019-08-17T00:00:00\",\"2019-08-20T00:00:00\",\"2019-08-23T00:00:00\",\"2019-08-26T00:00:00\",\"2019-08-29T00:00:00\",\"2019-09-01T00:00:00\",\"2019-09-04T00:00:00\",\"2019-09-07T00:00:00\",\"2019-09-10T00:00:00\",\"2019-09-13T00:00:00\",\"2019-09-16T00:00:00\",\"2019-09-19T00:00:00\",\"2019-09-22T00:00:00\",\"2019-09-25T00:00:00\",\"2019-09-28T00:00:00\",\"2019-10-01T00:00:00\",\"2019-10-04T00:00:00\",\"2019-10-07T00:00:00\",\"2019-10-10T00:00:00\",\"2019-10-13T00:00:00\",\"2019-10-16T00:00:00\",\"2019-10-19T00:00:00\",\"2019-10-22T00:00:00\",\"2019-10-25T00:00:00\",\"2019-10-28T00:00:00\",\"2019-10-31T00:00:00\",\"2019-11-03T00:00:00\",\"2019-11-06T00:00:00\",\"2019-11-09T00:00:00\",\"2019-11-12T00:00:00\",\"2019-11-15T00:00:00\",\"2019-11-18T00:00:00\",\"2019-11-21T00:00:00\",\"2019-11-24T00:00:00\",\"2019-11-27T00:00:00\",\"2019-11-30T00:00:00\",\"2019-12-03T00:00:00\",\"2019-12-06T00:00:00\",\"2019-12-09T00:00:00\",\"2019-12-12T00:00:00\",\"2019-12-15T00:00:00\",\"2019-12-18T00:00:00\",\"2019-12-21T00:00:00\",\"2019-12-24T00:00:00\",\"2019-12-27T00:00:00\",\"2019-12-30T00:00:00\"],\"xaxis\":\"x\",\"y\":[1242.1109026812403,2256.264139995927,3186.4333954647313,3937.626757994045,4744.3723367015455,5607.553252865323,6591.302884449554,7444.726612375627,8054.250631661356,8988.472627694857,9850.869329388319,10654.729676068457,11640.17795983437,12557.45397545301,13499.154035612666,14358.746436131669,14941.424611292241,15562.376326995005,16414.084097665516,17171.742676148933,17728.057202299726,18191.3645260405,18696.1721881092,19265.302645568754,19688.635762314847,20077.223219110463,20663.439665101916,21030.485528570694,21428.322856653605,21962.630799040242,22430.544513565506,22833.913890493717,23223.13832350761,23551.243756080705,23839.648039571424,24336.8598515383,24879.337776827768,25378.208171334776,25721.53591277299,26093.927548055686,26576.22925036027,26833.333858275862,27113.355170583,27365.30694674357,27520.665392392963,27775.897703430623,28152.693091390414,28539.009504627647,28842.832296033605,29104.82314354233,29207.065088879488,29418.761471805894,29439.444501453843,29533.785176749192,29663.5625530749,29761.269667108714,29973.879055770987,30074.4527496488,30192.913061166266,30338.724228887615,30421.70411054016,30580.014101007855,30734.393228233686,31127.160941079233,31325.817212157883,31460.79479864934,31672.335087681444,31801.360862963462,31879.417615724797,32120.832721385963,32334.76607572974,32469.41737101047,32569.46511364321,32641.250402921705,32733.895026461505,32769.18240989413,32790.37713737486,32870.50355727788,32932.30391606091,33118.076409780784,33165.63559561757,33252.22498766714,33346.32845981496,33378.57287572252,33489.686530682215,33590.826026398216,33843.88906266536,34105.76507398604,34345.92483014396,34488.37593741467,34765.23998892537,34938.909776197055,35146.08325803729,35436.40001161756,35817.24281264613,36086.05648580501,36337.491691047326,36486.62485209147,36642.46960602166,36815.0169661853,37069.99996296171,37385.40325168512,38070.17406449084,38460.18916283029,39072.30122516865,39690.523332648336,40299.94035837474,40828.7097188039,41428.570446830105,42029.75270140687,42648.336375174265,43472.457498703654,44203.25208699022,44913.25847479578,45727.616223569734,46521.316943931946,47114.911502082614,47744.11000949153,48256.55084817258,49070.375171196676,49762.25587263574,50176.059275377294],\"yaxis\":\"y\"},{\"hovertemplate\":\"variable=Reactive<br>Index=%{x}<br>value=%{y}<extra></extra>\",\"legendgroup\":\"Reactive\",\"line\":{\"color\":\"#E45756\",\"dash\":\"solid\"},\"marker\":{\"symbol\":\"circle\"},\"mode\":\"lines\",\"name\":\"Reactive\",\"orientation\":\"v\",\"showlegend\":true,\"type\":\"scatter\",\"x\":[\"2019-01-01T00:00:00\",\"2019-01-04T00:00:00\",\"2019-01-07T00:00:00\",\"2019-01-10T00:00:00\",\"2019-01-13T00:00:00\",\"2019-01-16T00:00:00\",\"2019-01-19T00:00:00\",\"2019-01-22T00:00:00\",\"2019-01-25T00:00:00\",\"2019-01-28T00:00:00\",\"2019-01-31T00:00:00\",\"2019-02-03T00:00:00\",\"2019-02-06T00:00:00\",\"2019-02-09T00:00:00\",\"2019-02-12T00:00:00\",\"2019-02-15T00:00:00\",\"2019-02-18T00:00:00\",\"2019-02-21T00:00:00\",\"2019-02-24T00:00:00\",\"2019-02-27T00:00:00\",\"2019-03-02T00:00:00\",\"2019-03-05T00:00:00\",\"2019-03-08T00:00:00\",\"2019-03-11T00:00:00\",\"2019-03-14T00:00:00\",\"2019-03-17T00:00:00\",\"2019-03-20T00:00:00\",\"2019-03-23T00:00:00\",\"2019-03-26T00:00:00\",\"2019-03-29T00:00:00\",\"2019-04-01T00:00:00\",\"2019-04-04T00:00:00\",\"2019-04-07T00:00:00\",\"2019-04-10T00:00:00\",\"2019-04-13T00:00:00\",\"2019-04-16T00:00:00\",\"2019-04-19T00:00:00\",\"2019-04-22T00:00:00\",\"2019-04-25T00:00:00\",\"2019-04-28T00:00:00\",\"2019-05-01T00:00:00\",\"2019-05-04T00:00:00\",\"2019-05-07T00:00:00\",\"2019-05-10T00:00:00\",\"2019-05-13T00:00:00\",\"2019-05-16T00:00:00\",\"2019-05-19T00:00:00\",\"2019-05-22T00:00:00\",\"2019-05-25T00:00:00\",\"2019-05-28T00:00:00\",\"2019-05-31T00:00:00\",\"2019-06-03T00:00:00\",\"2019-06-06T00:00:00\",\"2019-06-09T00:00:00\",\"2019-06-12T00:00:00\",\"2019-06-15T00:00:00\",\"2019-06-18T00:00:00\",\"2019-06-21T00:00:00\",\"2019-06-24T00:00:00\",\"2019-06-27T00:00:00\",\"2019-06-30T00:00:00\",\"2019-07-03T00:00:00\",\"2019-07-06T00:00:00\",\"2019-07-09T00:00:00\",\"2019-07-12T00:00:00\",\"2019-07-15T00:00:00\",\"2019-07-18T00:00:00\",\"2019-07-21T00:00:00\",\"2019-07-24T00:00:00\",\"2019-07-27T00:00:00\",\"2019-07-30T00:00:00\",\"2019-08-02T00:00:00\",\"2019-08-05T00:00:00\",\"2019-08-08T00:00:00\",\"2019-08-11T00:00:00\",\"2019-08-14T00:00:00\",\"2019-08-17T00:00:00\",\"2019-08-20T00:00:00\",\"2019-08-23T00:00:00\",\"2019-08-26T00:00:00\",\"2019-08-29T00:00:00\",\"2019-09-01T00:00:00\",\"2019-09-04T00:00:00\",\"2019-09-07T00:00:00\",\"2019-09-10T00:00:00\",\"2019-09-13T00:00:00\",\"2019-09-16T00:00:00\",\"2019-09-19T00:00:00\",\"2019-09-22T00:00:00\",\"2019-09-25T00:00:00\",\"2019-09-28T00:00:00\",\"2019-10-01T00:00:00\",\"2019-10-04T00:00:00\",\"2019-10-07T00:00:00\",\"2019-10-10T00:00:00\",\"2019-10-13T00:00:00\",\"2019-10-16T00:00:00\",\"2019-10-19T00:00:00\",\"2019-10-22T00:00:00\",\"2019-10-25T00:00:00\",\"2019-10-28T00:00:00\",\"2019-10-31T00:00:00\",\"2019-11-03T00:00:00\",\"2019-11-06T00:00:00\",\"2019-11-09T00:00:00\",\"2019-11-12T00:00:00\",\"2019-11-15T00:00:00\",\"2019-11-18T00:00:00\",\"2019-11-21T00:00:00\",\"2019-11-24T00:00:00\",\"2019-11-27T00:00:00\",\"2019-11-30T00:00:00\",\"2019-12-03T00:00:00\",\"2019-12-06T00:00:00\",\"2019-12-09T00:00:00\",\"2019-12-12T00:00:00\",\"2019-12-15T00:00:00\",\"2019-12-18T00:00:00\",\"2019-12-21T00:00:00\",\"2019-12-24T00:00:00\",\"2019-12-27T00:00:00\",\"2019-12-30T00:00:00\"],\"xaxis\":\"x\",\"y\":[1203.5698455485467,2207.9677049421152,3157.9227793382493,3884.285032417638,4688.3537468616905,5550.51511890445,6591.420190201859,7423.266512245138,8019.682207595142,8993.327793059138,9830.870227885145,10667.228380808901,11629.175728005022,12571.200711294738,13462.63111796627,14313.48202393358,14895.630606708224,15533.774298517863,16425.996094656904,17144.323653779582,17749.241197700885,18175.944194019485,18673.7192891174,19253.189943184796,19677.727589694434,20065.940913339946,20670.342876557268,21064.073013609945,21426.966622858803,21959.234630951018,22441.246230643308,22830.098130441464,23216.60216941327,23552.95939335237,23878.3106358068,24346.072711217617,24886.887359598837,25368.732596454032,25721.055242270722,26115.538235486674,26602.013272579537,26880.398098560952,27125.526341827306,27383.14990529467,27553.757922800647,27776.568412543187,28147.68372753213,28548.77289287085,28897.717548758992,29127.23529490319,29251.594668739166,29457.268426171573,29476.02498499271,29533.50904043563,29662.58299575328,29792.435597646625,29968.632444585215,30075.833646389194,30186.680766457775,30328.279523936562,30412.77621227999,30569.727446670782,30735.92691211474,31078.82773517079,31277.031650183784,31403.22599549815,31619.555592311088,31758.95941060324,31830.732491532603,32088.932271569025,32278.49606206348,32413.577403901538,32486.685933043085,32571.175353181454,32676.72160408694,32721.93994737526,32743.18456349819,32777.79963552143,32801.29105649653,33021.67330759666,33057.970040821725,33153.55361366518,33233.84690065188,33290.63792521887,33376.14159911611,33454.01248578608,33680.177798254816,33969.15239725643,34230.48413259905,34361.64008676633,34660.88866861698,34808.346698602836,34995.191657394906,35283.01059130455,35659.41396137988,35934.684692234645,36204.82829419244,36389.596731628124,36509.87069793654,36663.62285348285,36937.4848869706,37223.38989026723,37970.49426108705,38301.00085366627,38980.794574848645,39547.15692568745,40174.52502433311,40669.996167649624,41286.521413215014,41935.32998474754,42506.88227656579,43378.7130021602,44070.45215627484,44787.874227903376,45580.36875092631,46406.18591127555,47015.5013677681,47613.04696632051,48168.01427927894,48923.72168420866,49617.45996697434,50087.293998876536],\"yaxis\":\"y\"}],                        {\"font\":{\"size\":19},\"height\":600,\"legend\":{\"title\":{\"text\":\"variable\"},\"tracegroupgap\":0},\"margin\":{\"b\":10,\"l\":20,\"r\":50,\"t\":50},\"showlegend\":false,\"template\":{\"data\":{\"bar\":[{\"error_x\":{\"color\":\"#2a3f5f\"},\"error_y\":{\"color\":\"#2a3f5f\"},\"marker\":{\"line\":{\"color\":\"white\",\"width\":0.5},\"pattern\":{\"fillmode\":\"overlay\",\"size\":10,\"solidity\":0.2}},\"type\":\"bar\"}],\"barpolar\":[{\"marker\":{\"line\":{\"color\":\"white\",\"width\":0.5},\"pattern\":{\"fillmode\":\"overlay\",\"size\":10,\"solidity\":0.2}},\"type\":\"barpolar\"}],\"carpet\":[{\"aaxis\":{\"endlinecolor\":\"#2a3f5f\",\"gridcolor\":\"#C8D4E3\",\"linecolor\":\"#C8D4E3\",\"minorgridcolor\":\"#C8D4E3\",\"startlinecolor\":\"#2a3f5f\"},\"baxis\":{\"endlinecolor\":\"#2a3f5f\",\"gridcolor\":\"#C8D4E3\",\"linecolor\":\"#C8D4E3\",\"minorgridcolor\":\"#C8D4E3\",\"startlinecolor\":\"#2a3f5f\"},\"type\":\"carpet\"}],\"choropleth\":[{\"colorbar\":{\"outlinewidth\":0,\"ticks\":\"\"},\"type\":\"choropleth\"}],\"contour\":[{\"colorbar\":{\"outlinewidth\":0,\"ticks\":\"\"},\"colorscale\":[[0.0,\"#0d0887\"],[0.1111111111111111,\"#46039f\"],[0.2222222222222222,\"#7201a8\"],[0.3333333333333333,\"#9c179e\"],[0.4444444444444444,\"#bd3786\"],[0.5555555555555556,\"#d8576b\"],[0.6666666666666666,\"#ed7953\"],[0.7777777777777778,\"#fb9f3a\"],[0.8888888888888888,\"#fdca26\"],[1.0,\"#f0f921\"]],\"type\":\"contour\"}],\"contourcarpet\":[{\"colorbar\":{\"outlinewidth\":0,\"ticks\":\"\"},\"type\":\"contourcarpet\"}],\"heatmap\":[{\"colorbar\":{\"outlinewidth\":0,\"ticks\":\"\"},\"colorscale\":[[0.0,\"#0d0887\"],[0.1111111111111111,\"#46039f\"],[0.2222222222222222,\"#7201a8\"],[0.3333333333333333,\"#9c179e\"],[0.4444444444444444,\"#bd3786\"],[0.5555555555555556,\"#d8576b\"],[0.6666666666666666,\"#ed7953\"],[0.7777777777777778,\"#fb9f3a\"],[0.8888888888888888,\"#fdca26\"],[1.0,\"#f0f921\"]],\"type\":\"heatmap\"}],\"heatmapgl\":[{\"colorbar\":{\"outlinewidth\":0,\"ticks\":\"\"},\"colorscale\":[[0.0,\"#0d0887\"],[0.1111111111111111,\"#46039f\"],[0.2222222222222222,\"#7201a8\"],[0.3333333333333333,\"#9c179e\"],[0.4444444444444444,\"#bd3786\"],[0.5555555555555556,\"#d8576b\"],[0.6666666666666666,\"#ed7953\"],[0.7777777777777778,\"#fb9f3a\"],[0.8888888888888888,\"#fdca26\"],[1.0,\"#f0f921\"]],\"type\":\"heatmapgl\"}],\"histogram\":[{\"marker\":{\"pattern\":{\"fillmode\":\"overlay\",\"size\":10,\"solidity\":0.2}},\"type\":\"histogram\"}],\"histogram2d\":[{\"colorbar\":{\"outlinewidth\":0,\"ticks\":\"\"},\"colorscale\":[[0.0,\"#0d0887\"],[0.1111111111111111,\"#46039f\"],[0.2222222222222222,\"#7201a8\"],[0.3333333333333333,\"#9c179e\"],[0.4444444444444444,\"#bd3786\"],[0.5555555555555556,\"#d8576b\"],[0.6666666666666666,\"#ed7953\"],[0.7777777777777778,\"#fb9f3a\"],[0.8888888888888888,\"#fdca26\"],[1.0,\"#f0f921\"]],\"type\":\"histogram2d\"}],\"histogram2dcontour\":[{\"colorbar\":{\"outlinewidth\":0,\"ticks\":\"\"},\"colorscale\":[[0.0,\"#0d0887\"],[0.1111111111111111,\"#46039f\"],[0.2222222222222222,\"#7201a8\"],[0.3333333333333333,\"#9c179e\"],[0.4444444444444444,\"#bd3786\"],[0.5555555555555556,\"#d8576b\"],[0.6666666666666666,\"#ed7953\"],[0.7777777777777778,\"#fb9f3a\"],[0.8888888888888888,\"#fdca26\"],[1.0,\"#f0f921\"]],\"type\":\"histogram2dcontour\"}],\"mesh3d\":[{\"colorbar\":{\"outlinewidth\":0,\"ticks\":\"\"},\"type\":\"mesh3d\"}],\"parcoords\":[{\"line\":{\"colorbar\":{\"outlinewidth\":0,\"ticks\":\"\"}},\"type\":\"parcoords\"}],\"pie\":[{\"automargin\":true,\"type\":\"pie\"}],\"scatter\":[{\"marker\":{\"colorbar\":{\"outlinewidth\":0,\"ticks\":\"\"}},\"type\":\"scatter\"}],\"scatter3d\":[{\"line\":{\"colorbar\":{\"outlinewidth\":0,\"ticks\":\"\"}},\"marker\":{\"colorbar\":{\"outlinewidth\":0,\"ticks\":\"\"}},\"type\":\"scatter3d\"}],\"scattercarpet\":[{\"marker\":{\"colorbar\":{\"outlinewidth\":0,\"ticks\":\"\"}},\"type\":\"scattercarpet\"}],\"scattergeo\":[{\"marker\":{\"colorbar\":{\"outlinewidth\":0,\"ticks\":\"\"}},\"type\":\"scattergeo\"}],\"scattergl\":[{\"marker\":{\"colorbar\":{\"outlinewidth\":0,\"ticks\":\"\"}},\"type\":\"scattergl\"}],\"scattermapbox\":[{\"marker\":{\"colorbar\":{\"outlinewidth\":0,\"ticks\":\"\"}},\"type\":\"scattermapbox\"}],\"scatterpolar\":[{\"marker\":{\"colorbar\":{\"outlinewidth\":0,\"ticks\":\"\"}},\"type\":\"scatterpolar\"}],\"scatterpolargl\":[{\"marker\":{\"colorbar\":{\"outlinewidth\":0,\"ticks\":\"\"}},\"type\":\"scatterpolargl\"}],\"scatterternary\":[{\"marker\":{\"colorbar\":{\"outlinewidth\":0,\"ticks\":\"\"}},\"type\":\"scatterternary\"}],\"surface\":[{\"colorbar\":{\"outlinewidth\":0,\"ticks\":\"\"},\"colorscale\":[[0.0,\"#0d0887\"],[0.1111111111111111,\"#46039f\"],[0.2222222222222222,\"#7201a8\"],[0.3333333333333333,\"#9c179e\"],[0.4444444444444444,\"#bd3786\"],[0.5555555555555556,\"#d8576b\"],[0.6666666666666666,\"#ed7953\"],[0.7777777777777778,\"#fb9f3a\"],[0.8888888888888888,\"#fdca26\"],[1.0,\"#f0f921\"]],\"type\":\"surface\"}],\"table\":[{\"cells\":{\"fill\":{\"color\":\"#EBF0F8\"},\"line\":{\"color\":\"white\"}},\"header\":{\"fill\":{\"color\":\"#C8D4E3\"},\"line\":{\"color\":\"white\"}},\"type\":\"table\"}]},\"layout\":{\"annotationdefaults\":{\"arrowcolor\":\"#2a3f5f\",\"arrowhead\":0,\"arrowwidth\":1},\"autotypenumbers\":\"strict\",\"coloraxis\":{\"colorbar\":{\"outlinewidth\":0,\"ticks\":\"\"}},\"colorscale\":{\"diverging\":[[0,\"#8e0152\"],[0.1,\"#c51b7d\"],[0.2,\"#de77ae\"],[0.3,\"#f1b6da\"],[0.4,\"#fde0ef\"],[0.5,\"#f7f7f7\"],[0.6,\"#e6f5d0\"],[0.7,\"#b8e186\"],[0.8,\"#7fbc41\"],[0.9,\"#4d9221\"],[1,\"#276419\"]],\"sequential\":[[0.0,\"#0d0887\"],[0.1111111111111111,\"#46039f\"],[0.2222222222222222,\"#7201a8\"],[0.3333333333333333,\"#9c179e\"],[0.4444444444444444,\"#bd3786\"],[0.5555555555555556,\"#d8576b\"],[0.6666666666666666,\"#ed7953\"],[0.7777777777777778,\"#fb9f3a\"],[0.8888888888888888,\"#fdca26\"],[1.0,\"#f0f921\"]],\"sequentialminus\":[[0.0,\"#0d0887\"],[0.1111111111111111,\"#46039f\"],[0.2222222222222222,\"#7201a8\"],[0.3333333333333333,\"#9c179e\"],[0.4444444444444444,\"#bd3786\"],[0.5555555555555556,\"#d8576b\"],[0.6666666666666666,\"#ed7953\"],[0.7777777777777778,\"#fb9f3a\"],[0.8888888888888888,\"#fdca26\"],[1.0,\"#f0f921\"]]},\"colorway\":[\"#636efa\",\"#EF553B\",\"#00cc96\",\"#ab63fa\",\"#FFA15A\",\"#19d3f3\",\"#FF6692\",\"#B6E880\",\"#FF97FF\",\"#FECB52\"],\"font\":{\"color\":\"#2a3f5f\"},\"geo\":{\"bgcolor\":\"white\",\"lakecolor\":\"white\",\"landcolor\":\"white\",\"showlakes\":true,\"showland\":true,\"subunitcolor\":\"#C8D4E3\"},\"hoverlabel\":{\"align\":\"left\"},\"hovermode\":\"closest\",\"mapbox\":{\"style\":\"light\"},\"paper_bgcolor\":\"white\",\"plot_bgcolor\":\"white\",\"polar\":{\"angularaxis\":{\"gridcolor\":\"#EBF0F8\",\"linecolor\":\"#EBF0F8\",\"ticks\":\"\"},\"bgcolor\":\"white\",\"radialaxis\":{\"gridcolor\":\"#EBF0F8\",\"linecolor\":\"#EBF0F8\",\"ticks\":\"\"}},\"scene\":{\"xaxis\":{\"backgroundcolor\":\"white\",\"gridcolor\":\"#DFE8F3\",\"gridwidth\":2,\"linecolor\":\"#EBF0F8\",\"showbackground\":true,\"ticks\":\"\",\"zerolinecolor\":\"#EBF0F8\"},\"yaxis\":{\"backgroundcolor\":\"white\",\"gridcolor\":\"#DFE8F3\",\"gridwidth\":2,\"linecolor\":\"#EBF0F8\",\"showbackground\":true,\"ticks\":\"\",\"zerolinecolor\":\"#EBF0F8\"},\"zaxis\":{\"backgroundcolor\":\"white\",\"gridcolor\":\"#DFE8F3\",\"gridwidth\":2,\"linecolor\":\"#EBF0F8\",\"showbackground\":true,\"ticks\":\"\",\"zerolinecolor\":\"#EBF0F8\"}},\"shapedefaults\":{\"line\":{\"color\":\"#2a3f5f\"}},\"ternary\":{\"aaxis\":{\"gridcolor\":\"#DFE8F3\",\"linecolor\":\"#A2B1C6\",\"ticks\":\"\"},\"baxis\":{\"gridcolor\":\"#DFE8F3\",\"linecolor\":\"#A2B1C6\",\"ticks\":\"\"},\"bgcolor\":\"white\",\"caxis\":{\"gridcolor\":\"#DFE8F3\",\"linecolor\":\"#A2B1C6\",\"ticks\":\"\"}},\"title\":{\"x\":0.05},\"xaxis\":{\"automargin\":true,\"gridcolor\":\"#EBF0F8\",\"linecolor\":\"#EBF0F8\",\"ticks\":\"\",\"title\":{\"standoff\":15},\"zerolinecolor\":\"#EBF0F8\",\"zerolinewidth\":2},\"yaxis\":{\"automargin\":true,\"gridcolor\":\"#EBF0F8\",\"linecolor\":\"#EBF0F8\",\"ticks\":\"\",\"title\":{\"standoff\":15},\"zerolinecolor\":\"#EBF0F8\",\"zerolinewidth\":2}}},\"width\":750,\"xaxis\":{\"anchor\":\"y\",\"domain\":[0.0,1.0],\"linecolor\":\"black\",\"linewidth\":2,\"showline\":false,\"tickangle\":0,\"title\":{\"text\":\"\"},\"zerolinecolor\":\"black\",\"zerolinewidth\":2},\"yaxis\":{\"anchor\":\"x\",\"domain\":[0.0,1.0],\"linecolor\":\"black\",\"linewidth\":2,\"range\":[0,81000],\"showline\":true,\"title\":{\"text\":\"Community import [kWh]\"},\"zerolinecolor\":\"black\",\"zerolinewidth\":2}},                        {\"responsive\": true}                    ).then(function(){\n",
       "                            \n",
       "var gd = document.getElementById('1f331521-f616-47e6-950a-005deabf3bc5');\n",
       "var x = new MutationObserver(function (mutations, observer) {{\n",
       "        var display = window.getComputedStyle(gd).display;\n",
       "        if (!display || display === 'none') {{\n",
       "            console.log([gd, 'removed!']);\n",
       "            Plotly.purge(gd);\n",
       "            observer.disconnect();\n",
       "        }}\n",
       "}});\n",
       "\n",
       "// Listen for the removal of the full notebook cells\n",
       "var notebookContainer = gd.closest('#notebook-container');\n",
       "if (notebookContainer) {{\n",
       "    x.observe(notebookContainer, {childList: true});\n",
       "}}\n",
       "\n",
       "// Listen for the clearing of the current output cell\n",
       "var outputEl = gd.closest('.output');\n",
       "if (outputEl) {{\n",
       "    x.observe(outputEl, {childList: true});\n",
       "}}\n",
       "\n",
       "                        })                };                });            </script>        </div>"
      ]
     },
     "metadata": {},
     "output_type": "display_data"
    }
   ],
   "source": [
    "graph = perfect_communityimport_concat.loc[:end].copy()\n",
    "graph.columns = [\"check_perfect\"]\n",
    "\n",
    "graph[\"Total\"] = _individuals.loc[graph.index[0]:graph.index[-1], house_ids].sum(axis=1)\n",
    "graph[\"pv_production_kw\"] = pv_size * len(house_ids) * _individuals.loc[graph.index[0]:graph.index[-1], \"pv_1kw\"]\n",
    "print(f\"Check PV size = {pv_size} kWp\")\n",
    "\n",
    "graph[\"PV_only\"] = (graph[\"Total\"] - graph[\"pv_production_kw\"]).clip(lower=0)\n",
    "graph[\"Perfect\"] = (graph[\"Total\"] - graph[\"pv_production_kw\"] + perfect_schedules_concat.sum(axis=1)).clip(lower=0)\n",
    "graph[\"Reactive\"] = (graph[\"Total\"].resample(freq).ffill() \n",
    "                     - graph[\"pv_production_kw\"].resample(freq).ffill()\n",
    "                     + result[[f\"{name}_storage\" for name in house_ids]].sum(axis=1)).resample(\"15T\").mean().clip(lower=0)\n",
    "\n",
    "np.testing.assert_almost_equal(\n",
    "    graph[\"Perfect\"].sum(), graph[\"check_perfect\"].sum(),\n",
    "    decimal=7, verbose=True)\n",
    "graph.drop(columns=[\"Total\", \"pv_production_kw\", \"check_perfect\"], inplace=True)\n",
    "\n",
    "graph = graph.cumsum(axis=0) / 4\n",
    "graph = graph.resample(\"3D\").last()\n",
    "\n",
    "fig = px.line(graph.loc[:end, [\"PV_only\", \"Perfect\", \"Reactive\"]])\n",
    "\n",
    "fig.data[0].update(line_width=4)\n",
    "fig.data[1].update(line_width=4)\n",
    "fig.update_layout(\n",
    "    layout,\n",
    "    height=600,\n",
    "    width=750,\n",
    "    showlegend=False,\n",
    "    xaxis_title=\"\",\n",
    "    yaxis_range=[0, 81000],\n",
    "    yaxis_title=\"Community import [kWh]\",\n",
    "    yaxis_showline=True, yaxis_linewidth=2, yaxis_linecolor='black',\n",
    "    xaxis_showline=False, xaxis_linewidth=2, xaxis_linecolor='black',\n",
    "    xaxis_tickangle=0)\n",
    "fig.show()\n",
    "fig.write_image(f\"results/reactive_full_year.svg\")"
   ]
  },
  {
   "cell_type": "markdown",
   "metadata": {},
   "source": [
    "# Compare ending costs"
   ]
  },
  {
   "cell_type": "code",
   "execution_count": 8,
   "metadata": {},
   "outputs": [],
   "source": [
    "def community_bill(df, member_ids, timing, deltat=15, buy_price=0.1740, exchange_price=0.0371):\n",
    "    \"\"\"Return cost for the community\n",
    "    cost = buy [€/kWh] imports + pay fees on exchanges [€]\n",
    "    \"\"\"\n",
    "    # Community import (sum then max)\n",
    "    pos_netload = (\n",
    "        (\n",
    "            df[[a for a in member_ids]].groupby(pd.Grouper(freq=timing)).sum().sum(axis=1)\n",
    "            #- df[[prod_col for a in member_ids]].groupby(pd.Grouper(freq=timing)).sum().sum(axis=1)\n",
    "        )\n",
    "        .clip(lower=0)\n",
    "        .sum()\n",
    "        * deltat\n",
    "        / 60\n",
    "    )\n",
    "\n",
    "    # Sum of ind import (max then sum)\n",
    "    pos_n_netload = (\n",
    "        sum(\n",
    "            (df[a]).groupby(pd.Grouper(freq=timing)).sum().clip(lower=0).sum()\n",
    "            #(df[a] - df[prod_col]).groupby(pd.Grouper(freq=timing)).sum().clip(lower=0).sum()\n",
    "            for a in member_ids\n",
    "        )\n",
    "        * deltat\n",
    "        / 60\n",
    "    )\n",
    "\n",
    "    return np.round(\n",
    "        buy_price * pos_netload + exchange_price * (pos_n_netload - pos_netload), 3\n",
    "    )"
   ]
  },
  {
   "cell_type": "code",
   "execution_count": 16,
   "metadata": {},
   "outputs": [
    {
     "name": "stdout",
     "output_type": "stream",
     "text": [
      "Optimization cost = 456.36 €\n"
     ]
    }
   ],
   "source": [
    "graph = perfect_schedules_concat.copy()\n",
    "graph.columns = house_ids\n",
    "for col in graph.columns:\n",
    "    graph[col] += individuals.loc[start:end, col]\n",
    "\n",
    "perfect_cost = community_bill(graph, house_ids, timing=\"15T\", deltat=15, buy_price=0.1740, exchange_price=0.0371)\n",
    "print(f\"Optimization cost = {np.round(perfect_cost / len(house_ids), 2)} €\")"
   ]
  },
  {
   "cell_type": "code",
   "execution_count": 17,
   "metadata": {},
   "outputs": [
    {
     "name": "stdout",
     "output_type": "stream",
     "text": [
      "Reactive cost = 469.04 €\n"
     ]
    }
   ],
   "source": [
    "graph = result.copy()\n",
    "for col in house_ids:\n",
    "    graph[col] += graph[f\"{col}_storage\"]\n",
    "\n",
    "reactive_cost = community_bill(graph, house_ids, timing=\"15T\", deltat=3, buy_price=0.1740, exchange_price=0.0371)\n",
    "print(f\"Reactive cost = {np.round(reactive_cost / len(house_ids), 2)} €\")"
   ]
  },
  {
   "cell_type": "code",
   "execution_count": 18,
   "metadata": {},
   "outputs": [
    {
     "name": "stdout",
     "output_type": "stream",
     "text": [
      "PV only cost = 659.76 €\n"
     ]
    }
   ],
   "source": [
    "graph = individuals.loc[start:end, house_ids].copy()\n",
    "\n",
    "forecast_cost = community_bill(graph, house_ids, timing=\"15T\", deltat=15, buy_price=0.1740, exchange_price=0.0371)\n",
    "print(f\"PV only cost = {np.round(forecast_cost / len(house_ids), 2)} €\")"
   ]
  },
  {
   "cell_type": "code",
   "execution_count": 22,
   "metadata": {},
   "outputs": [
    {
     "data": {
      "text/plain": [
       "456.35"
      ]
     },
     "execution_count": 22,
     "metadata": {},
     "output_type": "execute_result"
    }
   ],
   "source": [
    "9127 / 20"
   ]
  },
  {
   "cell_type": "code",
   "execution_count": null,
   "metadata": {},
   "outputs": [],
   "source": []
  }
 ],
 "metadata": {
  "kernelspec": {
   "display_name": "Jonathan",
   "language": "python",
   "name": "jonathan"
  },
  "language_info": {
   "codemirror_mode": {
    "name": "ipython",
    "version": 3
   },
   "file_extension": ".py",
   "mimetype": "text/x-python",
   "name": "python",
   "nbconvert_exporter": "python",
   "pygments_lexer": "ipython3",
   "version": "3.8.9"
  }
 },
 "nbformat": 4,
 "nbformat_minor": 4
}
