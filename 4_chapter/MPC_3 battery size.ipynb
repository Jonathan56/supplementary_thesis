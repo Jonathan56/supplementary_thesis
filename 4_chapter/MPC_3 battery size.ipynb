{
 "cells": [
  {
   "cell_type": "code",
   "execution_count": 1,
   "metadata": {},
   "outputs": [],
   "source": [
    "from datetime import datetime, timedelta\n",
    "import pandas as pd\n",
    "import numpy as np\n",
    "import plotly.express as px\n",
    "import warnings\n",
    "\n",
    "from tqdm.notebook import tqdm\n",
    "\n",
    "import pickle\n",
    "import plotly.io as pio\n",
    "pio.renderers.default = \"svg\"\n",
    "\n",
    "layout = {\n",
    "    'showlegend': True,\n",
    "    'margin': {'b':10, 'l':20, 'r':50, 't':50},\n",
    "    'font': {'size': 19},\n",
    "    'xaxis': {'zerolinewidth': 2, 'zerolinecolor':'black'},\n",
    "    'yaxis': {'zerolinewidth': 2, 'zerolinecolor':'black'},\n",
    "    'template': 'plotly_white',\n",
    "}\n",
    "\n",
    "px.defaults.color_discrete_sequence = px.colors.qualitative.T10"
   ]
  },
  {
   "cell_type": "markdown",
   "metadata": {},
   "source": [
    "# Import Quoilin dataset\n",
    "Data available at: https://github.com/squoilin/Self-Consumption/releases Synthetic.Household.Profiles.h5"
   ]
  },
  {
   "cell_type": "code",
   "execution_count": 2,
   "metadata": {},
   "outputs": [
    {
     "data": {
      "text/plain": [
       "Index(['2000900', '2000901', '2000903', '2000904', '2000905', '2000906',\n",
       "       '2000907', '2000908', '2000909', '2000910',\n",
       "       ...\n",
       "       '2001188', '2001189', '2001190', '2001192', '2001193', '2001194',\n",
       "       '2001195', '2001197', '2001199', 'pv_1kw'],\n",
       "      dtype='object', length=174)"
      ]
     },
     "execution_count": 2,
     "metadata": {},
     "output_type": "execute_result"
    }
   ],
   "source": [
    "df = pd.read_pickle(\"../2_chapter/fr_quoilin_data_valence.pickle\")\n",
    "df.columns"
   ]
  },
  {
   "cell_type": "markdown",
   "metadata": {},
   "source": [
    "# Set study on 20 households"
   ]
  },
  {
   "cell_type": "code",
   "execution_count": 3,
   "metadata": {},
   "outputs": [],
   "source": [
    "nb_houses = 20"
   ]
  },
  {
   "cell_type": "code",
   "execution_count": 4,
   "metadata": {},
   "outputs": [
    {
     "name": "stdout",
     "output_type": "stream",
     "text": [
      "Average consumption is 5.56 MWh\n"
     ]
    }
   ],
   "source": [
    "house_ids=[\n",
    "    \"2000989\",\n",
    "    \"2001197\",\n",
    "    \"2000914\",\n",
    "    \"2001123\",\n",
    "    \"2000964\",\n",
    "    \"2001189\",\n",
    "    \"2001111\",\n",
    "    \"2001179\",\n",
    "    \"2000909\",\n",
    "    \"2000918\",\n",
    "    \"2000994\",\n",
    "    \"2001107\",\n",
    "    \"2000913\",\n",
    "    \"2001139\",\n",
    "    \"2000960\",\n",
    "    \"2001149\",\n",
    "    \"2001165\",\n",
    "    \"2000954\",\n",
    "    \"2001114\",\n",
    "    \"2000926\",\n",
    "]\n",
    "df = df[house_ids + [\"pv_1kw\"]]\n",
    "print(f\"Average consumption is {round((df[house_ids].sum() * 15 / 60).mean() / 1000, 2)} MWh\")"
   ]
  },
  {
   "cell_type": "code",
   "execution_count": 5,
   "metadata": {},
   "outputs": [],
   "source": [
    "_individuals = df.copy()\n",
    "df[\"community_kW\"] = df[house_ids].sum(axis=1)\n",
    "df.drop(house_ids, axis=1, inplace=True)"
   ]
  },
  {
   "cell_type": "code",
   "execution_count": 6,
   "metadata": {},
   "outputs": [],
   "source": [
    "individuals = _individuals.copy()\n",
    "\n",
    "# Fix variables\n",
    "deltat = timedelta(minutes=15)\n",
    "\n",
    "# Training = 31 days + 1 day for lagged values\n",
    "training = timedelta(days=31)\n",
    "\n",
    "# Where do we forecast?\n",
    "start = datetime(2019, 5, 30, 6, 0, 0)\n",
    "full_horizon = timedelta(days=7)\n",
    "\n",
    "# When do we calibrate\n",
    "start_calibrate = start - timedelta(days=2)\n",
    "end_calibrate = start - deltat\n",
    "start_training_to_calibrate = start_calibrate - training\n",
    "end_training_to_calibrate = start_calibrate - deltat\n",
    "\n",
    "# To truncate data\n",
    "end = start + full_horizon + timedelta(days=7)  # keep a few days after anyway\n",
    "\n",
    "pv_size = 3\n",
    "individuals = individuals.loc[start_training_to_calibrate-timedelta(days=1):end, :].copy()\n",
    "for col in individuals.columns:\n",
    "    individuals[col] -= pv_size * individuals[\"pv_1kw\"]\n",
    "individuals.drop(columns=[\"pv_1kw\"], inplace=True)\n",
    "\n",
    "sub_house_ids = [house_ids[i] for i in [0, 4, 19, 13, 14]]"
   ]
  },
  {
   "cell_type": "markdown",
   "metadata": {},
   "source": [
    "# ------ Section by-passed with (batch_forecast.py)"
   ]
  },
  {
   "cell_type": "code",
   "execution_count": 7,
   "metadata": {},
   "outputs": [],
   "source": [
    "def get_gof(df, result, ref_col, pred_col):\n",
    "    \"\"\"\n",
    "    gof = (1 - NRMSE) * 100\n",
    "    \"\"\"\n",
    "    pred = result.loc[:, [pred_col]].copy()\n",
    "    #if pred.index.tzinfo is None:\n",
    "    #    pred.index = pred.index.tz_localize(\"UTC\")\n",
    "    pred.columns = [\"prediction\"]\n",
    "\n",
    "    ref = df.loc[pred.index[0]:pred.index[-1], [ref_col]].copy()\n",
    "    ref.columns = [\"target\"]\n",
    "\n",
    "    nrmse = (np.linalg.norm(ref[\"target\"].values - pred[\"prediction\"].values, 2) \n",
    "           / np.linalg.norm(ref[\"target\"].values - ref[\"target\"].mean(), 2))\n",
    "    return 100.0 * (1.0 - np.clip(nrmse, a_min=0.0, a_max=1.0))\n",
    "\n",
    "start_training = start - training\n",
    "end_training = start - deltat\n",
    "\n",
    "horizon = timedelta(days=2) - deltat\n",
    "end_complete_pred = start + timedelta(days=7)\n",
    "\n",
    "freqs = [\"2D\"]\n",
    "freq_deltas = [timedelta(days=2) - deltat]"
   ]
  },
  {
   "cell_type": "markdown",
   "metadata": {},
   "source": [
    "# Forecast at freq = 2 days"
   ]
  },
  {
   "cell_type": "code",
   "execution_count": 8,
   "metadata": {},
   "outputs": [],
   "source": [
    "house_forecast = {}\n",
    "\n",
    "for freq in freqs:\n",
    "    with open(f'tmp_forecasts/house_forecast_{freq}.pickle', 'rb') as handle:\n",
    "        unserialized_data = pickle.load(handle)\n",
    "    house_forecast[freq] = unserialized_data\n",
    "    \n",
    "# Reformat as a dict of freq with a list of pd.DataFrame with all houses.\n",
    "house_forecast_list = {}\n",
    "\n",
    "for freq in freqs:\n",
    "    house_forecast_list[freq] = []\n",
    "    \n",
    "    for i in range(0, len(house_forecast[freq][sub_house_ids[0]])):\n",
    "        tmp = pd.concat([house_forecast[freq][house_id][i] for house_id in sub_house_ids], axis=1)\n",
    "        house_forecast_list[freq].append(tmp)"
   ]
  },
  {
   "cell_type": "markdown",
   "metadata": {},
   "source": [
    "# Optimize at freq =2 days"
   ]
  },
  {
   "cell_type": "code",
   "execution_count": 9,
   "metadata": {
    "jupyter": {
     "source_hidden": true
    }
   },
   "outputs": [],
   "source": [
    "from pyomo.opt import SolverFactory\n",
    "from pyomo.environ import *\n",
    "from dataclasses import dataclass\n",
    "from datetime import timedelta\n",
    "\n",
    "\n",
    "@dataclass\n",
    "class OptimizeBatteries_quadratic:\n",
    "    grid_buy: float\n",
    "    grid_fee: float\n",
    "    battery_aging_cost: float = 0.0\n",
    "    only_return_schedules: bool = True\n",
    "    freq: int = 15\n",
    "    optim_horizon: timedelta = timedelta(days=2)\n",
    "    solver: str = \"gurobi\"\n",
    "    solver_path: str = None\n",
    "    verbose: bool = False\n",
    "    \n",
    "    def _solve(self, netloads, members, assets):\n",
    "        m = ConcreteModel()\n",
    "        batteries = assets[\"batt\"]\n",
    "\n",
    "        m.horizon = Set(initialize=list(netloads.keys()), ordered=True)\n",
    "        m.members = Set(initialize=list(members.keys()), ordered=True)\n",
    "        m.batteries = Set(initialize=list(batteries.keys()), ordered=True)\n",
    "\n",
    "        m.community_import = Var(m.horizon, domain=NonNegativeReals)\n",
    "        m.member_import = Var(m.horizon, m.members, domain=NonNegativeReals)\n",
    "        m.batteryin = Var(m.horizon, m.batteries, domain=NonNegativeReals)\n",
    "        m.batteryout = Var(m.horizon, m.batteries, domain=NonNegativeReals)\n",
    "        m.batteryenergy = Var(m.horizon, m.batteries, domain=NonNegativeReals)\n",
    "\n",
    "        m.grid_buy = Param(initialize=self.grid_buy)\n",
    "        m.grid_fee = Param(initialize=self.grid_fee)\n",
    "        m.battery_aging_cost = Param(initialize=self.battery_aging_cost)\n",
    "        m.deltat = Param(initialize=self.freq / 60)\n",
    "        m.last = Param(initialize=m.horizon.last())\n",
    "\n",
    "        # Battery constraints\n",
    "        def r_battery_max_powerin(m, t, b):\n",
    "            return m.batteryin[t, b] <= batteries[b][\"max_kw\"]\n",
    "\n",
    "        def r_battery_max_powerout(m, t, b):\n",
    "            return m.batteryout[t, b] <= batteries[b][\"min_kw\"]\n",
    "\n",
    "        def r_battery_energy(m, t, b):\n",
    "            if t == 0:\n",
    "                return m.batteryenergy[t, b] == batteries[b][\"init_kwh\"]\n",
    "            else:\n",
    "                return (\n",
    "                    m.batteryenergy[t, b]\n",
    "                    == m.batteryenergy[t - 1, b]\n",
    "                    + m.batteryin[t - 1, b] * m.deltat * batteries[b][\"eta\"]\n",
    "                    - m.batteryout[t - 1, b] * m.deltat / batteries[b][\"eta\"]\n",
    "                )\n",
    "\n",
    "        def r_battery_min_energy(m, t, b):\n",
    "            return (\n",
    "                m.batteryenergy[t, b]\n",
    "                >= batteries[b][\"max_kwh\"] * batteries[b][\"offset\"]\n",
    "            )\n",
    "\n",
    "        def r_battery_max_energy(m, t, b):\n",
    "            return m.batteryenergy[t, b] <= batteries[b][\"max_kwh\"] * (\n",
    "                1 - batteries[b][\"offset\"]\n",
    "            )\n",
    "\n",
    "        def r_battery_end_power_out(m, b):\n",
    "            return m.batteryout[m.last, b] == 0.0\n",
    "\n",
    "        def r_battery_end_power_in(m, b):\n",
    "            return m.batteryin[m.last, b] == 0.0\n",
    "\n",
    "        # Energy balance\n",
    "        def r_community_import(m, t):\n",
    "            return m.community_import[t] >= sum(\n",
    "                m.batteryin[t, b] - m.batteryout[t, b] for b in m.batteries\n",
    "            ) + sum(netloads[t][p] for p in m.members)\n",
    "\n",
    "        def r_member_import(m, t, p):\n",
    "            return (\n",
    "                m.member_import[t, p]\n",
    "                >= sum(\n",
    "                    m.batteryin[t, b] - m.batteryout[t, b] for b in members[p][\"batt\"]\n",
    "                )\n",
    "                + netloads[t][p]\n",
    "            )\n",
    "        \n",
    "        m.r1 = Constraint(m.horizon, m.batteries, rule=r_battery_max_powerin)\n",
    "        m.r2 = Constraint(m.horizon, m.batteries, rule=r_battery_max_powerout)\n",
    "        m.r3 = Constraint(m.horizon, m.batteries, rule=r_battery_energy)\n",
    "        m.r4 = Constraint(m.horizon, m.batteries, rule=r_battery_min_energy)\n",
    "        m.r5 = Constraint(m.horizon, m.batteries, rule=r_battery_max_energy)\n",
    "        m.r7 = Constraint(m.batteries, rule=r_battery_end_power_out)\n",
    "        m.r8 = Constraint(m.batteries, rule=r_battery_end_power_in)\n",
    "        m.r9 = Constraint(m.horizon, rule=r_community_import)\n",
    "        m.r10 = Constraint(m.horizon, m.members, rule=r_member_import)\n",
    "\n",
    "        def objective_function_bis(m):\n",
    "            return sum(\n",
    "                m.grid_buy * m.community_import[i]\n",
    "                + m.grid_fee\n",
    "                * (\n",
    "                    sum(m.member_import[i, p] for p in m.members)\n",
    "                    - m.community_import[i]\n",
    "                )\n",
    "                + m.battery_aging_cost * sum((1/netloads[i][p] * (m.batteryin[i, b] + m.batteryout[i, b]))**2 for b, p in zip(m.batteries, m.members))\n",
    "                for i in m.horizon\n",
    "            )\n",
    "     \n",
    "        def objective_function(m):\n",
    "            return sum(\n",
    "                m.grid_buy * m.community_import[i]\n",
    "                + m.grid_fee\n",
    "                * (\n",
    "                    sum(m.member_import[i, p] for p in m.members)\n",
    "                    - m.community_import[i]\n",
    "                )\n",
    "                + m.battery_aging_cost * sum((m.batteryin[i, b] + m.batteryout[i, b])**2 for b in m.batteries)\n",
    "                for i in m.horizon\n",
    "            )\n",
    "        m.objective = Objective(rule=objective_function_bis, sense=minimize)\n",
    "\n",
    "        with SolverFactory(self.solver, executable=self.solver_path) as opt:\n",
    "            results = opt.solve(m, tee=False)\n",
    "            if self.verbose:\n",
    "                print(results)\n",
    "        return m\n",
    "   \n",
    "    def solve(self, df, member_ids, spec):\n",
    "        netloads = df.copy()\n",
    "        netloads.index = range(0, len(netloads))\n",
    "        netloads = netloads.T.to_dict()\n",
    "        \n",
    "        members = {member_id:{\"batt\": [int(i)]} for i, member_id in enumerate(member_ids)}\n",
    "        \n",
    "        assets = {}\n",
    "        assets[\"batt\"] = {i:{\n",
    "            \"min_kw\": spec[i][\"min_kw\"],\n",
    "            \"max_kw\": spec[i][\"max_kw\"],\n",
    "            \"max_kwh\": spec[i][\"max_kwh\"],\n",
    "            \"eta\": spec[i][\"eta\"],\n",
    "            \"offset\": spec[i][\"offset\"],\n",
    "            \"init_kwh\": spec[i][\"init_kwh\"],\n",
    "            #\"end_kwh\": spec[\"max_kwh\"] * spec[\"offset\"]\n",
    "        } for i, member_id in enumerate(member_ids)}\n",
    "\n",
    "        model = self._solve(netloads, members, assets)\n",
    "        return self.postprocess(model, df, member_ids)\n",
    "\n",
    "    def postprocess(self, model, predictions, member_ids):\n",
    "        schedules = get_timevar_from_pyomo(model, predictions.index)\n",
    "        schedules[\"schedules\"] = (\n",
    "            schedules[\"batteryin\"] - schedules[\"batteryout\"]\n",
    "        ).copy()\n",
    "\n",
    "        if self.only_return_schedules:\n",
    "            schedules = schedules[\"schedules\"]\n",
    "            schedules.columns = member_ids\n",
    "        return schedules\n",
    "\n",
    "def get_timevar_from_pyomo(model, timeindex):\n",
    "    results = {}\n",
    "    for var in model.component_objects(Var):\n",
    "        if var.index_set()._implicit_subsets is None:\n",
    "            results[var.name] = pd.DataFrame(\n",
    "                index=[var.name], data=getattr(model, var.name).get_values()\n",
    "            ).transpose()\n",
    "            results[var.name].index = timeindex\n",
    "        else:\n",
    "            results[var.name] = (\n",
    "                pd.DataFrame(index=[\"none\"], data=getattr(model, var.name).get_values())\n",
    "                .transpose()\n",
    "                .unstack(level=1)\n",
    "            )\n",
    "            results[var.name].columns = results[var.name].columns.levels[1]\n",
    "            results[var.name].index = timeindex\n",
    "    return results"
   ]
  },
  {
   "cell_type": "markdown",
   "metadata": {},
   "source": [
    "# Check value to assign to battery aging without changing optimal cost"
   ]
  },
  {
   "cell_type": "code",
   "execution_count": null,
   "metadata": {
    "jupyter": {
     "source_hidden": true
    }
   },
   "outputs": [],
   "source": [
    "objective_values = []\n",
    "\n",
    "battery_size = 5\n",
    "ref_spec = {\n",
    "        \"min_kw\": battery_size / 2,\n",
    "        \"max_kw\": battery_size / 2,\n",
    "        \"max_kwh\": battery_size,\n",
    "        \"init_kwh\": battery_size * 0.01,\n",
    "        \"eta\": 0.95,\n",
    "        \"offset\": 0.01}\n",
    "spec = [dict(ref_spec) for i in sub_house_ids]\n",
    "\n",
    "_start = end_training + deltat\n",
    "_end = _start + timedelta(days=7)\n",
    "tmp_netload = individuals.loc[_start:_end, sub_house_ids].copy()\n",
    "\n",
    "aging_costs = np.linspace(0, 1e-3, 15)\n",
    "\n",
    "for aging_cost in tqdm(aging_costs, desc=\"Searching\"):\n",
    "    model = OptimizeBatteries_quadratic(\n",
    "        grid_buy=0.1740, grid_fee=0.0371, battery_aging_cost=aging_cost,\n",
    "        verbose=False, only_return_schedules=False)\n",
    "    \n",
    "    schedule = model.solve(tmp_netload, sub_house_ids, spec)\n",
    "    \n",
    "    # Rebuild objective func without ageing\n",
    "    objective = sum(\n",
    "        model.grid_buy * schedule[\"community_import\"][\"community_import\"].iloc[i]\n",
    "        + model.grid_fee\n",
    "        * (\n",
    "            sum(schedule[\"member_import\"][p].iloc[i] for p in schedule[\"member_import\"].columns)\n",
    "            - schedule[\"community_import\"][\"community_import\"].iloc[i]\n",
    "        )\n",
    "        #+ model.battery_aging_cost * sum(\n",
    "        #    (schedule[\"batteryin\"][b].iloc[i]\n",
    "        #     + schedule[\"batteryout\"][b].iloc[i])**2 for b in schedule[\"batteryin\"].columns)\n",
    "        for i in range(0, len(schedule[\"community_import\"]))\n",
    "    )    \n",
    "    objective_values.append(np.round(objective, 6))"
   ]
  },
  {
   "cell_type": "code",
   "execution_count": null,
   "metadata": {
    "jupyter": {
     "source_hidden": true
    }
   },
   "outputs": [],
   "source": [
    "graph = pd.DataFrame(index=aging_costs, data={\"objective_func\": objective_values})\n",
    "\n",
    "_fig = px.line(graph)\n",
    "_fig.data[-1].update(line_width=5)\n",
    "_fig.update_layout(\n",
    "    layout,\n",
    "    height=500,\n",
    "    width=800,\n",
    "    yaxis_title=\"Objective func cost without aging\",\n",
    "    xaxis_title=\"Aging cost\",\n",
    "    yaxis_showline=True, yaxis_linewidth=2, yaxis_linecolor='black',\n",
    "    xaxis_showline=True, xaxis_linewidth=2, xaxis_linecolor='black',\n",
    "    showlegend=False)\n",
    "_fig.show()"
   ]
  },
  {
   "cell_type": "markdown",
   "metadata": {
    "jupyter": {
     "source_hidden": true
    }
   },
   "source": [
    "We take 100 less than when it starts to change"
   ]
  },
  {
   "cell_type": "markdown",
   "metadata": {},
   "source": [
    "# Apply to the 2 days scenario"
   ]
  },
  {
   "cell_type": "code",
   "execution_count": 10,
   "metadata": {},
   "outputs": [
    {
     "data": {
      "text/plain": [
       "['2D']"
      ]
     },
     "execution_count": 10,
     "metadata": {},
     "output_type": "execute_result"
    }
   ],
   "source": [
    "freqs"
   ]
  },
  {
   "cell_type": "code",
   "execution_count": 11,
   "metadata": {},
   "outputs": [
    {
     "data": {
      "text/plain": [
       "[48.0]"
      ]
     },
     "execution_count": 11,
     "metadata": {},
     "output_type": "execute_result"
    }
   ],
   "source": [
    "[(a + deltat).total_seconds() / 3600 for a in freq_deltas]"
   ]
  },
  {
   "cell_type": "code",
   "execution_count": 12,
   "metadata": {},
   "outputs": [],
   "source": [
    "netload_freq = {}\n",
    "for freq, freq_delta in zip(freqs, freq_deltas):\n",
    "\n",
    "    # Concat forecasts\n",
    "    size = len(house_forecast_list[freq])\n",
    "    tmp = []\n",
    "    for i in range(0, size):\n",
    "        tmp_start = house_forecast_list[freq][i].index[0]\n",
    "        tmp.append(house_forecast_list[freq][i].loc[tmp_start:tmp_start + freq_delta, :].copy())\n",
    "    \n",
    "    netload_freq[freq] = pd.concat(tmp, axis=0)"
   ]
  },
  {
   "cell_type": "code",
   "execution_count": 13,
   "metadata": {},
   "outputs": [
    {
     "data": {
      "application/vnd.jupyter.widget-view+json": {
       "model_id": "73218135ca774e93bada6b2d8a902626",
       "version_major": 2,
       "version_minor": 0
      },
      "text/plain": [
       "Battery size:   0%|          | 0/21 [00:00<?, ?it/s]"
      ]
     },
     "metadata": {},
     "output_type": "display_data"
    }
   ],
   "source": [
    "schedules_concat = {}\n",
    "energy_concat = {}\n",
    "battery_sizes = np.linspace(0, 10, 21)\n",
    "\n",
    "freq = freqs[0]\n",
    "freq_delta = freq_deltas[0]\n",
    "aging_cost = 1e-6\n",
    "\n",
    "for battery_size in tqdm(battery_sizes, desc=\"Battery size\"):\n",
    "    schedules_concat[battery_size] = []\n",
    "    energy_concat[battery_size] = []      \n",
    "    \n",
    "    ref_spec = {\n",
    "            \"min_kw\": battery_size / 2,\n",
    "            \"max_kw\": battery_size / 2,\n",
    "            \"max_kwh\": battery_size,\n",
    "            \"init_kwh\": battery_size * 0.01,\n",
    "            \"eta\": 0.95,\n",
    "            \"offset\": 0.01}\n",
    "    spec = [dict(ref_spec) for i in sub_house_ids]\n",
    "    \n",
    "    \n",
    "    model = OptimizeBatteries_quadratic(\n",
    "        grid_buy=0.1740, grid_fee=0.0371, battery_aging_cost=aging_cost,\n",
    "        verbose=False, only_return_schedules=False)\n",
    "    \n",
    "    date_range = pd.date_range(end_training + deltat, end_complete_pred, freq=freq)\n",
    "    nb_iteration = len(date_range)\n",
    "    for jndex, opti_start in enumerate(date_range):\n",
    "        \n",
    "        end_optimization = opti_start + horizon + deltat\n",
    "        if end_optimization > end_complete_pred:\n",
    "            end_optimization = end_complete_pred\n",
    "        \n",
    "        tmp_netload = netload_freq[freq].loc[opti_start:end_optimization, sub_house_ids]\n",
    "        schedule = model.solve(tmp_netload, sub_house_ids, spec)\n",
    "        \n",
    "        # If not last iteration\n",
    "        if not jndex == nb_iteration - 1:\n",
    "            battery_time = opti_start + freq_delta + deltat\n",
    "            for i, house_id in enumerate(sub_house_ids):\n",
    "                spec[i][\"init_kwh\"] = float(schedule[\"batteryenergy\"].at[battery_time, i])\n",
    "\n",
    "        schedules_concat[battery_size].append(schedule[\"schedules\"].loc[opti_start:opti_start+freq_delta].copy())\n",
    "        energy_concat[battery_size].append(schedule[\"batteryenergy\"].loc[opti_start:opti_start+freq_delta].copy())\n",
    "    schedules_concat[battery_size] = pd.concat(schedules_concat[battery_size], axis=0)\n",
    "    energy_concat[battery_size] = pd.concat(energy_concat[battery_size], axis=0)"
   ]
  },
  {
   "cell_type": "markdown",
   "metadata": {},
   "source": [
    "### Perfect optimization"
   ]
  },
  {
   "cell_type": "code",
   "execution_count": 14,
   "metadata": {},
   "outputs": [
    {
     "data": {
      "application/vnd.jupyter.widget-view+json": {
       "model_id": "fe971cd98ed44f9ab3be761f75e6a7ca",
       "version_major": 2,
       "version_minor": 0
      },
      "text/plain": [
       "Battery size:   0%|          | 0/21 [00:00<?, ?it/s]"
      ]
     },
     "metadata": {},
     "output_type": "display_data"
    }
   ],
   "source": [
    "perfect_schedules_concat = {}\n",
    "perfect_energy_concat = {}\n",
    "\n",
    "for battery_size in tqdm(battery_sizes, desc=\"Battery size\"):\n",
    "    perfect_schedules_concat[battery_size] = []\n",
    "    perfect_energy_concat[battery_size] = []      \n",
    "    \n",
    "    ref_spec = {\n",
    "            \"min_kw\": battery_size / 2,\n",
    "            \"max_kw\": battery_size / 2,\n",
    "            \"max_kwh\": battery_size,\n",
    "            \"init_kwh\": battery_size * 0.01,\n",
    "            \"eta\": 0.95,\n",
    "            \"offset\": 0.01}\n",
    "    spec = [dict(ref_spec) for i in sub_house_ids]\n",
    "    \n",
    "    \n",
    "    model = OptimizeBatteries_quadratic(\n",
    "        grid_buy=0.1740, grid_fee=0.0371, battery_aging_cost=0,\n",
    "        verbose=False, only_return_schedules=False)\n",
    "    \n",
    "    date_range = pd.date_range(end_training + deltat, end_complete_pred, freq=freq)\n",
    "    nb_iteration = len(date_range)\n",
    "    for jndex, opti_start in enumerate(date_range):\n",
    "        \n",
    "        end_optimization = opti_start + horizon + deltat\n",
    "        if end_optimization > end_complete_pred:\n",
    "            end_optimization = end_complete_pred\n",
    "        \n",
    "        tmp_netload = individuals.loc[opti_start:end_optimization, sub_house_ids]\n",
    "        schedule = model.solve(tmp_netload, sub_house_ids, spec)\n",
    "        \n",
    "        # If not last iteration\n",
    "        if not jndex == nb_iteration - 1:\n",
    "            battery_time = opti_start + freq_delta + deltat\n",
    "            for i, house_id in enumerate(sub_house_ids):\n",
    "                spec[i][\"init_kwh\"] = float(schedule[\"batteryenergy\"].at[battery_time, i])\n",
    "\n",
    "        perfect_schedules_concat[battery_size].append(schedule[\"schedules\"].loc[opti_start:opti_start+freq_delta].copy())\n",
    "        perfect_energy_concat[battery_size].append(schedule[\"batteryenergy\"].loc[opti_start:opti_start+freq_delta].copy())\n",
    "    perfect_schedules_concat[battery_size] = pd.concat(perfect_schedules_concat[battery_size], axis=0)\n",
    "    perfect_energy_concat[battery_size] = pd.concat(perfect_energy_concat[battery_size], axis=0)"
   ]
  },
  {
   "cell_type": "markdown",
   "metadata": {},
   "source": [
    "## Compare in €"
   ]
  },
  {
   "cell_type": "code",
   "execution_count": 15,
   "metadata": {},
   "outputs": [],
   "source": [
    "def community_bill(df, member_ids, timing, deltat=15, buy_price=0.1740, exchange_price=0.0371):\n",
    "    \"\"\"Return cost for the community\n",
    "    cost = buy [€/kWh] imports + pay fees on exchanges [€]\n",
    "    \"\"\"\n",
    "    # Community import (sum then max)\n",
    "    pos_netload = (\n",
    "        (\n",
    "            df[[a for a in member_ids]].groupby(pd.Grouper(freq=timing)).sum().sum(axis=1)\n",
    "            #- df[[prod_col for a in member_ids]].groupby(pd.Grouper(freq=timing)).sum().sum(axis=1)\n",
    "        )\n",
    "        .clip(lower=0)\n",
    "        .sum()\n",
    "        * deltat\n",
    "        / 60\n",
    "    )\n",
    "\n",
    "    # Sum of ind import (max then sum)\n",
    "    pos_n_netload = (\n",
    "        sum(\n",
    "            (df[a]).groupby(pd.Grouper(freq=timing)).sum().clip(lower=0).sum()\n",
    "            #(df[a] - df[prod_col]).groupby(pd.Grouper(freq=timing)).sum().clip(lower=0).sum()\n",
    "            for a in member_ids\n",
    "        )\n",
    "        * deltat\n",
    "        / 60\n",
    "    )\n",
    "\n",
    "    return np.round(\n",
    "        buy_price * pos_netload + exchange_price * (pos_n_netload - pos_netload), 3\n",
    "    )"
   ]
  },
  {
   "cell_type": "code",
   "execution_count": 16,
   "metadata": {},
   "outputs": [],
   "source": [
    "_start = end_training + deltat\n",
    "_end = end_complete_pred"
   ]
  },
  {
   "cell_type": "code",
   "execution_count": 17,
   "metadata": {},
   "outputs": [
    {
     "name": "stdout",
     "output_type": "stream",
     "text": [
      "Forecast at 0.0kWh, cost = 35.33 €\n",
      "Forecast at 0.5kWh, cost = 32.93 €\n",
      "Forecast at 1.0kWh, cost = 30.56 €\n",
      "Forecast at 1.5kWh, cost = 28.22 €\n",
      "Forecast at 2.0kWh, cost = 25.92 €\n",
      "Forecast at 2.5kWh, cost = 23.71 €\n",
      "Forecast at 3.0kWh, cost = 21.68 €\n",
      "Forecast at 3.5kWh, cost = 19.76 €\n",
      "Forecast at 4.0kWh, cost = 18.03 €\n",
      "Forecast at 4.5kWh, cost = 16.43 €\n",
      "Forecast at 5.0kWh, cost = 14.94 €\n",
      "Forecast at 5.5kWh, cost = 13.58 €\n",
      "Forecast at 6.0kWh, cost = 12.42 €\n",
      "Forecast at 6.5kWh, cost = 11.51 €\n",
      "Forecast at 7.0kWh, cost = 10.71 €\n",
      "Forecast at 7.5kWh, cost = 10.17 €\n",
      "Forecast at 8.0kWh, cost = 9.94 €\n",
      "Forecast at 8.5kWh, cost = 9.74 €\n",
      "Forecast at 9.0kWh, cost = 9.52 €\n",
      "Forecast at 9.5kWh, cost = 9.33 €\n",
      "Forecast at 10.0kWh, cost = 9.13 €\n"
     ]
    }
   ],
   "source": [
    "cost_2d = []\n",
    "\n",
    "for battery_size in battery_sizes:\n",
    "    graph = schedules_concat[battery_size].copy()\n",
    "    graph.columns = sub_house_ids\n",
    "    for col in graph.columns:\n",
    "        graph[col] += individuals.loc[_start:_end, col]\n",
    "\n",
    "    forecast_cost = community_bill(graph, sub_house_ids, timing=\"15T\", deltat=15, buy_price=0.1740, exchange_price=0.0371)\n",
    "    print(f\"Forecast at {battery_size}kWh, cost = {np.round(forecast_cost, 2)} €\")\n",
    "    cost_2d.append(forecast_cost)"
   ]
  },
  {
   "cell_type": "code",
   "execution_count": 18,
   "metadata": {},
   "outputs": [
    {
     "name": "stdout",
     "output_type": "stream",
     "text": [
      "Forecast at 0.0kWh, cost = 35.33 €\n",
      "Forecast at 0.5kWh, cost = 32.74 €\n",
      "Forecast at 1.0kWh, cost = 30.3 €\n",
      "Forecast at 1.5kWh, cost = 27.88 €\n",
      "Forecast at 2.0kWh, cost = 25.47 €\n",
      "Forecast at 2.5kWh, cost = 23.08 €\n",
      "Forecast at 3.0kWh, cost = 20.72 €\n",
      "Forecast at 3.5kWh, cost = 18.37 €\n",
      "Forecast at 4.0kWh, cost = 16.04 €\n",
      "Forecast at 4.5kWh, cost = 13.71 €\n",
      "Forecast at 5.0kWh, cost = 11.61 €\n",
      "Forecast at 5.5kWh, cost = 9.88 €\n",
      "Forecast at 6.0kWh, cost = 8.68 €\n",
      "Forecast at 6.5kWh, cost = 8.07 €\n",
      "Forecast at 7.0kWh, cost = 7.56 €\n",
      "Forecast at 7.5kWh, cost = 7.08 €\n",
      "Forecast at 8.0kWh, cost = 6.61 €\n",
      "Forecast at 8.5kWh, cost = 6.19 €\n",
      "Forecast at 9.0kWh, cost = 5.78 €\n",
      "Forecast at 9.5kWh, cost = 5.39 €\n",
      "Forecast at 10.0kWh, cost = 5.0 €\n"
     ]
    }
   ],
   "source": [
    "cost_perfect = []\n",
    "\n",
    "for battery_size in battery_sizes:\n",
    "    graph = perfect_schedules_concat[battery_size].copy()\n",
    "    graph.columns = sub_house_ids\n",
    "    for col in graph.columns:\n",
    "        graph[col] += individuals.loc[_start:_end, col]\n",
    "\n",
    "    forecast_cost = community_bill(graph, sub_house_ids, timing=\"15T\", deltat=15, buy_price=0.1740, exchange_price=0.0371)\n",
    "    print(f\"Forecast at {battery_size}kWh, cost = {np.round(forecast_cost, 2)} €\")\n",
    "    cost_perfect.append(forecast_cost)"
   ]
  },
  {
   "cell_type": "code",
   "execution_count": 19,
   "metadata": {},
   "outputs": [
    {
     "name": "stdout",
     "output_type": "stream",
     "text": [
      "PV only cost = 35.33 €\n",
      "Theoretical 1d cost = 7.89 €\n",
      "Theoretical 2d cost = 2.33 €\n",
      "Theoretical cost = 0.0 €\n"
     ]
    }
   ],
   "source": [
    "graph = individuals.loc[_start:_end, sub_house_ids].copy()\n",
    "\n",
    "forecast_cost = community_bill(graph, sub_house_ids, timing=\"15T\", deltat=15, buy_price=0.1740, exchange_price=0.0371)\n",
    "print(f\"PV only cost = {np.round(forecast_cost, 2)} €\")\n",
    "\n",
    "forecast_cost = community_bill(graph, sub_house_ids, timing=\"1D\", deltat=15, buy_price=0.1740, exchange_price=0.0371)\n",
    "print(f\"Theoretical 1d cost = {np.round(forecast_cost, 2)} €\")\n",
    "\n",
    "forecast_cost = community_bill(graph, sub_house_ids, timing=\"2D\", deltat=15, buy_price=0.1740, exchange_price=0.0371)\n",
    "print(f\"Theoretical 2d cost = {np.round(forecast_cost, 2)} €\")\n",
    "\n",
    "forecast_cost = community_bill(graph, sub_house_ids, timing=\"365D\", deltat=15, buy_price=0.1740, exchange_price=0.0371)\n",
    "print(f\"Theoretical cost = {np.round(forecast_cost, 2)} €\")"
   ]
  },
  {
   "cell_type": "code",
   "execution_count": 20,
   "metadata": {},
   "outputs": [
    {
     "data": {
      "image/svg+xml": [
       "<svg class=\"main-svg\" xmlns=\"http://www.w3.org/2000/svg\" xmlns:xlink=\"http://www.w3.org/1999/xlink\" width=\"800\" height=\"500\" viewBox=\"0 0 800 500\"><rect x=\"0\" y=\"0\" width=\"800\" height=\"500\" style=\"fill: rgb(255, 255, 255); fill-opacity: 1;\"/><defs id=\"defs-489d78\"><g class=\"clips\"><clipPath id=\"clip489d78xyplot\" class=\"plotclip\"><rect width=\"684\" height=\"385\"/></clipPath><clipPath class=\"axesclip\" id=\"clip489d78x\"><rect x=\"66\" y=\"0\" width=\"684\" height=\"500\"/></clipPath><clipPath class=\"axesclip\" id=\"clip489d78y\"><rect x=\"0\" y=\"50\" width=\"800\" height=\"385\"/></clipPath><clipPath class=\"axesclip\" id=\"clip489d78xy\"><rect x=\"66\" y=\"50\" width=\"684\" height=\"385\"/></clipPath></g><g class=\"gradients\"/><g class=\"patterns\"/></defs><g class=\"bglayer\"/><g class=\"layer-below\"><g class=\"imagelayer\"/><g class=\"shapelayer\"/></g><g class=\"cartesianlayer\"><g class=\"subplot xy\"><g class=\"layer-subplot\"><g class=\"shapelayer\"/><g class=\"imagelayer\"/></g><g class=\"gridlayer\"><g class=\"x\"><path class=\"xgrid crisp\" transform=\"translate(136,0)\" d=\"M0,50v385\" style=\"stroke: rgb(235, 240, 248); stroke-opacity: 1; stroke-width: 1px;\"/><path class=\"xgrid crisp\" transform=\"translate(204,0)\" d=\"M0,50v385\" style=\"stroke: rgb(235, 240, 248); stroke-opacity: 1; stroke-width: 1px;\"/><path class=\"xgrid crisp\" transform=\"translate(272,0)\" d=\"M0,50v385\" style=\"stroke: rgb(235, 240, 248); stroke-opacity: 1; stroke-width: 1px;\"/><path class=\"xgrid crisp\" transform=\"translate(340,0)\" d=\"M0,50v385\" style=\"stroke: rgb(235, 240, 248); stroke-opacity: 1; stroke-width: 1px;\"/><path class=\"xgrid crisp\" transform=\"translate(408,0)\" d=\"M0,50v385\" style=\"stroke: rgb(235, 240, 248); stroke-opacity: 1; stroke-width: 1px;\"/><path class=\"xgrid crisp\" transform=\"translate(476,0)\" d=\"M0,50v385\" style=\"stroke: rgb(235, 240, 248); stroke-opacity: 1; stroke-width: 1px;\"/><path class=\"xgrid crisp\" transform=\"translate(544,0)\" d=\"M0,50v385\" style=\"stroke: rgb(235, 240, 248); stroke-opacity: 1; stroke-width: 1px;\"/><path class=\"xgrid crisp\" transform=\"translate(612,0)\" d=\"M0,50v385\" style=\"stroke: rgb(235, 240, 248); stroke-opacity: 1; stroke-width: 1px;\"/><path class=\"xgrid crisp\" transform=\"translate(680,0)\" d=\"M0,50v385\" style=\"stroke: rgb(235, 240, 248); stroke-opacity: 1; stroke-width: 1px;\"/><path class=\"xgrid crisp\" transform=\"translate(748,0)\" d=\"M0,50v385\" style=\"stroke: rgb(235, 240, 248); stroke-opacity: 1; stroke-width: 1px;\"/></g><g class=\"y\"><path class=\"ygrid crisp\" transform=\"translate(0,382.97)\" d=\"M66,0h684\" style=\"stroke: rgb(235, 240, 248); stroke-opacity: 1; stroke-width: 1px;\"/><path class=\"ygrid crisp\" transform=\"translate(0,330.95)\" d=\"M66,0h684\" style=\"stroke: rgb(235, 240, 248); stroke-opacity: 1; stroke-width: 1px;\"/><path class=\"ygrid crisp\" transform=\"translate(0,278.91999999999996)\" d=\"M66,0h684\" style=\"stroke: rgb(235, 240, 248); stroke-opacity: 1; stroke-width: 1px;\"/><path class=\"ygrid crisp\" transform=\"translate(0,226.89)\" d=\"M66,0h684\" style=\"stroke: rgb(235, 240, 248); stroke-opacity: 1; stroke-width: 1px;\"/><path class=\"ygrid crisp\" transform=\"translate(0,174.86)\" d=\"M66,0h684\" style=\"stroke: rgb(235, 240, 248); stroke-opacity: 1; stroke-width: 1px;\"/><path class=\"ygrid crisp\" transform=\"translate(0,122.84)\" d=\"M66,0h684\" style=\"stroke: rgb(235, 240, 248); stroke-opacity: 1; stroke-width: 1px;\"/><path class=\"ygrid crisp\" transform=\"translate(0,70.81)\" d=\"M66,0h684\" style=\"stroke: rgb(235, 240, 248); stroke-opacity: 1; stroke-width: 1px;\"/></g></g><g class=\"zerolinelayer\"><path class=\"xzl zl crisp\" transform=\"translate(68,0)\" d=\"M0,50v385\" style=\"stroke: rgb(0, 0, 0); stroke-opacity: 1; stroke-width: 2px;\"/><path class=\"yzl zl crisp\" transform=\"translate(0,435)\" d=\"M66,0h684\" style=\"stroke: rgb(0, 0, 0); stroke-opacity: 1; stroke-width: 2px;\"/></g><path class=\"xlines-below\"/><path class=\"ylines-below\"/><g class=\"overlines-below\"/><g class=\"xaxislayer-below\"/><g class=\"yaxislayer-below\"/><g class=\"overaxes-below\"/><g class=\"plot\" transform=\"translate(66,50)\" clip-path=\"url(#clip489d78xyplot)\"><g class=\"scatterlayer mlayer\"><g class=\"trace scatter tracea7766d\" style=\"stroke-miterlimit: 2; opacity: 1;\"><g class=\"fills\"/><g class=\"errorbars\"/><g class=\"lines\"><path class=\"js-line\" d=\"M2,17.35L70,67.05L104,91.35L172,138.26L206,159.41L240,179.34L274,197.4L308,214.05L342,229.53L376,243.68L410,255.74L444,265.28L478,273.59L512,279.16L546,281.59L682,289.96\" style=\"vector-effect: non-scaling-stroke; fill: none; stroke: rgb(76, 120, 168); stroke-opacity: 1; stroke-width: 3px; opacity: 1;\"/></g><g class=\"points\"/><g class=\"text\"/></g><g class=\"trace scatter trace3c82fd\" style=\"stroke-miterlimit: 2; opacity: 1;\"><g class=\"fills\"/><g class=\"errorbars\"/><g class=\"lines\"><path class=\"js-line\" d=\"M2,17.35L36,44.37L70,69.71L172,144.8L206,169.42L308,242.35L342,264.2L376,282.22L410,294.66L444,301.04L478,306.37L546,316.19L580,320.57L682,332.95\" style=\"vector-effect: non-scaling-stroke; fill: none; stroke: rgb(245, 133, 24); stroke-opacity: 1; stroke-width: 3px; opacity: 1;\"/></g><g class=\"points\"/><g class=\"text\"/></g></g></g><g class=\"overplot\"/><path class=\"xlines-above crisp\" d=\"M0,0\" style=\"fill: none;\"/><path class=\"ylines-above crisp\" d=\"M0,0\" style=\"fill: none;\"/><g class=\"overlines-above\"/><g class=\"xaxislayer-above\"><g class=\"xtick\"><text text-anchor=\"middle\" x=\"0\" y=\"455\" transform=\"translate(68,0)\" style=\"font-family: 'Open Sans', verdana, arial, sans-serif; font-size: 19px; fill: rgb(42, 63, 95); fill-opacity: 1; white-space: pre; opacity: 1;\">0</text></g><g class=\"xtick\"><text text-anchor=\"middle\" x=\"0\" y=\"455\" style=\"font-family: 'Open Sans', verdana, arial, sans-serif; font-size: 19px; fill: rgb(42, 63, 95); fill-opacity: 1; white-space: pre; opacity: 1;\" transform=\"translate(136,0)\">1</text></g><g class=\"xtick\"><text text-anchor=\"middle\" x=\"0\" y=\"455\" style=\"font-family: 'Open Sans', verdana, arial, sans-serif; font-size: 19px; fill: rgb(42, 63, 95); fill-opacity: 1; white-space: pre; opacity: 1;\" transform=\"translate(204,0)\">2</text></g><g class=\"xtick\"><text text-anchor=\"middle\" x=\"0\" y=\"455\" style=\"font-family: 'Open Sans', verdana, arial, sans-serif; font-size: 19px; fill: rgb(42, 63, 95); fill-opacity: 1; white-space: pre; opacity: 1;\" transform=\"translate(272,0)\">3</text></g><g class=\"xtick\"><text text-anchor=\"middle\" x=\"0\" y=\"455\" style=\"font-family: 'Open Sans', verdana, arial, sans-serif; font-size: 19px; fill: rgb(42, 63, 95); fill-opacity: 1; white-space: pre; opacity: 1;\" transform=\"translate(340,0)\">4</text></g><g class=\"xtick\"><text text-anchor=\"middle\" x=\"0\" y=\"455\" style=\"font-family: 'Open Sans', verdana, arial, sans-serif; font-size: 19px; fill: rgb(42, 63, 95); fill-opacity: 1; white-space: pre; opacity: 1;\" transform=\"translate(408,0)\">5</text></g><g class=\"xtick\"><text text-anchor=\"middle\" x=\"0\" y=\"455\" style=\"font-family: 'Open Sans', verdana, arial, sans-serif; font-size: 19px; fill: rgb(42, 63, 95); fill-opacity: 1; white-space: pre; opacity: 1;\" transform=\"translate(476,0)\">6</text></g><g class=\"xtick\"><text text-anchor=\"middle\" x=\"0\" y=\"455\" style=\"font-family: 'Open Sans', verdana, arial, sans-serif; font-size: 19px; fill: rgb(42, 63, 95); fill-opacity: 1; white-space: pre; opacity: 1;\" transform=\"translate(544,0)\">7</text></g><g class=\"xtick\"><text text-anchor=\"middle\" x=\"0\" y=\"455\" style=\"font-family: 'Open Sans', verdana, arial, sans-serif; font-size: 19px; fill: rgb(42, 63, 95); fill-opacity: 1; white-space: pre; opacity: 1;\" transform=\"translate(612,0)\">8</text></g><g class=\"xtick\"><text text-anchor=\"middle\" x=\"0\" y=\"455\" style=\"font-family: 'Open Sans', verdana, arial, sans-serif; font-size: 19px; fill: rgb(42, 63, 95); fill-opacity: 1; white-space: pre; opacity: 1;\" transform=\"translate(680,0)\">9</text></g><g class=\"xtick\"><text text-anchor=\"middle\" x=\"0\" y=\"455\" style=\"font-family: 'Open Sans', verdana, arial, sans-serif; font-size: 19px; fill: rgb(42, 63, 95); fill-opacity: 1; white-space: pre; opacity: 1;\" transform=\"translate(748,0)\">10</text></g></g><g class=\"yaxislayer-above\"><g class=\"ytick\"><text text-anchor=\"end\" x=\"65\" y=\"6.6499999999999995\" transform=\"translate(0,435)\" style=\"font-family: 'Open Sans', verdana, arial, sans-serif; font-size: 19px; fill: rgb(42, 63, 95); fill-opacity: 1; white-space: pre; opacity: 1;\">0</text></g><g class=\"ytick\"><text text-anchor=\"end\" x=\"65\" y=\"6.6499999999999995\" style=\"font-family: 'Open Sans', verdana, arial, sans-serif; font-size: 19px; fill: rgb(42, 63, 95); fill-opacity: 1; white-space: pre; opacity: 1;\" transform=\"translate(0,382.97)\">5</text></g><g class=\"ytick\"><text text-anchor=\"end\" x=\"65\" y=\"6.6499999999999995\" style=\"font-family: 'Open Sans', verdana, arial, sans-serif; font-size: 19px; fill: rgb(42, 63, 95); fill-opacity: 1; white-space: pre; opacity: 1;\" transform=\"translate(0,330.95)\">10</text></g><g class=\"ytick\"><text text-anchor=\"end\" x=\"65\" y=\"6.6499999999999995\" style=\"font-family: 'Open Sans', verdana, arial, sans-serif; font-size: 19px; fill: rgb(42, 63, 95); fill-opacity: 1; white-space: pre; opacity: 1;\" transform=\"translate(0,278.91999999999996)\">15</text></g><g class=\"ytick\"><text text-anchor=\"end\" x=\"65\" y=\"6.6499999999999995\" style=\"font-family: 'Open Sans', verdana, arial, sans-serif; font-size: 19px; fill: rgb(42, 63, 95); fill-opacity: 1; white-space: pre; opacity: 1;\" transform=\"translate(0,226.89)\">20</text></g><g class=\"ytick\"><text text-anchor=\"end\" x=\"65\" y=\"6.6499999999999995\" style=\"font-family: 'Open Sans', verdana, arial, sans-serif; font-size: 19px; fill: rgb(42, 63, 95); fill-opacity: 1; white-space: pre; opacity: 1;\" transform=\"translate(0,174.86)\">25</text></g><g class=\"ytick\"><text text-anchor=\"end\" x=\"65\" y=\"6.6499999999999995\" style=\"font-family: 'Open Sans', verdana, arial, sans-serif; font-size: 19px; fill: rgb(42, 63, 95); fill-opacity: 1; white-space: pre; opacity: 1;\" transform=\"translate(0,122.84)\">30</text></g><g class=\"ytick\"><text text-anchor=\"end\" x=\"65\" y=\"6.6499999999999995\" style=\"font-family: 'Open Sans', verdana, arial, sans-serif; font-size: 19px; fill: rgb(42, 63, 95); fill-opacity: 1; white-space: pre; opacity: 1;\" transform=\"translate(0,70.81)\">35</text></g></g><g class=\"overaxes-above\"/></g></g><g class=\"polarlayer\"/><g class=\"ternarylayer\"/><g class=\"geolayer\"/><g class=\"funnelarealayer\"/><g class=\"pielayer\"/><g class=\"iciclelayer\"/><g class=\"treemaplayer\"/><g class=\"sunburstlayer\"/><g class=\"glimages\"/><defs id=\"topdefs-489d78\"><g class=\"clips\"/></defs><g class=\"layer-above\"><g class=\"imagelayer\"/><g class=\"shapelayer\"><path data-index=\"0\" fill-rule=\"evenodd\" d=\"M68,67.38L748,67.38\" clip-path=\"url(#clip489d78xy)\" style=\"opacity: 1; stroke: rgb(214, 39, 40); stroke-opacity: 0.7; fill: rgb(0, 0, 0); fill-opacity: 0; stroke-dasharray: 12px, 12px; stroke-width: 4px;\"/></g></g><g class=\"infolayer\"><g class=\"g-gtitle\"/><g class=\"g-xtitle\"><text class=\"xtitle\" x=\"408\" y=\"490.1\" text-anchor=\"middle\" style=\"font-family: 'Open Sans', verdana, arial, sans-serif; font-size: 23px; fill: rgb(42, 63, 95); opacity: 1; font-weight: normal; white-space: pre;\">Battery sizes [kWh]</text></g><g class=\"g-ytitle\" transform=\"translate(13.271484375,0)\"><text class=\"ytitle\" transform=\"rotate(-90,9.728125000000006,242.5)\" x=\"9.728125000000006\" y=\"242.5\" text-anchor=\"middle\" style=\"font-family: 'Open Sans', verdana, arial, sans-serif; font-size: 23px; fill: rgb(42, 63, 95); opacity: 1; font-weight: normal; white-space: pre;\">Cost [€]</text></g></g></svg>"
      ]
     },
     "metadata": {},
     "output_type": "display_data"
    }
   ],
   "source": [
    "graph = pd.DataFrame(index=battery_sizes, data={\"2D\": cost_2d,\n",
    "                                                \"Perfect\": cost_perfect})\n",
    "\n",
    "fig = px.line(graph)\n",
    "\n",
    "fig.update_traces(line_width=3)\n",
    "\n",
    "# Red dashed line\n",
    "fig.add_shape(\n",
    " type='line',\n",
    " x0=battery_sizes[0],\n",
    " x1=battery_sizes[-1],\n",
    " y0=35.33,\n",
    " y1=35.33,\n",
    " line={'dash': 'dash', 'width': 4,\n",
    "       'color': 'rgba(214, 39, 40, 0.7)'})\n",
    "\n",
    "fig.update_layout(\n",
    "    layout,\n",
    "    height=500,\n",
    "    width=800,\n",
    "    yaxis_title=\"Cost [€]\",\n",
    "    xaxis_title=\"Battery sizes [kWh]\",\n",
    "    xaxis_dtick=1,\n",
    "    yaxis_range=[0, 37],\n",
    "    yaxis_showline=False, yaxis_linewidth=2, yaxis_linecolor='black',\n",
    "    xaxis_showline=False, xaxis_linewidth=2, xaxis_linecolor='black',\n",
    "    showlegend=False)\n",
    "fig.show()\n",
    "#fig.write_image(f\"results/cost_battery_size.svg\")"
   ]
  },
  {
   "cell_type": "code",
   "execution_count": 21,
   "metadata": {},
   "outputs": [
    {
     "data": {
      "text/plain": [
       "0.0     -0.000000\n",
       "0.5      7.363146\n",
       "1.0      5.070591\n",
       "1.5      4.602791\n",
       "2.0      4.633479\n",
       "2.5      5.136371\n",
       "3.0      6.583630\n",
       "3.5      8.208999\n",
       "4.0     10.329636\n",
       "4.5     12.580362\n",
       "5.0     14.046625\n",
       "5.5     14.548955\n",
       "6.0     14.034824\n",
       "6.5     12.607755\n",
       "7.0     11.341951\n",
       "7.5     10.954589\n",
       "8.0     11.578508\n",
       "8.5     12.169675\n",
       "9.0     12.628194\n",
       "9.5     13.175473\n",
       "10.0    13.624374\n",
       "dtype: float64"
      ]
     },
     "execution_count": 21,
     "metadata": {},
     "output_type": "execute_result"
    }
   ],
   "source": [
    "(graph[\"2D\"] - graph[\"Perfect\"]) * 100 / (35.33 - graph[\"Perfect\"])"
   ]
  },
  {
   "cell_type": "code",
   "execution_count": null,
   "metadata": {},
   "outputs": [],
   "source": []
  }
 ],
 "metadata": {
  "kernelspec": {
   "display_name": "Jonathan",
   "language": "python",
   "name": "jonathan"
  },
  "language_info": {
   "codemirror_mode": {
    "name": "ipython",
    "version": 3
   },
   "file_extension": ".py",
   "mimetype": "text/x-python",
   "name": "python",
   "nbconvert_exporter": "python",
   "pygments_lexer": "ipython3",
   "version": "3.8.9"
  }
 },
 "nbformat": 4,
 "nbformat_minor": 4
}
