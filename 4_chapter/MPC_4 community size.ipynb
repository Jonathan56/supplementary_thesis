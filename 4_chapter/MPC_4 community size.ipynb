{
 "cells": [
  {
   "cell_type": "code",
   "execution_count": 1,
   "metadata": {},
   "outputs": [],
   "source": [
    "from datetime import datetime, timedelta\n",
    "import pandas as pd\n",
    "import numpy as np\n",
    "import plotly.express as px\n",
    "import warnings\n",
    "\n",
    "from tqdm.notebook import tqdm\n",
    "\n",
    "import pickle\n",
    "\n",
    "layout = {\n",
    "    'showlegend': True,\n",
    "    'margin': {'b':10, 'l':20, 'r':50, 't':50},\n",
    "    'font': {'size': 19},\n",
    "    'xaxis': {'zerolinewidth': 2, 'zerolinecolor':'black'},\n",
    "    'yaxis': {'zerolinewidth': 2, 'zerolinecolor':'black'},\n",
    "    'template': 'plotly_white',\n",
    "}\n",
    "\n",
    "px.defaults.color_discrete_sequence = px.colors.qualitative.T10"
   ]
  },
  {
   "cell_type": "markdown",
   "metadata": {},
   "source": [
    "# Import Quoilin dataset\n",
    "Data available at: https://github.com/squoilin/Self-Consumption/releases Synthetic.Household.Profiles.h5"
   ]
  },
  {
   "cell_type": "code",
   "execution_count": 2,
   "metadata": {},
   "outputs": [],
   "source": [
    "_individuals = pd.read_pickle(\"../2_chapter/fr_quoilin_data_valence.pickle\")\n",
    "individuals = _individuals.copy()\n",
    "house_ids = individuals.columns.difference([\"pv_1kw\"])\n",
    "\n",
    "# Fix variables\n",
    "deltat = timedelta(minutes=15)\n",
    "\n",
    "# Training = 31 days + 1 day for lagged values\n",
    "training = timedelta(days=31)\n",
    "\n",
    "# Where do we forecast?\n",
    "start = datetime(2019, 5, 30, 6, 0, 0)\n",
    "full_horizon = timedelta(days=7)\n",
    "\n",
    "# When do we calibrate\n",
    "start_calibrate = start - timedelta(days=2)\n",
    "end_calibrate = start - deltat\n",
    "start_training_to_calibrate = start_calibrate - training\n",
    "end_training_to_calibrate = start_calibrate - deltat\n",
    "\n",
    "# To truncate data\n",
    "end = start + full_horizon + timedelta(days=7)  # keep a few days after anyway\n",
    "\n",
    "pv_size = 3\n",
    "individuals = individuals.loc[start_training_to_calibrate-timedelta(days=1):end, :].copy()\n",
    "for col in individuals.columns:\n",
    "    individuals[col] -= pv_size * individuals[\"pv_1kw\"]\n",
    "individuals.drop(columns=[\"pv_1kw\"], inplace=True)"
   ]
  },
  {
   "cell_type": "markdown",
   "metadata": {},
   "source": [
    "# Forecasting model"
   ]
  },
  {
   "cell_type": "code",
   "execution_count": 7,
   "metadata": {
    "jupyter": {
     "source_hidden": true
    }
   },
   "outputs": [],
   "source": [
    "import os\n",
    "import pandas as pd\n",
    "import numpy as np\n",
    "from prophet import Prophet\n",
    "from tqdm import tqdm\n",
    "\n",
    "class GAM():\n",
    "    \"\"\"Generalized Additive Model.\n",
    "    \"\"\"\n",
    "\n",
    "    def __init__(self, output, regressors=None,\n",
    "                 daily_seasonality=\"auto\",\n",
    "                 seasonality_prior_scale=10.0):\n",
    "\n",
    "        self._output = output\n",
    "        self._model = Prophet(\n",
    "            growth='flat',\n",
    "            yearly_seasonality=False,\n",
    "            weekly_seasonality=\"auto\",\n",
    "            daily_seasonality=daily_seasonality,\n",
    "            seasonality_mode=\"additive\",\n",
    "            interval_width=0.95,\n",
    "            changepoint_prior_scale=0.05,\n",
    "            seasonality_prior_scale=seasonality_prior_scale,\n",
    "            uncertainty_samples=False,\n",
    "        )\n",
    "        if regressors is None:\n",
    "            regressors = list()\n",
    "        for reg in regressors:\n",
    "            self._model.add_regressor(\n",
    "                name=reg[\"name\"],\n",
    "                prior_scale=reg[\"prior_scale\"])\n",
    "\n",
    "    def fit(self, df):\n",
    "        with suppress_stdout_stderr():\n",
    "            self._model.fit(self._specific_formatting(df))\n",
    "\n",
    "    def predict(self, df):\n",
    "        forecast = self._model.predict(self._specific_formatting(df))\n",
    "        forecast.set_index(\"ds\", inplace=True, drop=True)\n",
    "        forecast.drop(columns=forecast.columns.difference([\"yhat\"]), inplace=True)\n",
    "        forecast.rename(columns={\"yhat\": self._output}, inplace=True)\n",
    "        return forecast\n",
    "\n",
    "    def _specific_formatting(self, df):\n",
    "        df = df.copy()\n",
    "        df[\"ds\"] = df.index.tz_localize(None)\n",
    "        df.rename(columns={self._output: \"y\"}, inplace=True)\n",
    "        df.reset_index(inplace=True, drop=True)\n",
    "        return df\n",
    "\n",
    "\n",
    "class suppress_stdout_stderr(object):\n",
    "    \"\"\"\n",
    "    A context manager for doing a \"deep suppression\" of stdout and stderr in\n",
    "    Python, i.e. will suppress all print, even if the print originates in a\n",
    "    compiled C/Fortran sub-function.\n",
    "       This will not suppress raised exceptions, since exceptions are printed\n",
    "    to stderr just before a script exits, and after the context manager has\n",
    "    exited (at least, I think that is why it lets exceptions through).\n",
    "\n",
    "    \"\"\"\n",
    "\n",
    "    def __init__(self):\n",
    "        self.null_fds = [os.open(os.devnull, os.O_RDWR) for x in range(2)]\n",
    "        self.save_fds = [os.dup(1), os.dup(2)]\n",
    "\n",
    "    def __enter__(self):\n",
    "        os.dup2(self.null_fds[0], 1)\n",
    "        os.dup2(self.null_fds[1], 2)\n",
    "\n",
    "    def __exit__(self, *_):\n",
    "        os.dup2(self.save_fds[0], 1)\n",
    "        os.dup2(self.save_fds[1], 2)\n",
    "        for fd in self.null_fds + self.save_fds:\n",
    "            os.close(fd)\n",
    "\n",
    "\n",
    "def get_gof(df, result, ref_col, pred_col):\n",
    "    \"\"\"\n",
    "    gof = (1 - NRMSE) * 100\n",
    "    \"\"\"\n",
    "    pred = result.loc[:, [pred_col]].copy()\n",
    "    #if pred.index.tzinfo is None:\n",
    "    #    pred.index = pred.index.tz_localize(\"UTC\")\n",
    "    pred.columns = [\"prediction\"]\n",
    "\n",
    "    ref = df.loc[pred.index[0]:pred.index[-1], [ref_col]].copy()\n",
    "    ref.columns = [\"target\"]\n",
    "\n",
    "    nrmse = (np.linalg.norm(ref[\"target\"].values - pred[\"prediction\"].values, 2)\n",
    "           / np.linalg.norm(ref[\"target\"].values - ref[\"target\"].mean(), 2))\n",
    "    return 100.0 * (1.0 - np.clip(nrmse, a_min=0.0, a_max=1.0))\n",
    "\n",
    "def lag_values(df, nb_lag, output_col):\n",
    "    tmp = df.copy()\n",
    "    for shift in nb_lag:\n",
    "        tmp[f\"t-{shift}\"] = tmp[output_col].shift(shift)\n",
    "    return tmp\n",
    "\n",
    "def predict_n_periods_with_autoreg(df, start_training, end_training, horizon,\n",
    "                                   deltat, end_complete_pred, freq, output_col,\n",
    "                                   regressors, nb_lag, seasonality_prior_scale=1.0,\n",
    "                                   disable_progress_bar=False, daily_seasonality=\"auto\"):\n",
    "    \"\"\"\n",
    "    Train a GAM and predict for horizon T\n",
    "    Shift prediction start and predict over T again.\n",
    "\n",
    "    results : [pd.DataFrame] One frame per prediction.\n",
    "    \"\"\"\n",
    "\n",
    "    inputs = [reg[\"name\"] for reg in regressors]\n",
    "    results = []\n",
    "    model = GAM(output_col, regressors, daily_seasonality=daily_seasonality,\n",
    "                seasonality_prior_scale=seasonality_prior_scale)\n",
    "\n",
    "    tmp = lag_values(df.loc[start_training-timedelta(days=1):end_training], nb_lag, output_col)\n",
    "    model.fit(tmp.loc[start_training:end_training])\n",
    "\n",
    "    # Number of forecast where we have access to actual data\n",
    "    forecast_freq = pd.date_range(end_training + deltat, end_complete_pred, freq=freq)\n",
    "    for start_prediction in tqdm(forecast_freq, desc=\"# Forecast: \", disable=disable_progress_bar):\n",
    "        tmp_results = []\n",
    "        end_prediction = start_prediction + horizon\n",
    "\n",
    "        # Get lagged values and NaN to blank future info\n",
    "        tmp = lag_values(df.loc[start_prediction-timedelta(days=1):end_prediction], nb_lag, output_col)\n",
    "        tmp = tmp.loc[start_prediction:end_prediction]\n",
    "        for n in nb_lag:\n",
    "            tmp.loc[:, f\"t-{n}\"] = tmp[f\"t-{n}\"].iloc[0:n].tolist() + ([np.nan] * (len(tmp) - n))\n",
    "\n",
    "        horizon_spam = pd.date_range(start_prediction, end_prediction, freq=\"15T\")\n",
    "        for step_i, step in enumerate(horizon_spam):\n",
    "            # Fill up NaN of lagged values with previous results\n",
    "            for n in nb_lag:\n",
    "                if pd.isna(tmp.at[step, f\"t-{n}\"]):\n",
    "                    tmp.at[step, f\"t-{n}\"] = tmp_results[step_i-n]\n",
    "\n",
    "            res = model.predict(tmp.loc[step:step, inputs])\n",
    "            tmp_results.append(res.at[step, output_col])\n",
    "\n",
    "        results.append(pd.DataFrame(index=horizon_spam, data={output_col: tmp_results}))\n",
    "    return results, model\n",
    "\n",
    "def model_3(graph, start_training, end_training, horizon,\n",
    "            deltat, end_complete_pred, freq, output_col, scenario):\n",
    "\n",
    "    regressors = [{\"name\": \"pv_1kw\", \"prior_scale\": scenario[\"PRIOR_GHI\"]}]\n",
    "\n",
    "    for hour in range(0, 24):\n",
    "        regressors.append({\"name\": f\"h{hour}\", \"prior_scale\": scenario[\"PRIOR_HOUR\"]})\n",
    "\n",
    "    nb_lag = list(range(1, scenario[\"NB_LAG\"] + 1))\n",
    "    for n in nb_lag:\n",
    "        regressors.append({\"name\": f\"t-{n}\", \"prior_scale\": scenario[\"PRIOR_LAG\"]})\n",
    "\n",
    "    results, _ = predict_n_periods_with_autoreg(\n",
    "        graph, start_training, end_training, horizon, deltat, end_complete_pred, freq, output_col,\n",
    "        regressors,\n",
    "        nb_lag=nb_lag,\n",
    "        seasonality_prior_scale=scenario[\"PRIOR_SEASON\"],\n",
    "        daily_seasonality=scenario[\"DAILY_FOURIER\"],\n",
    "        disable_progress_bar=True)\n",
    "    return results\n",
    "\n",
    "def calibrate(df, individuals, start_training, end_training, horizon, deltat, end_complete_pred, freq, output_col):\n",
    "    gofs = []\n",
    "    reference = {\n",
    "         \"NB_LAG\": 4,\n",
    "         \"PRIOR_GHI\": 3.0,\n",
    "         \"PRIOR_LAG\": 10.0,\n",
    "         \"PRIOR_HOUR\": 10.0,\n",
    "         \"PRIOR_SEASON\": 1.0,\n",
    "         \"DAILY_FOURIER\": \"auto\"}\n",
    "\n",
    "    scenarios = [reference]\n",
    "    for i in range(1, 14 + 1):  #  range(1, 24 + 1)\n",
    "        scenarios.append(dict(reference))\n",
    "        scenarios[-1][\"NB_LAG\"] = i\n",
    "\n",
    "    for i in [1, 5, 8, 10, 15, 20]:\n",
    "        scenarios.append(dict(reference))\n",
    "        scenarios[-1][\"PRIOR_GHI\"] = i\n",
    "\n",
    "    for i in [1, 5, 15]:  #  [1, 3, 5, 8, 15, 20]\n",
    "        scenarios.append(dict(reference))\n",
    "        scenarios[-1][\"PRIOR_LAG\"] = i\n",
    "\n",
    "    for i in [8, 15]:  #  [1, 3, 5, 8, 15, 20]\n",
    "        scenarios.append(dict(reference))\n",
    "        scenarios[-1][\"PRIOR_HOUR\"] = i\n",
    "\n",
    "    for i in [3]:  #  [3, 5, 8, 10, 15, 20]\n",
    "        scenarios.append(dict(reference))\n",
    "        scenarios[-1][\"PRIOR_SEASON\"] = i\n",
    "\n",
    "    #for i in [\"auto\", 5, 10, 15, 20, 30]:  # no test\n",
    "    #    scenarios.append(dict(reference))\n",
    "    #    scenarios[-1][\"DAILY_FOURIER\"] = i\n",
    "\n",
    "    graph = individuals[[output_col]].copy()\n",
    "    graph[\"pv_1kw\"] = df.loc[graph.index[0]:graph.index[-1], \"pv_1kw\"]\n",
    "\n",
    "    graph[\"_datetime\"] = graph.index\n",
    "    for hour in range(0, 24):\n",
    "        graph[f\"h{hour}\"] = graph._datetime.apply(lambda x: 1.0 if x.hour == hour else 0)\n",
    "    graph.drop(columns=\"_datetime\", inplace=True)\n",
    "\n",
    "    for scenario in tqdm(scenarios, desc=\"Calibration :\"):\n",
    "        results = model_3(graph, start_training, end_training, horizon,\n",
    "                    deltat, end_complete_pred, freq, output_col, scenario)\n",
    "\n",
    "        results = pd.concat(results, axis=0)\n",
    "        gofs.append(get_gof(individuals, results, output_col, output_col))\n",
    "        #tmp_gof = []\n",
    "        #for result in results:\n",
    "        #    tmp_gof.append(get_gof(individuals, result, output_col, output_col))\n",
    "        #gofs.append(np.mean(tmp_gof))\n",
    "\n",
    "    results = pd.DataFrame(data=scenarios)\n",
    "    results[\"gof\"] = gofs\n",
    "    return results\n"
   ]
  },
  {
   "cell_type": "markdown",
   "metadata": {},
   "source": [
    "# Calibrate & Forecast for each house"
   ]
  },
  {
   "cell_type": "code",
   "execution_count": 8,
   "metadata": {},
   "outputs": [],
   "source": [
    "default_calibration = {\n",
    "                 \"NB_LAG\": 10,\n",
    "                 \"PRIOR_GHI\": 10.0,\n",
    "                 \"PRIOR_LAG\": 10.0,\n",
    "                 \"PRIOR_HOUR\": 10.0,\n",
    "                 \"PRIOR_SEASON\": 1.0,\n",
    "                 \"DAILY_FOURIER\": \"auto\"    \n",
    "}\n",
    "best_parameters = {name:dict(default_calibration) for name in house_ids}"
   ]
  },
  {
   "cell_type": "code",
   "execution_count": 3,
   "metadata": {},
   "outputs": [],
   "source": [
    "nb_house = 170\n",
    "\n",
    "start_training = start - training\n",
    "end_training = start - deltat\n",
    "\n",
    "horizon = timedelta(days=2) - deltat\n",
    "end_complete_pred = start + timedelta(days=7)\n",
    "\n",
    "freq = \"2D\"\n",
    "freq_delta = timedelta(days=2) - deltat"
   ]
  },
  {
   "cell_type": "code",
   "execution_count": 9,
   "metadata": {},
   "outputs": [
    {
     "name": "stderr",
     "output_type": "stream",
     "text": [
      "House #: 100%|██████████| 70/70 [1:22:27<00:00, 70.68s/it]\n"
     ]
    }
   ],
   "source": [
    "house_netload = {}\n",
    "#for house_id in tqdm(house_ids[0:nb_house], desc=\"House #\"):\n",
    "\n",
    "for house_id in tqdm(house_ids[nb_house:nb_house+70], desc=\"House #\"):\n",
    "    # Add regressor data\n",
    "    graph = individuals[[house_id]].copy()\n",
    "    graph[\"pv_1kw\"] = _individuals.loc[graph.index[0]:graph.index[-1], \"pv_1kw\"]\n",
    "\n",
    "    graph[\"_datetime\"] = graph.index\n",
    "    for hour in range(0, 24):\n",
    "        graph[f\"h{hour}\"] = graph._datetime.apply(lambda x: 1.0 if x.hour == hour else 0)\n",
    "    graph.drop(columns=\"_datetime\", inplace=True)\n",
    "    \n",
    "    # Run model 3\n",
    "    with warnings.catch_warnings():\n",
    "        warnings.simplefilter(action='ignore', category=FutureWarning)\n",
    "        results = model_3(graph, start_training, end_training, horizon,\n",
    "                    deltat, end_complete_pred, freq, house_id, best_parameters[house_id])\n",
    "    \n",
    "    house_netload[house_id] = []\n",
    "    for i in range(0, len(results)):\n",
    "        _start = results[i].index[0]\n",
    "        house_netload[house_id].append(results[i].loc[_start:_start + freq_delta, :].copy())\n",
    "    house_netload[house_id] = pd.concat(house_netload[house_id], axis=0)\n",
    "        \n",
    "with open(f'tmp_forecasts/70_houses_forecast_2D.pickle', 'wb') as handle:\n",
    "    pickle.dump(house_netload, handle, protocol=pickle.HIGHEST_PROTOCOL)"
   ]
  },
  {
   "cell_type": "markdown",
   "metadata": {},
   "source": [
    "# Randomly pack households in communities"
   ]
  },
  {
   "cell_type": "code",
   "execution_count": 4,
   "metadata": {},
   "outputs": [],
   "source": [
    "with open(f'tmp_forecasts/70_houses_forecast_2D.pickle', 'rb') as handle:\n",
    "    house70 = pickle.load(handle)"
   ]
  },
  {
   "cell_type": "code",
   "execution_count": 5,
   "metadata": {},
   "outputs": [],
   "source": [
    "with open(f'tmp_forecasts/100_houses_forecast_2D.pickle', 'rb') as handle:\n",
    "    house100 = pickle.load(handle)"
   ]
  },
  {
   "cell_type": "code",
   "execution_count": 6,
   "metadata": {},
   "outputs": [],
   "source": [
    "house_netload = dict(house100, **house70)"
   ]
  },
  {
   "cell_type": "code",
   "execution_count": 15,
   "metadata": {},
   "outputs": [],
   "source": [
    "import random\n",
    "\n",
    "community_netload = {}\n",
    "community_sizes = np.linspace(2, 120, 119, dtype=int)\n",
    "\n",
    "for size in community_sizes:\n",
    "    random_ids = random.sample(list(house_ids[0:nb_house]), k=size)\n",
    "    concats = [house_netload[i] for i in random_ids]\n",
    "    community_netload[size] = pd.concat(concats, axis=1)"
   ]
  },
  {
   "cell_type": "code",
   "execution_count": 16,
   "metadata": {},
   "outputs": [],
   "source": [
    "def community_bill(df, member_ids, timing, deltat=15, buy_price=0.1740, exchange_price=0.0371):\n",
    "    \"\"\"Return cost for the community\n",
    "    cost = buy [€/kWh] imports + pay fees on exchanges [€]\n",
    "    \"\"\"\n",
    "    # Community import (sum then max)\n",
    "    pos_netload = (\n",
    "        (\n",
    "            df[[a for a in member_ids]].groupby(pd.Grouper(freq=timing)).sum().sum(axis=1)\n",
    "            #- df[[prod_col for a in member_ids]].groupby(pd.Grouper(freq=timing)).sum().sum(axis=1)\n",
    "        )\n",
    "        .clip(lower=0)\n",
    "        .sum()\n",
    "        * deltat\n",
    "        / 60\n",
    "    )\n",
    "\n",
    "    # Sum of ind import (max then sum)\n",
    "    pos_n_netload = (\n",
    "        sum(\n",
    "            (df[a]).groupby(pd.Grouper(freq=timing)).sum().clip(lower=0).sum()\n",
    "            #(df[a] - df[prod_col]).groupby(pd.Grouper(freq=timing)).sum().clip(lower=0).sum()\n",
    "            for a in member_ids\n",
    "        )\n",
    "        * deltat\n",
    "        / 60\n",
    "    )\n",
    "\n",
    "    return np.round(\n",
    "        buy_price * pos_netload + exchange_price * (pos_n_netload - pos_netload), 3\n",
    "    )"
   ]
  },
  {
   "cell_type": "code",
   "execution_count": 17,
   "metadata": {},
   "outputs": [],
   "source": [
    "_start = end_training + deltat\n",
    "_end = end_complete_pred\n",
    "\n",
    "cost_pvonly = []\n",
    "\n",
    "for community_size in community_sizes:\n",
    "    sub_house_ids = list(community_netload[community_size].columns)\n",
    "    graph = individuals.loc[_start:_end, sub_house_ids].copy()\n",
    "\n",
    "    forecast_cost = community_bill(graph, sub_house_ids, timing=\"15T\", deltat=15, buy_price=0.1740, exchange_price=0.0371)\n",
    "    cost_pvonly.append(forecast_cost / community_size)"
   ]
  },
  {
   "cell_type": "code",
   "execution_count": null,
   "metadata": {},
   "outputs": [],
   "source": [
    "graph = pd.DataFrame(index=community_sizes, \n",
    "                     data={\"PV_only\": cost_pvonly})\n",
    "#graph = graph[graph[\"PV_only\"] < 13]\n",
    "fig = px.line(graph)\n",
    "\n",
    "fig.update_traces(line_width=3)\n",
    "fig.update_layout(\n",
    "    layout,\n",
    "    height=500,\n",
    "    width=800,\n",
    "    yaxis_title=\"Cost [€/member]\",\n",
    "    xaxis_title=\"Community sizes [kWh]\",\n",
    "    yaxis_range=[0, 15],\n",
    "    xaxis_range=[0, 120],\n",
    "    yaxis_dtick=1,\n",
    "    yaxis_showline=False, yaxis_linewidth=2, yaxis_linecolor='black',\n",
    "    xaxis_showline=False, xaxis_linewidth=2, xaxis_linecolor='black',\n",
    "    showlegend=False)\n",
    "fig.show()"
   ]
  },
  {
   "cell_type": "markdown",
   "metadata": {},
   "source": [
    "# Scheduling"
   ]
  },
  {
   "cell_type": "code",
   "execution_count": 19,
   "metadata": {
    "jupyter": {
     "source_hidden": true
    }
   },
   "outputs": [],
   "source": [
    "from pyomo.opt import SolverFactory\n",
    "from pyomo.environ import *\n",
    "from dataclasses import dataclass\n",
    "from datetime import timedelta\n",
    "\n",
    "\n",
    "@dataclass\n",
    "class OptimizeBatteries_quadratic:\n",
    "    grid_buy: float\n",
    "    grid_fee: float\n",
    "    battery_aging_cost: float = 0.0\n",
    "    only_return_schedules: bool = True\n",
    "    freq: int = 15\n",
    "    optim_horizon: timedelta = timedelta(days=2)\n",
    "    solver: str = \"gurobi\"\n",
    "    solver_path: str = None\n",
    "    verbose: bool = False\n",
    "    \n",
    "    def _solve(self, netloads, members, assets):\n",
    "        m = ConcreteModel()\n",
    "        batteries = assets[\"batt\"]\n",
    "\n",
    "        m.horizon = Set(initialize=list(netloads.keys()), ordered=True)\n",
    "        m.members = Set(initialize=list(members.keys()), ordered=True)\n",
    "        m.batteries = Set(initialize=list(batteries.keys()), ordered=True)\n",
    "\n",
    "        m.community_import = Var(m.horizon, domain=NonNegativeReals)\n",
    "        m.member_import = Var(m.horizon, m.members, domain=NonNegativeReals)\n",
    "        m.batteryin = Var(m.horizon, m.batteries, domain=NonNegativeReals)\n",
    "        m.batteryout = Var(m.horizon, m.batteries, domain=NonNegativeReals)\n",
    "        m.batteryenergy = Var(m.horizon, m.batteries, domain=NonNegativeReals)\n",
    "\n",
    "        m.grid_buy = Param(initialize=self.grid_buy)\n",
    "        m.grid_fee = Param(initialize=self.grid_fee)\n",
    "        m.battery_aging_cost = Param(initialize=self.battery_aging_cost)\n",
    "        m.deltat = Param(initialize=self.freq / 60)\n",
    "        m.last = Param(initialize=m.horizon.last())\n",
    "\n",
    "        # Battery constraints\n",
    "        def r_battery_max_powerin(m, t, b):\n",
    "            return m.batteryin[t, b] <= batteries[b][\"max_kw\"]\n",
    "\n",
    "        def r_battery_max_powerout(m, t, b):\n",
    "            return m.batteryout[t, b] <= batteries[b][\"min_kw\"]\n",
    "\n",
    "        def r_battery_energy(m, t, b):\n",
    "            if t == 0:\n",
    "                return m.batteryenergy[t, b] == batteries[b][\"init_kwh\"]\n",
    "            else:\n",
    "                return (\n",
    "                    m.batteryenergy[t, b]\n",
    "                    == m.batteryenergy[t - 1, b]\n",
    "                    + m.batteryin[t - 1, b] * m.deltat * batteries[b][\"eta\"]\n",
    "                    - m.batteryout[t - 1, b] * m.deltat / batteries[b][\"eta\"]\n",
    "                )\n",
    "\n",
    "        def r_battery_min_energy(m, t, b):\n",
    "            return (\n",
    "                m.batteryenergy[t, b]\n",
    "                >= batteries[b][\"max_kwh\"] * batteries[b][\"offset\"]\n",
    "            )\n",
    "\n",
    "        def r_battery_max_energy(m, t, b):\n",
    "            return m.batteryenergy[t, b] <= batteries[b][\"max_kwh\"] * (\n",
    "                1 - batteries[b][\"offset\"]\n",
    "            )\n",
    "\n",
    "        def r_battery_end_power_out(m, b):\n",
    "            return m.batteryout[m.last, b] == 0.0\n",
    "\n",
    "        def r_battery_end_power_in(m, b):\n",
    "            return m.batteryin[m.last, b] == 0.0\n",
    "\n",
    "        # Energy balance\n",
    "        def r_community_import(m, t):\n",
    "            return m.community_import[t] >= sum(\n",
    "                m.batteryin[t, b] - m.batteryout[t, b] for b in m.batteries\n",
    "            ) + sum(netloads[t][p] for p in m.members)\n",
    "\n",
    "        def r_member_import(m, t, p):\n",
    "            return (\n",
    "                m.member_import[t, p]\n",
    "                >= sum(\n",
    "                    m.batteryin[t, b] - m.batteryout[t, b] for b in members[p][\"batt\"]\n",
    "                )\n",
    "                + netloads[t][p]\n",
    "            )\n",
    "        \n",
    "        m.r1 = Constraint(m.horizon, m.batteries, rule=r_battery_max_powerin)\n",
    "        m.r2 = Constraint(m.horizon, m.batteries, rule=r_battery_max_powerout)\n",
    "        m.r3 = Constraint(m.horizon, m.batteries, rule=r_battery_energy)\n",
    "        m.r4 = Constraint(m.horizon, m.batteries, rule=r_battery_min_energy)\n",
    "        m.r5 = Constraint(m.horizon, m.batteries, rule=r_battery_max_energy)\n",
    "        m.r7 = Constraint(m.batteries, rule=r_battery_end_power_out)\n",
    "        m.r8 = Constraint(m.batteries, rule=r_battery_end_power_in)\n",
    "        m.r9 = Constraint(m.horizon, rule=r_community_import)\n",
    "        m.r10 = Constraint(m.horizon, m.members, rule=r_member_import)\n",
    "\n",
    "        def objective_function_bis(m):\n",
    "            return sum(\n",
    "                m.grid_buy * m.community_import[i]\n",
    "                + m.grid_fee\n",
    "                * (\n",
    "                    sum(m.member_import[i, p] for p in m.members)\n",
    "                    - m.community_import[i]\n",
    "                )\n",
    "                + m.battery_aging_cost * sum((1/netloads[i][p] * (m.batteryin[i, b] + m.batteryout[i, b]))**2 for b, p in zip(m.batteries, m.members))\n",
    "                for i in m.horizon\n",
    "            )\n",
    "     \n",
    "        def objective_function(m):\n",
    "            return sum(\n",
    "                m.grid_buy * m.community_import[i]\n",
    "                + m.grid_fee\n",
    "                * (\n",
    "                    sum(m.member_import[i, p] for p in m.members)\n",
    "                    - m.community_import[i]\n",
    "                )\n",
    "                + m.battery_aging_cost * sum((m.batteryin[i, b] + m.batteryout[i, b])**2 for b in m.batteries)\n",
    "                for i in m.horizon\n",
    "            )\n",
    "        m.objective = Objective(rule=objective_function_bis, sense=minimize)\n",
    "\n",
    "        with SolverFactory(self.solver, executable=self.solver_path) as opt:\n",
    "            results = opt.solve(m, tee=False)\n",
    "            if self.verbose:\n",
    "                print(results)\n",
    "        return m\n",
    "   \n",
    "    def solve(self, df, member_ids, spec):\n",
    "        netloads = df.copy()\n",
    "        netloads.index = range(0, len(netloads))\n",
    "        netloads = netloads.T.to_dict()\n",
    "        \n",
    "        members = {member_id:{\"batt\": [int(i)]} for i, member_id in enumerate(member_ids)}\n",
    "        \n",
    "        assets = {}\n",
    "        assets[\"batt\"] = {i:{\n",
    "            \"min_kw\": spec[i][\"min_kw\"],\n",
    "            \"max_kw\": spec[i][\"max_kw\"],\n",
    "            \"max_kwh\": spec[i][\"max_kwh\"],\n",
    "            \"eta\": spec[i][\"eta\"],\n",
    "            \"offset\": spec[i][\"offset\"],\n",
    "            \"init_kwh\": spec[i][\"init_kwh\"],\n",
    "            #\"end_kwh\": spec[\"max_kwh\"] * spec[\"offset\"]\n",
    "        } for i, member_id in enumerate(member_ids)}\n",
    "\n",
    "        model = self._solve(netloads, members, assets)\n",
    "        return self.postprocess(model, df, member_ids)\n",
    "\n",
    "    def postprocess(self, model, predictions, member_ids):\n",
    "        schedules = get_timevar_from_pyomo(model, predictions.index)\n",
    "        schedules[\"schedules\"] = (\n",
    "            schedules[\"batteryin\"] - schedules[\"batteryout\"]\n",
    "        ).copy()\n",
    "\n",
    "        if self.only_return_schedules:\n",
    "            schedules = schedules[\"schedules\"]\n",
    "            schedules.columns = member_ids\n",
    "        return schedules\n",
    "\n",
    "def get_timevar_from_pyomo(model, timeindex):\n",
    "    results = {}\n",
    "    for var in model.component_objects(Var):\n",
    "        if var.index_set()._implicit_subsets is None:\n",
    "            results[var.name] = pd.DataFrame(\n",
    "                index=[var.name], data=getattr(model, var.name).get_values()\n",
    "            ).transpose()\n",
    "            results[var.name].index = timeindex\n",
    "        else:\n",
    "            results[var.name] = (\n",
    "                pd.DataFrame(index=[\"none\"], data=getattr(model, var.name).get_values())\n",
    "                .transpose()\n",
    "                .unstack(level=1)\n",
    "            )\n",
    "            results[var.name].columns = results[var.name].columns.levels[1]\n",
    "            results[var.name].index = timeindex\n",
    "    return results"
   ]
  },
  {
   "cell_type": "code",
   "execution_count": null,
   "metadata": {},
   "outputs": [],
   "source": [
    "schedules_concat = {}\n",
    "energy_concat = {}\n",
    "\n",
    "community_sizes = list(community_netload.keys())\n",
    "\n",
    "freq = \"2D\"\n",
    "freq_delta = timedelta(days=2) - deltat\n",
    "aging_cost = 1e-6\n",
    "battery_size = 5\n",
    "\n",
    "for community_size in tqdm(community_sizes, desc=\"Community size\"):\n",
    "    schedules_concat[community_size] = []\n",
    "    energy_concat[community_size] = []   \n",
    "    sub_house_ids = list(community_netload[community_size].columns)\n",
    "    \n",
    "    ref_spec = {\n",
    "            \"min_kw\": battery_size / 2,\n",
    "            \"max_kw\": battery_size / 2,\n",
    "            \"max_kwh\": battery_size,\n",
    "            \"init_kwh\": battery_size * 0.01,\n",
    "            \"eta\": 0.95,\n",
    "            \"offset\": 0.01}\n",
    "    spec = [dict(ref_spec) for i in sub_house_ids]\n",
    "    \n",
    "    \n",
    "    model = OptimizeBatteries_quadratic(\n",
    "        grid_buy=0.1740, grid_fee=0.0371, battery_aging_cost=aging_cost,\n",
    "        verbose=False, only_return_schedules=False)\n",
    "    \n",
    "    date_range = pd.date_range(end_training + deltat, end_complete_pred, freq=freq)\n",
    "    nb_iteration = len(date_range)\n",
    "    for jndex, opti_start in enumerate(date_range):\n",
    "        \n",
    "        end_optimization = opti_start + horizon + deltat\n",
    "        if end_optimization > end_complete_pred:\n",
    "            end_optimization = end_complete_pred\n",
    "        \n",
    "        tmp_netload = community_netload[community_size].loc[opti_start:end_optimization, :]\n",
    "        schedule = model.solve(tmp_netload, sub_house_ids, spec)\n",
    "        \n",
    "        # If not last iteration\n",
    "        if not jndex == nb_iteration - 1:\n",
    "            battery_time = opti_start + freq_delta + deltat\n",
    "            for i, house_id in enumerate(sub_house_ids):\n",
    "                spec[i][\"init_kwh\"] = float(schedule[\"batteryenergy\"].at[battery_time, i])\n",
    "\n",
    "        schedules_concat[community_size].append(schedule[\"schedules\"].loc[opti_start:opti_start+freq_delta].copy())\n",
    "        energy_concat[community_size].append(schedule[\"batteryenergy\"].loc[opti_start:opti_start+freq_delta].copy())\n",
    "    schedules_concat[community_size] = pd.concat(schedules_concat[community_size], axis=0)\n",
    "    energy_concat[community_size] = pd.concat(energy_concat[community_size], axis=0)"
   ]
  },
  {
   "cell_type": "markdown",
   "metadata": {},
   "source": [
    "### Perfect optimization"
   ]
  },
  {
   "cell_type": "code",
   "execution_count": null,
   "metadata": {},
   "outputs": [],
   "source": [
    "perfect_schedules_concat = {}\n",
    "perfect_energy_concat = {}\n",
    "\n",
    "for community_size in tqdm(community_sizes, desc=\"Community size\"):\n",
    "    perfect_schedules_concat[community_size] = []\n",
    "    perfect_energy_concat[community_size] = []\n",
    "    sub_house_ids = list(community_netload[community_size].columns)\n",
    "    \n",
    "    ref_spec = {\n",
    "            \"min_kw\": battery_size / 2,\n",
    "            \"max_kw\": battery_size / 2,\n",
    "            \"max_kwh\": battery_size,\n",
    "            \"init_kwh\": battery_size * 0.01,\n",
    "            \"eta\": 0.95,\n",
    "            \"offset\": 0.01}\n",
    "    spec = [dict(ref_spec) for i in sub_house_ids]\n",
    "    \n",
    "    \n",
    "    model = OptimizeBatteries_quadratic(\n",
    "        grid_buy=0.1740, grid_fee=0.0371, battery_aging_cost=0,\n",
    "        verbose=False, only_return_schedules=False)\n",
    "    \n",
    "    date_range = pd.date_range(end_training + deltat, end_complete_pred, freq=freq)\n",
    "    nb_iteration = len(date_range)\n",
    "    for jndex, opti_start in enumerate(date_range):\n",
    "        \n",
    "        end_optimization = opti_start + horizon + deltat\n",
    "        if end_optimization > end_complete_pred:\n",
    "            end_optimization = end_complete_pred\n",
    "        \n",
    "        tmp_netload = individuals.loc[opti_start:end_optimization, sub_house_ids]\n",
    "        schedule = model.solve(tmp_netload, sub_house_ids, spec)\n",
    "        \n",
    "        # If not last iteration\n",
    "        if not jndex == nb_iteration - 1:\n",
    "            battery_time = opti_start + freq_delta + deltat\n",
    "            for i, house_id in enumerate(sub_house_ids):\n",
    "                spec[i][\"init_kwh\"] = float(schedule[\"batteryenergy\"].at[battery_time, i])\n",
    "\n",
    "        perfect_schedules_concat[community_size].append(schedule[\"schedules\"].loc[opti_start:opti_start+freq_delta].copy())\n",
    "        perfect_energy_concat[community_size].append(schedule[\"batteryenergy\"].loc[opti_start:opti_start+freq_delta].copy())\n",
    "    perfect_schedules_concat[community_size] = pd.concat(perfect_schedules_concat[community_size], axis=0)\n",
    "    perfect_energy_concat[community_size] = pd.concat(perfect_energy_concat[community_size], axis=0)"
   ]
  },
  {
   "cell_type": "markdown",
   "metadata": {},
   "source": [
    "## Compare in €"
   ]
  },
  {
   "cell_type": "code",
   "execution_count": null,
   "metadata": {},
   "outputs": [],
   "source": [
    "_start = end_training + deltat\n",
    "_end = end_complete_pred"
   ]
  },
  {
   "cell_type": "code",
   "execution_count": null,
   "metadata": {},
   "outputs": [],
   "source": [
    "cost_2d = []\n",
    "\n",
    "for community_size in community_sizes:\n",
    "    sub_house_ids = list(community_netload[community_size].columns)\n",
    "    graph = schedules_concat[community_size].copy()\n",
    "    graph.columns = sub_house_ids\n",
    "    for col in graph.columns:\n",
    "        graph[col] += individuals.loc[_start:_end, col]\n",
    "\n",
    "    forecast_cost = community_bill(graph, sub_house_ids, timing=\"15T\", deltat=15, buy_price=0.1740, exchange_price=0.0371)\n",
    "    #print(f\"Forecast for {community_size} houses, cost = {np.round(forecast_cost / community_size, 2)} €/household\")\n",
    "    cost_2d.append(forecast_cost / community_size)"
   ]
  },
  {
   "cell_type": "code",
   "execution_count": null,
   "metadata": {},
   "outputs": [],
   "source": [
    "cost_perfect = []\n",
    "\n",
    "for community_size in community_sizes:\n",
    "    sub_house_ids = list(community_netload[community_size].columns)\n",
    "    graph = perfect_schedules_concat[community_size].copy()\n",
    "    graph.columns = sub_house_ids\n",
    "    for col in graph.columns:\n",
    "        graph[col] += individuals.loc[_start:_end, col]\n",
    "\n",
    "    forecast_cost = community_bill(graph, sub_house_ids, timing=\"15T\", deltat=15, buy_price=0.1740, exchange_price=0.0371)\n",
    "    #print(f\"Forecast for {community_size} houses, cost = {np.round(forecast_cost / community_size, 2)} €/household\")\n",
    "    cost_perfect.append(forecast_cost / community_size)"
   ]
  },
  {
   "cell_type": "code",
   "execution_count": null,
   "metadata": {},
   "outputs": [],
   "source": [
    "cost_pvonly = []\n",
    "\n",
    "for community_size in community_sizes:\n",
    "    #print(f\"Size = {community_size}\")\n",
    "    sub_house_ids = list(community_netload[community_size].columns)\n",
    "    graph = individuals.loc[_start:_end, sub_house_ids].copy()\n",
    "\n",
    "    forecast_cost = community_bill(graph, sub_house_ids, timing=\"15T\", deltat=15, buy_price=0.1740, exchange_price=0.0371)\n",
    "    #print(f\"PV only cost = {np.round(forecast_cost / community_size, 2)} €/household\")\n",
    "    cost_pvonly.append(forecast_cost / community_size)\n",
    "\n",
    "    forecast_cost = community_bill(graph, sub_house_ids, timing=\"1D\", deltat=15, buy_price=0.1740, exchange_price=0.0371)\n",
    "    #print(f\"Theoretical 1d cost = {np.round(forecast_cost / community_size, 2)} €/household\")\n",
    "\n",
    "    forecast_cost = community_bill(graph, sub_house_ids, timing=\"2D\", deltat=15, buy_price=0.1740, exchange_price=0.0371)\n",
    "    #print(f\"Theoretical 2d cost = {np.round(forecast_cost / community_size, 2)} €/household\")\n",
    "\n",
    "    forecast_cost = community_bill(graph, sub_house_ids, timing=\"365D\", deltat=15, buy_price=0.1740, exchange_price=0.0371)\n",
    "    #print(f\"Theoretical cost = {np.round(forecast_cost / community_size, 2)} €/household\")\n",
    "    #print(\"\")"
   ]
  },
  {
   "cell_type": "code",
   "execution_count": null,
   "metadata": {},
   "outputs": [],
   "source": []
  },
  {
   "cell_type": "code",
   "execution_count": 36,
   "metadata": {},
   "outputs": [
    {
     "data": {
      "application/vnd.plotly.v1+json": {
       "config": {
        "plotlyServerURL": "https://plot.ly"
       },
       "data": [
        {
         "hovertemplate": "variable=2D<br>index=%{x}<br>value=%{y}<extra></extra>",
         "legendgroup": "2D",
         "line": {
          "color": "#4C78A8",
          "dash": "solid",
          "width": 2
         },
         "marker": {
          "symbol": "circle"
         },
         "mode": "lines",
         "name": "2D",
         "orientation": "v",
         "showlegend": true,
         "type": "scatter",
         "x": [
          2,
          3,
          4,
          5,
          6,
          7,
          8,
          9,
          10,
          11,
          12,
          13,
          14,
          15,
          16,
          17,
          18,
          19,
          20,
          21,
          22,
          23,
          24,
          25,
          26,
          27,
          28,
          29,
          30,
          31,
          32,
          33,
          34,
          35,
          36,
          37,
          38,
          39,
          40,
          41,
          42,
          43,
          44,
          45,
          46,
          47,
          48,
          49,
          50,
          51,
          52,
          53,
          54,
          55,
          56,
          57,
          58,
          59,
          60,
          61,
          62,
          63,
          64,
          65,
          66,
          67,
          68,
          69,
          70,
          71,
          72,
          73,
          74,
          75,
          76,
          77,
          78,
          79,
          80,
          81,
          82,
          83,
          84,
          85,
          86,
          87,
          88,
          89,
          90,
          91,
          92,
          93,
          94,
          95,
          96,
          97,
          98,
          99,
          100,
          101,
          102,
          103,
          104,
          105,
          106,
          107,
          108,
          109,
          110,
          111,
          112,
          113,
          114,
          115,
          116,
          117,
          118,
          119,
          120
         ],
         "xaxis": "x",
         "y": [
          6.606,
          6.659666666666666,
          4.12725,
          5.792199999999999,
          3.5723333333333334,
          4.003,
          3.278875,
          7.138666666666667,
          4.6354999999999995,
          2.3301818181818184,
          4.69475,
          5.534846153846154,
          5.255214285714286,
          5.152466666666667,
          3.226875,
          5.187058823529412,
          3.5349444444444442,
          7.563736842105264,
          8.41535,
          3.3880952380952385,
          2.0379545454545456,
          2.714695652173913,
          3.5090416666666666,
          3.89092,
          6.552423076923077,
          5.067222222222222,
          4.680857142857143,
          3.850655172413793,
          3.7340333333333335,
          2.5091290322580644,
          3.692125,
          4.044272727272728,
          5.6071470588235295,
          4.269914285714286,
          3.894972222222222,
          3.997621621621622,
          5.318263157894736,
          4.249461538461539,
          4.6155,
          5.551341463414634,
          2.762952380952381,
          3.1448372093023256,
          5.473977272727272,
          5.2088222222222225,
          4.864086956521739,
          2.8957659574468084,
          4.4968125,
          3.721734693877551,
          2.97928,
          5.658058823529411,
          3.2728653846153843,
          4.235415094339623,
          4.688148148148148,
          4.7078,
          3.9166607142857144,
          3.9583508771929825,
          3.176810344827586,
          5.059949152542372,
          3.9806666666666666,
          5.968114754098361,
          2.8460483870967743,
          4.761746031746032,
          3.87346875,
          4.663476923076923,
          3.2085151515151513,
          3.7639701492537316,
          3.1350000000000002,
          4.783043478260869,
          3.793471428571429,
          4.718197183098591,
          4.331333333333333,
          2.981054794520548,
          4.295432432432433,
          4.2382,
          4.857342105263158,
          4.974961038961039,
          4.071884615384616,
          3.9706962025316455,
          3.17335,
          3.6754444444444445,
          3.5082926829268293,
          3.9824939759036146,
          4.68722619047619,
          4.0229647058823526,
          4.176267441860465,
          3.581137931034483,
          3.494795454545454,
          3.565584269662921,
          4.133733333333334,
          4.3775054945054945,
          5.277021739130435,
          3.798838709677419,
          5.131,
          5.152178947368421,
          3.975739583333333,
          4.642701030927835,
          3.8352448979591833,
          3.4885252525252524,
          4.8976299999999995,
          3.7332079207920787,
          4.1743725490196075,
          5.300310679611651,
          4.197682692307692,
          4.424247619047619,
          3.977443396226415,
          4.3494018691588785,
          4.151685185185185,
          3.596091743119266,
          4.2607,
          3.8677117117117117,
          4.7689642857142855,
          4.057646017699115,
          4.720798245614035,
          4.672565217391305,
          4.233336206896552,
          4.169974358974359,
          4.479203389830509,
          4.427386554621849,
          4.142025
         ],
         "yaxis": "y"
        },
        {
         "fill": "tonexty",
         "fillcolor": "rgba(55, 128, 191, 0.2)",
         "hovertemplate": "variable=Perfect<br>index=%{x}<br>value=%{y}<extra></extra>",
         "legendgroup": "Perfect",
         "line": {
          "color": "#F58518",
          "dash": "solid",
          "width": 2
         },
         "marker": {
          "symbol": "circle"
         },
         "mode": "lines",
         "name": "Perfect",
         "orientation": "v",
         "showlegend": true,
         "type": "scatter",
         "x": [
          2,
          3,
          4,
          5,
          6,
          7,
          8,
          9,
          10,
          11,
          12,
          13,
          14,
          15,
          16,
          17,
          18,
          19,
          20,
          21,
          22,
          23,
          24,
          25,
          26,
          27,
          28,
          29,
          30,
          31,
          32,
          33,
          34,
          35,
          36,
          37,
          38,
          39,
          40,
          41,
          42,
          43,
          44,
          45,
          46,
          47,
          48,
          49,
          50,
          51,
          52,
          53,
          54,
          55,
          56,
          57,
          58,
          59,
          60,
          61,
          62,
          63,
          64,
          65,
          66,
          67,
          68,
          69,
          70,
          71,
          72,
          73,
          74,
          75,
          76,
          77,
          78,
          79,
          80,
          81,
          82,
          83,
          84,
          85,
          86,
          87,
          88,
          89,
          90,
          91,
          92,
          93,
          94,
          95,
          96,
          97,
          98,
          99,
          100,
          101,
          102,
          103,
          104,
          105,
          106,
          107,
          108,
          109,
          110,
          111,
          112,
          113,
          114,
          115,
          116,
          117,
          118,
          119,
          120
         ],
         "xaxis": "x",
         "y": [
          6.1205,
          6.1273333333333335,
          3.4705,
          5.2142,
          2.8318333333333334,
          3.562142857142857,
          2.609,
          6.208,
          4.0405999999999995,
          1.8118181818181818,
          4.1895,
          5.231,
          4.723999999999999,
          4.516933333333333,
          2.761625,
          4.811352941176471,
          3.0555555555555554,
          6.9907894736842096,
          8.02065,
          2.9127619047619047,
          1.592818181818182,
          2.2129565217391307,
          2.9111666666666665,
          3.3516399999999997,
          6.1467307692307696,
          4.7475555555555555,
          4.287892857142857,
          3.510689655172414,
          3.392233333333333,
          2.024709677419355,
          3.04896875,
          3.648151515151515,
          5.196705882352941,
          3.907714285714286,
          3.419694444444444,
          3.529675675675676,
          4.997815789473684,
          3.8741282051282053,
          4.28255,
          5.194487804878048,
          2.278690476190476,
          2.7079767441860465,
          5.151772727272728,
          4.859244444444444,
          4.453413043478261,
          2.5050212765957447,
          4.1491875,
          3.3287142857142857,
          2.4708,
          5.2775686274509805,
          2.9201923076923078,
          3.8807169811320756,
          4.333,
          4.369745454545455,
          3.4911964285714285,
          3.519491228070175,
          2.7856724137931033,
          4.660864406779661,
          3.6356666666666664,
          5.6298360655737705,
          2.3756129032258064,
          4.442603174603175,
          3.477796875,
          4.373923076923077,
          2.7019545454545457,
          3.4041641791044777,
          2.7438676470588237,
          4.474289855072464,
          3.4254285714285713,
          4.3820563380281685,
          3.9648055555555555,
          2.5273150684931505,
          3.8963918918918923,
          3.87064,
          4.437894736842105,
          4.628220779220779,
          3.6909743589743593,
          3.6183417721518985,
          2.7439375,
          3.247148148148148,
          3.0905853658536584,
          3.626987951807229,
          4.331571428571428,
          3.640858823529412,
          3.8391046511627906,
          3.204103448275862,
          3.132045454545455,
          3.1971348314606742,
          3.8088777777777776,
          4.023747252747253,
          4.943032608695653,
          3.4016236559139785,
          4.7987659574468085,
          4.827568421052632,
          3.622677083333333,
          4.314030927835051,
          3.4598673469387755,
          3.10089898989899,
          4.57482,
          3.352930693069307,
          3.806156862745098,
          4.949145631067961,
          3.8010384615384614,
          4.0892,
          3.6038679245283016,
          3.9825794392523366,
          3.8011574074074073,
          3.190018348623853,
          3.9295818181818185,
          3.487828828828829,
          4.437053571428572,
          3.717026548672566,
          4.352921052631579,
          4.319643478260869,
          3.8862241379310345,
          3.830905982905983,
          4.123008474576271,
          4.103949579831933,
          3.753433333333333
         ],
         "yaxis": "y"
        },
        {
         "fill": "tonexty",
         "fillcolor": "rgba(214, 39, 40, 0.05)",
         "hovertemplate": "variable=PV_only<br>index=%{x}<br>value=%{y}<extra></extra>",
         "legendgroup": "PV_only",
         "line": {
          "color": "#E45756",
          "dash": "solid",
          "width": 2
         },
         "marker": {
          "symbol": "circle"
         },
         "mode": "lines",
         "name": "PV_only",
         "orientation": "v",
         "showlegend": true,
         "type": "scatter",
         "x": [
          2,
          3,
          4,
          5,
          6,
          7,
          8,
          9,
          10,
          11,
          12,
          13,
          14,
          15,
          16,
          17,
          18,
          19,
          20,
          21,
          22,
          23,
          24,
          25,
          26,
          27,
          28,
          29,
          30,
          31,
          32,
          33,
          34,
          35,
          36,
          37,
          38,
          39,
          40,
          41,
          42,
          43,
          44,
          45,
          46,
          47,
          48,
          49,
          50,
          51,
          52,
          53,
          54,
          55,
          56,
          57,
          58,
          59,
          60,
          61,
          62,
          63,
          64,
          65,
          66,
          67,
          68,
          69,
          70,
          71,
          72,
          73,
          74,
          75,
          76,
          77,
          78,
          79,
          80,
          81,
          82,
          83,
          84,
          85,
          86,
          87,
          88,
          89,
          90,
          91,
          92,
          93,
          94,
          95,
          96,
          97,
          98,
          99,
          100,
          101,
          102,
          103,
          104,
          105,
          106,
          107,
          108,
          109,
          110,
          111,
          112,
          113,
          114,
          115,
          116,
          117,
          118,
          119,
          120
         ],
         "xaxis": "x",
         "y": [
          10.944,
          10.917333333333334,
          8.17575,
          10.1644,
          7.418,
          8.241285714285715,
          7.3005,
          10.946444444444445,
          8.8802,
          6.076818181818182,
          8.919166666666667,
          10.095461538461539,
          9.566928571428573,
          9.2128,
          7.5131875,
          9.542588235294117,
          7.789833333333334,
          11.698526315789474,
          12.8186,
          7.622000000000001,
          5.89509090909091,
          6.907652173913044,
          7.64075,
          8.00988,
          10.928115384615383,
          9.469074074074074,
          9.06125,
          8.231206896551724,
          8.1575,
          6.621290322580645,
          7.74703125,
          8.373787878787878,
          9.920147058823531,
          8.653628571428571,
          8.073638888888889,
          8.273351351351351,
          9.752368421052632,
          8.549358974358976,
          9.046175,
          9.952634146341463,
          6.990571428571428,
          7.414023255813953,
          9.935636363636364,
          9.671955555555556,
          9.167152173913044,
          7.20763829787234,
          8.871062499999999,
          8.03873469387755,
          7.1502,
          9.990980392156864,
          7.634538461538461,
          8.577018867924528,
          9.071296296296296,
          9.067727272727273,
          8.206785714285713,
          8.243210526315789,
          7.489775862068965,
          9.386372881355934,
          8.341466666666667,
          10.353868852459017,
          7.035274193548387,
          9.202015873015872,
          8.179390625,
          9.109323076923078,
          7.371363636363636,
          8.121432835820896,
          7.457544117647059,
          9.20531884057971,
          8.175099999999999,
          9.109957746478873,
          8.666472222222222,
          7.226890410958904,
          8.61481081081081,
          8.555386666666667,
          9.14363157894737,
          9.315961038961039,
          8.414076923076923,
          8.327265822784812,
          7.4551625,
          7.9351975308641975,
          7.785707317073171,
          8.32733734939759,
          9.008607142857143,
          8.385529411764706,
          8.578802325581396,
          7.890528735632184,
          7.8389999999999995,
          7.93485393258427,
          8.549711111111112,
          8.716109890109891,
          9.649608695652175,
          8.114645161290323,
          9.517382978723404,
          9.573515789473685,
          8.34271875,
          9.039154639175258,
          8.133071428571428,
          7.791181818181818,
          9.30204,
          8.034594059405942,
          8.518872549019607,
          9.667291262135922,
          8.516653846153845,
          8.783619047619048,
          8.339264150943396,
          8.688037383177571,
          8.51187037037037,
          7.871935779816514,
          8.6549,
          8.169981981981982,
          9.150616071428571,
          8.41370796460177,
          9.078201754385965,
          9.036478260869565,
          8.61619827586207,
          8.549470085470086,
          8.82313559322034,
          8.81953781512605,
          8.462316666666666
         ],
         "yaxis": "y"
        }
       ],
       "layout": {
        "font": {
         "size": 19
        },
        "height": 500,
        "legend": {
         "title": {
          "text": "variable"
         },
         "tracegroupgap": 0
        },
        "margin": {
         "b": 10,
         "l": 20,
         "r": 50,
         "t": 50
        },
        "showlegend": false,
        "template": {
         "data": {
          "bar": [
           {
            "error_x": {
             "color": "#2a3f5f"
            },
            "error_y": {
             "color": "#2a3f5f"
            },
            "marker": {
             "line": {
              "color": "white",
              "width": 0.5
             },
             "pattern": {
              "fillmode": "overlay",
              "size": 10,
              "solidity": 0.2
             }
            },
            "type": "bar"
           }
          ],
          "barpolar": [
           {
            "marker": {
             "line": {
              "color": "white",
              "width": 0.5
             },
             "pattern": {
              "fillmode": "overlay",
              "size": 10,
              "solidity": 0.2
             }
            },
            "type": "barpolar"
           }
          ],
          "carpet": [
           {
            "aaxis": {
             "endlinecolor": "#2a3f5f",
             "gridcolor": "#C8D4E3",
             "linecolor": "#C8D4E3",
             "minorgridcolor": "#C8D4E3",
             "startlinecolor": "#2a3f5f"
            },
            "baxis": {
             "endlinecolor": "#2a3f5f",
             "gridcolor": "#C8D4E3",
             "linecolor": "#C8D4E3",
             "minorgridcolor": "#C8D4E3",
             "startlinecolor": "#2a3f5f"
            },
            "type": "carpet"
           }
          ],
          "choropleth": [
           {
            "colorbar": {
             "outlinewidth": 0,
             "ticks": ""
            },
            "type": "choropleth"
           }
          ],
          "contour": [
           {
            "colorbar": {
             "outlinewidth": 0,
             "ticks": ""
            },
            "colorscale": [
             [
              0,
              "#0d0887"
             ],
             [
              0.1111111111111111,
              "#46039f"
             ],
             [
              0.2222222222222222,
              "#7201a8"
             ],
             [
              0.3333333333333333,
              "#9c179e"
             ],
             [
              0.4444444444444444,
              "#bd3786"
             ],
             [
              0.5555555555555556,
              "#d8576b"
             ],
             [
              0.6666666666666666,
              "#ed7953"
             ],
             [
              0.7777777777777778,
              "#fb9f3a"
             ],
             [
              0.8888888888888888,
              "#fdca26"
             ],
             [
              1,
              "#f0f921"
             ]
            ],
            "type": "contour"
           }
          ],
          "contourcarpet": [
           {
            "colorbar": {
             "outlinewidth": 0,
             "ticks": ""
            },
            "type": "contourcarpet"
           }
          ],
          "heatmap": [
           {
            "colorbar": {
             "outlinewidth": 0,
             "ticks": ""
            },
            "colorscale": [
             [
              0,
              "#0d0887"
             ],
             [
              0.1111111111111111,
              "#46039f"
             ],
             [
              0.2222222222222222,
              "#7201a8"
             ],
             [
              0.3333333333333333,
              "#9c179e"
             ],
             [
              0.4444444444444444,
              "#bd3786"
             ],
             [
              0.5555555555555556,
              "#d8576b"
             ],
             [
              0.6666666666666666,
              "#ed7953"
             ],
             [
              0.7777777777777778,
              "#fb9f3a"
             ],
             [
              0.8888888888888888,
              "#fdca26"
             ],
             [
              1,
              "#f0f921"
             ]
            ],
            "type": "heatmap"
           }
          ],
          "heatmapgl": [
           {
            "colorbar": {
             "outlinewidth": 0,
             "ticks": ""
            },
            "colorscale": [
             [
              0,
              "#0d0887"
             ],
             [
              0.1111111111111111,
              "#46039f"
             ],
             [
              0.2222222222222222,
              "#7201a8"
             ],
             [
              0.3333333333333333,
              "#9c179e"
             ],
             [
              0.4444444444444444,
              "#bd3786"
             ],
             [
              0.5555555555555556,
              "#d8576b"
             ],
             [
              0.6666666666666666,
              "#ed7953"
             ],
             [
              0.7777777777777778,
              "#fb9f3a"
             ],
             [
              0.8888888888888888,
              "#fdca26"
             ],
             [
              1,
              "#f0f921"
             ]
            ],
            "type": "heatmapgl"
           }
          ],
          "histogram": [
           {
            "marker": {
             "pattern": {
              "fillmode": "overlay",
              "size": 10,
              "solidity": 0.2
             }
            },
            "type": "histogram"
           }
          ],
          "histogram2d": [
           {
            "colorbar": {
             "outlinewidth": 0,
             "ticks": ""
            },
            "colorscale": [
             [
              0,
              "#0d0887"
             ],
             [
              0.1111111111111111,
              "#46039f"
             ],
             [
              0.2222222222222222,
              "#7201a8"
             ],
             [
              0.3333333333333333,
              "#9c179e"
             ],
             [
              0.4444444444444444,
              "#bd3786"
             ],
             [
              0.5555555555555556,
              "#d8576b"
             ],
             [
              0.6666666666666666,
              "#ed7953"
             ],
             [
              0.7777777777777778,
              "#fb9f3a"
             ],
             [
              0.8888888888888888,
              "#fdca26"
             ],
             [
              1,
              "#f0f921"
             ]
            ],
            "type": "histogram2d"
           }
          ],
          "histogram2dcontour": [
           {
            "colorbar": {
             "outlinewidth": 0,
             "ticks": ""
            },
            "colorscale": [
             [
              0,
              "#0d0887"
             ],
             [
              0.1111111111111111,
              "#46039f"
             ],
             [
              0.2222222222222222,
              "#7201a8"
             ],
             [
              0.3333333333333333,
              "#9c179e"
             ],
             [
              0.4444444444444444,
              "#bd3786"
             ],
             [
              0.5555555555555556,
              "#d8576b"
             ],
             [
              0.6666666666666666,
              "#ed7953"
             ],
             [
              0.7777777777777778,
              "#fb9f3a"
             ],
             [
              0.8888888888888888,
              "#fdca26"
             ],
             [
              1,
              "#f0f921"
             ]
            ],
            "type": "histogram2dcontour"
           }
          ],
          "mesh3d": [
           {
            "colorbar": {
             "outlinewidth": 0,
             "ticks": ""
            },
            "type": "mesh3d"
           }
          ],
          "parcoords": [
           {
            "line": {
             "colorbar": {
              "outlinewidth": 0,
              "ticks": ""
             }
            },
            "type": "parcoords"
           }
          ],
          "pie": [
           {
            "automargin": true,
            "type": "pie"
           }
          ],
          "scatter": [
           {
            "marker": {
             "colorbar": {
              "outlinewidth": 0,
              "ticks": ""
             }
            },
            "type": "scatter"
           }
          ],
          "scatter3d": [
           {
            "line": {
             "colorbar": {
              "outlinewidth": 0,
              "ticks": ""
             }
            },
            "marker": {
             "colorbar": {
              "outlinewidth": 0,
              "ticks": ""
             }
            },
            "type": "scatter3d"
           }
          ],
          "scattercarpet": [
           {
            "marker": {
             "colorbar": {
              "outlinewidth": 0,
              "ticks": ""
             }
            },
            "type": "scattercarpet"
           }
          ],
          "scattergeo": [
           {
            "marker": {
             "colorbar": {
              "outlinewidth": 0,
              "ticks": ""
             }
            },
            "type": "scattergeo"
           }
          ],
          "scattergl": [
           {
            "marker": {
             "colorbar": {
              "outlinewidth": 0,
              "ticks": ""
             }
            },
            "type": "scattergl"
           }
          ],
          "scattermapbox": [
           {
            "marker": {
             "colorbar": {
              "outlinewidth": 0,
              "ticks": ""
             }
            },
            "type": "scattermapbox"
           }
          ],
          "scatterpolar": [
           {
            "marker": {
             "colorbar": {
              "outlinewidth": 0,
              "ticks": ""
             }
            },
            "type": "scatterpolar"
           }
          ],
          "scatterpolargl": [
           {
            "marker": {
             "colorbar": {
              "outlinewidth": 0,
              "ticks": ""
             }
            },
            "type": "scatterpolargl"
           }
          ],
          "scatterternary": [
           {
            "marker": {
             "colorbar": {
              "outlinewidth": 0,
              "ticks": ""
             }
            },
            "type": "scatterternary"
           }
          ],
          "surface": [
           {
            "colorbar": {
             "outlinewidth": 0,
             "ticks": ""
            },
            "colorscale": [
             [
              0,
              "#0d0887"
             ],
             [
              0.1111111111111111,
              "#46039f"
             ],
             [
              0.2222222222222222,
              "#7201a8"
             ],
             [
              0.3333333333333333,
              "#9c179e"
             ],
             [
              0.4444444444444444,
              "#bd3786"
             ],
             [
              0.5555555555555556,
              "#d8576b"
             ],
             [
              0.6666666666666666,
              "#ed7953"
             ],
             [
              0.7777777777777778,
              "#fb9f3a"
             ],
             [
              0.8888888888888888,
              "#fdca26"
             ],
             [
              1,
              "#f0f921"
             ]
            ],
            "type": "surface"
           }
          ],
          "table": [
           {
            "cells": {
             "fill": {
              "color": "#EBF0F8"
             },
             "line": {
              "color": "white"
             }
            },
            "header": {
             "fill": {
              "color": "#C8D4E3"
             },
             "line": {
              "color": "white"
             }
            },
            "type": "table"
           }
          ]
         },
         "layout": {
          "annotationdefaults": {
           "arrowcolor": "#2a3f5f",
           "arrowhead": 0,
           "arrowwidth": 1
          },
          "autotypenumbers": "strict",
          "coloraxis": {
           "colorbar": {
            "outlinewidth": 0,
            "ticks": ""
           }
          },
          "colorscale": {
           "diverging": [
            [
             0,
             "#8e0152"
            ],
            [
             0.1,
             "#c51b7d"
            ],
            [
             0.2,
             "#de77ae"
            ],
            [
             0.3,
             "#f1b6da"
            ],
            [
             0.4,
             "#fde0ef"
            ],
            [
             0.5,
             "#f7f7f7"
            ],
            [
             0.6,
             "#e6f5d0"
            ],
            [
             0.7,
             "#b8e186"
            ],
            [
             0.8,
             "#7fbc41"
            ],
            [
             0.9,
             "#4d9221"
            ],
            [
             1,
             "#276419"
            ]
           ],
           "sequential": [
            [
             0,
             "#0d0887"
            ],
            [
             0.1111111111111111,
             "#46039f"
            ],
            [
             0.2222222222222222,
             "#7201a8"
            ],
            [
             0.3333333333333333,
             "#9c179e"
            ],
            [
             0.4444444444444444,
             "#bd3786"
            ],
            [
             0.5555555555555556,
             "#d8576b"
            ],
            [
             0.6666666666666666,
             "#ed7953"
            ],
            [
             0.7777777777777778,
             "#fb9f3a"
            ],
            [
             0.8888888888888888,
             "#fdca26"
            ],
            [
             1,
             "#f0f921"
            ]
           ],
           "sequentialminus": [
            [
             0,
             "#0d0887"
            ],
            [
             0.1111111111111111,
             "#46039f"
            ],
            [
             0.2222222222222222,
             "#7201a8"
            ],
            [
             0.3333333333333333,
             "#9c179e"
            ],
            [
             0.4444444444444444,
             "#bd3786"
            ],
            [
             0.5555555555555556,
             "#d8576b"
            ],
            [
             0.6666666666666666,
             "#ed7953"
            ],
            [
             0.7777777777777778,
             "#fb9f3a"
            ],
            [
             0.8888888888888888,
             "#fdca26"
            ],
            [
             1,
             "#f0f921"
            ]
           ]
          },
          "colorway": [
           "#636efa",
           "#EF553B",
           "#00cc96",
           "#ab63fa",
           "#FFA15A",
           "#19d3f3",
           "#FF6692",
           "#B6E880",
           "#FF97FF",
           "#FECB52"
          ],
          "font": {
           "color": "#2a3f5f"
          },
          "geo": {
           "bgcolor": "white",
           "lakecolor": "white",
           "landcolor": "white",
           "showlakes": true,
           "showland": true,
           "subunitcolor": "#C8D4E3"
          },
          "hoverlabel": {
           "align": "left"
          },
          "hovermode": "closest",
          "mapbox": {
           "style": "light"
          },
          "paper_bgcolor": "white",
          "plot_bgcolor": "white",
          "polar": {
           "angularaxis": {
            "gridcolor": "#EBF0F8",
            "linecolor": "#EBF0F8",
            "ticks": ""
           },
           "bgcolor": "white",
           "radialaxis": {
            "gridcolor": "#EBF0F8",
            "linecolor": "#EBF0F8",
            "ticks": ""
           }
          },
          "scene": {
           "xaxis": {
            "backgroundcolor": "white",
            "gridcolor": "#DFE8F3",
            "gridwidth": 2,
            "linecolor": "#EBF0F8",
            "showbackground": true,
            "ticks": "",
            "zerolinecolor": "#EBF0F8"
           },
           "yaxis": {
            "backgroundcolor": "white",
            "gridcolor": "#DFE8F3",
            "gridwidth": 2,
            "linecolor": "#EBF0F8",
            "showbackground": true,
            "ticks": "",
            "zerolinecolor": "#EBF0F8"
           },
           "zaxis": {
            "backgroundcolor": "white",
            "gridcolor": "#DFE8F3",
            "gridwidth": 2,
            "linecolor": "#EBF0F8",
            "showbackground": true,
            "ticks": "",
            "zerolinecolor": "#EBF0F8"
           }
          },
          "shapedefaults": {
           "line": {
            "color": "#2a3f5f"
           }
          },
          "ternary": {
           "aaxis": {
            "gridcolor": "#DFE8F3",
            "linecolor": "#A2B1C6",
            "ticks": ""
           },
           "baxis": {
            "gridcolor": "#DFE8F3",
            "linecolor": "#A2B1C6",
            "ticks": ""
           },
           "bgcolor": "white",
           "caxis": {
            "gridcolor": "#DFE8F3",
            "linecolor": "#A2B1C6",
            "ticks": ""
           }
          },
          "title": {
           "x": 0.05
          },
          "xaxis": {
           "automargin": true,
           "gridcolor": "#EBF0F8",
           "linecolor": "#EBF0F8",
           "ticks": "",
           "title": {
            "standoff": 15
           },
           "zerolinecolor": "#EBF0F8",
           "zerolinewidth": 2
          },
          "yaxis": {
           "automargin": true,
           "gridcolor": "#EBF0F8",
           "linecolor": "#EBF0F8",
           "ticks": "",
           "title": {
            "standoff": 15
           },
           "zerolinecolor": "#EBF0F8",
           "zerolinewidth": 2
          }
         }
        },
        "width": 800,
        "xaxis": {
         "anchor": "y",
         "domain": [
          0,
          1
         ],
         "linecolor": "black",
         "linewidth": 2,
         "range": [
          0,
          120
         ],
         "showline": false,
         "title": {
          "text": "Community sizes [kWh]"
         },
         "type": "linear",
         "zerolinecolor": "black",
         "zerolinewidth": 2
        },
        "yaxis": {
         "anchor": "x",
         "domain": [
          0,
          1
         ],
         "dtick": 1,
         "linecolor": "black",
         "linewidth": 2,
         "range": [
          0,
          13.2
         ],
         "showline": false,
         "title": {
          "text": "Cost [€/member]"
         },
         "type": "linear",
         "zerolinecolor": "black",
         "zerolinewidth": 2
        }
       }
      },
      "image/png": "[encoded data removed]",
      "text/html": [
       "<div>                            <div id=\"765fce3b-2191-4080-b699-bf2d3bac9261\" class=\"plotly-graph-div\" style=\"height:500px; width:800px;\"></div>            <script type=\"text/javascript\">                require([\"plotly\"], function(Plotly) {                    window.PLOTLYENV=window.PLOTLYENV || {};                                    if (document.getElementById(\"765fce3b-2191-4080-b699-bf2d3bac9261\")) {                    Plotly.newPlot(                        \"765fce3b-2191-4080-b699-bf2d3bac9261\",                        [{\"hovertemplate\":\"variable=2D<br>index=%{x}<br>value=%{y}<extra></extra>\",\"legendgroup\":\"2D\",\"line\":{\"color\":\"#4C78A8\",\"dash\":\"solid\",\"width\":2},\"marker\":{\"symbol\":\"circle\"},\"mode\":\"lines\",\"name\":\"2D\",\"orientation\":\"v\",\"showlegend\":true,\"type\":\"scatter\",\"x\":[2,3,4,5,6,7,8,9,10,11,12,13,14,15,16,17,18,19,20,21,22,23,24,25,26,27,28,29,30,31,32,33,34,35,36,37,38,39,40,41,42,43,44,45,46,47,48,49,50,51,52,53,54,55,56,57,58,59,60,61,62,63,64,65,66,67,68,69,70,71,72,73,74,75,76,77,78,79,80,81,82,83,84,85,86,87,88,89,90,91,92,93,94,95,96,97,98,99,100,101,102,103,104,105,106,107,108,109,110,111,112,113,114,115,116,117,118,119,120],\"xaxis\":\"x\",\"y\":[6.606,6.659666666666666,4.12725,5.792199999999999,3.5723333333333334,4.003,3.278875,7.138666666666667,4.6354999999999995,2.3301818181818184,4.69475,5.534846153846154,5.255214285714286,5.152466666666667,3.226875,5.187058823529412,3.5349444444444442,7.563736842105264,8.41535,3.3880952380952385,2.0379545454545456,2.714695652173913,3.5090416666666666,3.89092,6.552423076923077,5.067222222222222,4.680857142857143,3.850655172413793,3.7340333333333335,2.5091290322580644,3.692125,4.044272727272728,5.6071470588235295,4.269914285714286,3.894972222222222,3.997621621621622,5.318263157894736,4.249461538461539,4.6155,5.551341463414634,2.762952380952381,3.1448372093023256,5.473977272727272,5.2088222222222225,4.864086956521739,2.8957659574468084,4.4968125,3.721734693877551,2.97928,5.658058823529411,3.2728653846153843,4.235415094339623,4.688148148148148,4.7078,3.9166607142857144,3.9583508771929825,3.176810344827586,5.059949152542372,3.9806666666666666,5.968114754098361,2.8460483870967743,4.761746031746032,3.87346875,4.663476923076923,3.2085151515151513,3.7639701492537316,3.1350000000000002,4.783043478260869,3.793471428571429,4.718197183098591,4.331333333333333,2.981054794520548,4.295432432432433,4.2382,4.857342105263158,4.974961038961039,4.071884615384616,3.9706962025316455,3.17335,3.6754444444444445,3.5082926829268293,3.9824939759036146,4.68722619047619,4.0229647058823526,4.176267441860465,3.581137931034483,3.494795454545454,3.565584269662921,4.133733333333334,4.3775054945054945,5.277021739130435,3.798838709677419,5.131,5.152178947368421,3.975739583333333,4.642701030927835,3.8352448979591833,3.4885252525252524,4.8976299999999995,3.7332079207920787,4.1743725490196075,5.300310679611651,4.197682692307692,4.424247619047619,3.977443396226415,4.3494018691588785,4.151685185185185,3.596091743119266,4.2607,3.8677117117117117,4.7689642857142855,4.057646017699115,4.720798245614035,4.672565217391305,4.233336206896552,4.169974358974359,4.479203389830509,4.427386554621849,4.142025],\"yaxis\":\"y\"},{\"fill\":\"tonexty\",\"fillcolor\":\"rgba(55, 128, 191, 0.2)\",\"hovertemplate\":\"variable=Perfect<br>index=%{x}<br>value=%{y}<extra></extra>\",\"legendgroup\":\"Perfect\",\"line\":{\"color\":\"#F58518\",\"dash\":\"solid\",\"width\":2},\"marker\":{\"symbol\":\"circle\"},\"mode\":\"lines\",\"name\":\"Perfect\",\"orientation\":\"v\",\"showlegend\":true,\"type\":\"scatter\",\"x\":[2,3,4,5,6,7,8,9,10,11,12,13,14,15,16,17,18,19,20,21,22,23,24,25,26,27,28,29,30,31,32,33,34,35,36,37,38,39,40,41,42,43,44,45,46,47,48,49,50,51,52,53,54,55,56,57,58,59,60,61,62,63,64,65,66,67,68,69,70,71,72,73,74,75,76,77,78,79,80,81,82,83,84,85,86,87,88,89,90,91,92,93,94,95,96,97,98,99,100,101,102,103,104,105,106,107,108,109,110,111,112,113,114,115,116,117,118,119,120],\"xaxis\":\"x\",\"y\":[6.1205,6.1273333333333335,3.4705,5.2142,2.8318333333333334,3.562142857142857,2.609,6.208,4.0405999999999995,1.8118181818181818,4.1895,5.231,4.723999999999999,4.516933333333333,2.761625,4.811352941176471,3.0555555555555554,6.9907894736842096,8.02065,2.9127619047619047,1.592818181818182,2.2129565217391307,2.9111666666666665,3.3516399999999997,6.1467307692307696,4.7475555555555555,4.287892857142857,3.510689655172414,3.392233333333333,2.024709677419355,3.04896875,3.648151515151515,5.196705882352941,3.907714285714286,3.419694444444444,3.529675675675676,4.997815789473684,3.8741282051282053,4.28255,5.194487804878048,2.278690476190476,2.7079767441860465,5.151772727272728,4.859244444444444,4.453413043478261,2.5050212765957447,4.1491875,3.3287142857142857,2.4708,5.2775686274509805,2.9201923076923078,3.8807169811320756,4.333,4.369745454545455,3.4911964285714285,3.519491228070175,2.7856724137931033,4.660864406779661,3.6356666666666664,5.6298360655737705,2.3756129032258064,4.442603174603175,3.477796875,4.373923076923077,2.7019545454545457,3.4041641791044777,2.7438676470588237,4.474289855072464,3.4254285714285713,4.3820563380281685,3.9648055555555555,2.5273150684931505,3.8963918918918923,3.87064,4.437894736842105,4.628220779220779,3.6909743589743593,3.6183417721518985,2.7439375,3.247148148148148,3.0905853658536584,3.626987951807229,4.331571428571428,3.640858823529412,3.8391046511627906,3.204103448275862,3.132045454545455,3.1971348314606742,3.8088777777777776,4.023747252747253,4.943032608695653,3.4016236559139785,4.7987659574468085,4.827568421052632,3.622677083333333,4.314030927835051,3.4598673469387755,3.10089898989899,4.57482,3.352930693069307,3.806156862745098,4.949145631067961,3.8010384615384614,4.0892,3.6038679245283016,3.9825794392523366,3.8011574074074073,3.190018348623853,3.9295818181818185,3.487828828828829,4.437053571428572,3.717026548672566,4.352921052631579,4.319643478260869,3.8862241379310345,3.830905982905983,4.123008474576271,4.103949579831933,3.753433333333333],\"yaxis\":\"y\"},{\"fill\":\"tonexty\",\"fillcolor\":\"rgba(214, 39, 40, 0.05)\",\"hovertemplate\":\"variable=PV_only<br>index=%{x}<br>value=%{y}<extra></extra>\",\"legendgroup\":\"PV_only\",\"line\":{\"color\":\"#E45756\",\"dash\":\"solid\",\"width\":2},\"marker\":{\"symbol\":\"circle\"},\"mode\":\"lines\",\"name\":\"PV_only\",\"orientation\":\"v\",\"showlegend\":true,\"type\":\"scatter\",\"x\":[2,3,4,5,6,7,8,9,10,11,12,13,14,15,16,17,18,19,20,21,22,23,24,25,26,27,28,29,30,31,32,33,34,35,36,37,38,39,40,41,42,43,44,45,46,47,48,49,50,51,52,53,54,55,56,57,58,59,60,61,62,63,64,65,66,67,68,69,70,71,72,73,74,75,76,77,78,79,80,81,82,83,84,85,86,87,88,89,90,91,92,93,94,95,96,97,98,99,100,101,102,103,104,105,106,107,108,109,110,111,112,113,114,115,116,117,118,119,120],\"xaxis\":\"x\",\"y\":[10.944,10.917333333333334,8.17575,10.1644,7.418,8.241285714285715,7.3005,10.946444444444445,8.8802,6.076818181818182,8.919166666666667,10.095461538461539,9.566928571428573,9.2128,7.5131875,9.542588235294117,7.789833333333334,11.698526315789474,12.8186,7.622000000000001,5.89509090909091,6.907652173913044,7.64075,8.00988,10.928115384615383,9.469074074074074,9.06125,8.231206896551724,8.1575,6.621290322580645,7.74703125,8.373787878787878,9.920147058823531,8.653628571428571,8.073638888888889,8.273351351351351,9.752368421052632,8.549358974358976,9.046175,9.952634146341463,6.990571428571428,7.414023255813953,9.935636363636364,9.671955555555556,9.167152173913044,7.20763829787234,8.871062499999999,8.03873469387755,7.1502,9.990980392156864,7.634538461538461,8.577018867924528,9.071296296296296,9.067727272727273,8.206785714285713,8.243210526315789,7.489775862068965,9.386372881355934,8.341466666666667,10.353868852459017,7.035274193548387,9.202015873015872,8.179390625,9.109323076923078,7.371363636363636,8.121432835820896,7.457544117647059,9.20531884057971,8.175099999999999,9.109957746478873,8.666472222222222,7.226890410958904,8.61481081081081,8.555386666666667,9.14363157894737,9.315961038961039,8.414076923076923,8.327265822784812,7.4551625,7.9351975308641975,7.785707317073171,8.32733734939759,9.008607142857143,8.385529411764706,8.578802325581396,7.890528735632184,7.8389999999999995,7.93485393258427,8.549711111111112,8.716109890109891,9.649608695652175,8.114645161290323,9.517382978723404,9.573515789473685,8.34271875,9.039154639175258,8.133071428571428,7.791181818181818,9.30204,8.034594059405942,8.518872549019607,9.667291262135922,8.516653846153845,8.783619047619048,8.339264150943396,8.688037383177571,8.51187037037037,7.871935779816514,8.6549,8.169981981981982,9.150616071428571,8.41370796460177,9.078201754385965,9.036478260869565,8.61619827586207,8.549470085470086,8.82313559322034,8.81953781512605,8.462316666666666],\"yaxis\":\"y\"}],                        {\"font\":{\"size\":19},\"height\":500,\"legend\":{\"title\":{\"text\":\"variable\"},\"tracegroupgap\":0},\"margin\":{\"b\":10,\"l\":20,\"r\":50,\"t\":50},\"showlegend\":false,\"template\":{\"data\":{\"bar\":[{\"error_x\":{\"color\":\"#2a3f5f\"},\"error_y\":{\"color\":\"#2a3f5f\"},\"marker\":{\"line\":{\"color\":\"white\",\"width\":0.5},\"pattern\":{\"fillmode\":\"overlay\",\"size\":10,\"solidity\":0.2}},\"type\":\"bar\"}],\"barpolar\":[{\"marker\":{\"line\":{\"color\":\"white\",\"width\":0.5},\"pattern\":{\"fillmode\":\"overlay\",\"size\":10,\"solidity\":0.2}},\"type\":\"barpolar\"}],\"carpet\":[{\"aaxis\":{\"endlinecolor\":\"#2a3f5f\",\"gridcolor\":\"#C8D4E3\",\"linecolor\":\"#C8D4E3\",\"minorgridcolor\":\"#C8D4E3\",\"startlinecolor\":\"#2a3f5f\"},\"baxis\":{\"endlinecolor\":\"#2a3f5f\",\"gridcolor\":\"#C8D4E3\",\"linecolor\":\"#C8D4E3\",\"minorgridcolor\":\"#C8D4E3\",\"startlinecolor\":\"#2a3f5f\"},\"type\":\"carpet\"}],\"choropleth\":[{\"colorbar\":{\"outlinewidth\":0,\"ticks\":\"\"},\"type\":\"choropleth\"}],\"contour\":[{\"colorbar\":{\"outlinewidth\":0,\"ticks\":\"\"},\"colorscale\":[[0.0,\"#0d0887\"],[0.1111111111111111,\"#46039f\"],[0.2222222222222222,\"#7201a8\"],[0.3333333333333333,\"#9c179e\"],[0.4444444444444444,\"#bd3786\"],[0.5555555555555556,\"#d8576b\"],[0.6666666666666666,\"#ed7953\"],[0.7777777777777778,\"#fb9f3a\"],[0.8888888888888888,\"#fdca26\"],[1.0,\"#f0f921\"]],\"type\":\"contour\"}],\"contourcarpet\":[{\"colorbar\":{\"outlinewidth\":0,\"ticks\":\"\"},\"type\":\"contourcarpet\"}],\"heatmap\":[{\"colorbar\":{\"outlinewidth\":0,\"ticks\":\"\"},\"colorscale\":[[0.0,\"#0d0887\"],[0.1111111111111111,\"#46039f\"],[0.2222222222222222,\"#7201a8\"],[0.3333333333333333,\"#9c179e\"],[0.4444444444444444,\"#bd3786\"],[0.5555555555555556,\"#d8576b\"],[0.6666666666666666,\"#ed7953\"],[0.7777777777777778,\"#fb9f3a\"],[0.8888888888888888,\"#fdca26\"],[1.0,\"#f0f921\"]],\"type\":\"heatmap\"}],\"heatmapgl\":[{\"colorbar\":{\"outlinewidth\":0,\"ticks\":\"\"},\"colorscale\":[[0.0,\"#0d0887\"],[0.1111111111111111,\"#46039f\"],[0.2222222222222222,\"#7201a8\"],[0.3333333333333333,\"#9c179e\"],[0.4444444444444444,\"#bd3786\"],[0.5555555555555556,\"#d8576b\"],[0.6666666666666666,\"#ed7953\"],[0.7777777777777778,\"#fb9f3a\"],[0.8888888888888888,\"#fdca26\"],[1.0,\"#f0f921\"]],\"type\":\"heatmapgl\"}],\"histogram\":[{\"marker\":{\"pattern\":{\"fillmode\":\"overlay\",\"size\":10,\"solidity\":0.2}},\"type\":\"histogram\"}],\"histogram2d\":[{\"colorbar\":{\"outlinewidth\":0,\"ticks\":\"\"},\"colorscale\":[[0.0,\"#0d0887\"],[0.1111111111111111,\"#46039f\"],[0.2222222222222222,\"#7201a8\"],[0.3333333333333333,\"#9c179e\"],[0.4444444444444444,\"#bd3786\"],[0.5555555555555556,\"#d8576b\"],[0.6666666666666666,\"#ed7953\"],[0.7777777777777778,\"#fb9f3a\"],[0.8888888888888888,\"#fdca26\"],[1.0,\"#f0f921\"]],\"type\":\"histogram2d\"}],\"histogram2dcontour\":[{\"colorbar\":{\"outlinewidth\":0,\"ticks\":\"\"},\"colorscale\":[[0.0,\"#0d0887\"],[0.1111111111111111,\"#46039f\"],[0.2222222222222222,\"#7201a8\"],[0.3333333333333333,\"#9c179e\"],[0.4444444444444444,\"#bd3786\"],[0.5555555555555556,\"#d8576b\"],[0.6666666666666666,\"#ed7953\"],[0.7777777777777778,\"#fb9f3a\"],[0.8888888888888888,\"#fdca26\"],[1.0,\"#f0f921\"]],\"type\":\"histogram2dcontour\"}],\"mesh3d\":[{\"colorbar\":{\"outlinewidth\":0,\"ticks\":\"\"},\"type\":\"mesh3d\"}],\"parcoords\":[{\"line\":{\"colorbar\":{\"outlinewidth\":0,\"ticks\":\"\"}},\"type\":\"parcoords\"}],\"pie\":[{\"automargin\":true,\"type\":\"pie\"}],\"scatter\":[{\"marker\":{\"colorbar\":{\"outlinewidth\":0,\"ticks\":\"\"}},\"type\":\"scatter\"}],\"scatter3d\":[{\"line\":{\"colorbar\":{\"outlinewidth\":0,\"ticks\":\"\"}},\"marker\":{\"colorbar\":{\"outlinewidth\":0,\"ticks\":\"\"}},\"type\":\"scatter3d\"}],\"scattercarpet\":[{\"marker\":{\"colorbar\":{\"outlinewidth\":0,\"ticks\":\"\"}},\"type\":\"scattercarpet\"}],\"scattergeo\":[{\"marker\":{\"colorbar\":{\"outlinewidth\":0,\"ticks\":\"\"}},\"type\":\"scattergeo\"}],\"scattergl\":[{\"marker\":{\"colorbar\":{\"outlinewidth\":0,\"ticks\":\"\"}},\"type\":\"scattergl\"}],\"scattermapbox\":[{\"marker\":{\"colorbar\":{\"outlinewidth\":0,\"ticks\":\"\"}},\"type\":\"scattermapbox\"}],\"scatterpolar\":[{\"marker\":{\"colorbar\":{\"outlinewidth\":0,\"ticks\":\"\"}},\"type\":\"scatterpolar\"}],\"scatterpolargl\":[{\"marker\":{\"colorbar\":{\"outlinewidth\":0,\"ticks\":\"\"}},\"type\":\"scatterpolargl\"}],\"scatterternary\":[{\"marker\":{\"colorbar\":{\"outlinewidth\":0,\"ticks\":\"\"}},\"type\":\"scatterternary\"}],\"surface\":[{\"colorbar\":{\"outlinewidth\":0,\"ticks\":\"\"},\"colorscale\":[[0.0,\"#0d0887\"],[0.1111111111111111,\"#46039f\"],[0.2222222222222222,\"#7201a8\"],[0.3333333333333333,\"#9c179e\"],[0.4444444444444444,\"#bd3786\"],[0.5555555555555556,\"#d8576b\"],[0.6666666666666666,\"#ed7953\"],[0.7777777777777778,\"#fb9f3a\"],[0.8888888888888888,\"#fdca26\"],[1.0,\"#f0f921\"]],\"type\":\"surface\"}],\"table\":[{\"cells\":{\"fill\":{\"color\":\"#EBF0F8\"},\"line\":{\"color\":\"white\"}},\"header\":{\"fill\":{\"color\":\"#C8D4E3\"},\"line\":{\"color\":\"white\"}},\"type\":\"table\"}]},\"layout\":{\"annotationdefaults\":{\"arrowcolor\":\"#2a3f5f\",\"arrowhead\":0,\"arrowwidth\":1},\"autotypenumbers\":\"strict\",\"coloraxis\":{\"colorbar\":{\"outlinewidth\":0,\"ticks\":\"\"}},\"colorscale\":{\"diverging\":[[0,\"#8e0152\"],[0.1,\"#c51b7d\"],[0.2,\"#de77ae\"],[0.3,\"#f1b6da\"],[0.4,\"#fde0ef\"],[0.5,\"#f7f7f7\"],[0.6,\"#e6f5d0\"],[0.7,\"#b8e186\"],[0.8,\"#7fbc41\"],[0.9,\"#4d9221\"],[1,\"#276419\"]],\"sequential\":[[0.0,\"#0d0887\"],[0.1111111111111111,\"#46039f\"],[0.2222222222222222,\"#7201a8\"],[0.3333333333333333,\"#9c179e\"],[0.4444444444444444,\"#bd3786\"],[0.5555555555555556,\"#d8576b\"],[0.6666666666666666,\"#ed7953\"],[0.7777777777777778,\"#fb9f3a\"],[0.8888888888888888,\"#fdca26\"],[1.0,\"#f0f921\"]],\"sequentialminus\":[[0.0,\"#0d0887\"],[0.1111111111111111,\"#46039f\"],[0.2222222222222222,\"#7201a8\"],[0.3333333333333333,\"#9c179e\"],[0.4444444444444444,\"#bd3786\"],[0.5555555555555556,\"#d8576b\"],[0.6666666666666666,\"#ed7953\"],[0.7777777777777778,\"#fb9f3a\"],[0.8888888888888888,\"#fdca26\"],[1.0,\"#f0f921\"]]},\"colorway\":[\"#636efa\",\"#EF553B\",\"#00cc96\",\"#ab63fa\",\"#FFA15A\",\"#19d3f3\",\"#FF6692\",\"#B6E880\",\"#FF97FF\",\"#FECB52\"],\"font\":{\"color\":\"#2a3f5f\"},\"geo\":{\"bgcolor\":\"white\",\"lakecolor\":\"white\",\"landcolor\":\"white\",\"showlakes\":true,\"showland\":true,\"subunitcolor\":\"#C8D4E3\"},\"hoverlabel\":{\"align\":\"left\"},\"hovermode\":\"closest\",\"mapbox\":{\"style\":\"light\"},\"paper_bgcolor\":\"white\",\"plot_bgcolor\":\"white\",\"polar\":{\"angularaxis\":{\"gridcolor\":\"#EBF0F8\",\"linecolor\":\"#EBF0F8\",\"ticks\":\"\"},\"bgcolor\":\"white\",\"radialaxis\":{\"gridcolor\":\"#EBF0F8\",\"linecolor\":\"#EBF0F8\",\"ticks\":\"\"}},\"scene\":{\"xaxis\":{\"backgroundcolor\":\"white\",\"gridcolor\":\"#DFE8F3\",\"gridwidth\":2,\"linecolor\":\"#EBF0F8\",\"showbackground\":true,\"ticks\":\"\",\"zerolinecolor\":\"#EBF0F8\"},\"yaxis\":{\"backgroundcolor\":\"white\",\"gridcolor\":\"#DFE8F3\",\"gridwidth\":2,\"linecolor\":\"#EBF0F8\",\"showbackground\":true,\"ticks\":\"\",\"zerolinecolor\":\"#EBF0F8\"},\"zaxis\":{\"backgroundcolor\":\"white\",\"gridcolor\":\"#DFE8F3\",\"gridwidth\":2,\"linecolor\":\"#EBF0F8\",\"showbackground\":true,\"ticks\":\"\",\"zerolinecolor\":\"#EBF0F8\"}},\"shapedefaults\":{\"line\":{\"color\":\"#2a3f5f\"}},\"ternary\":{\"aaxis\":{\"gridcolor\":\"#DFE8F3\",\"linecolor\":\"#A2B1C6\",\"ticks\":\"\"},\"baxis\":{\"gridcolor\":\"#DFE8F3\",\"linecolor\":\"#A2B1C6\",\"ticks\":\"\"},\"bgcolor\":\"white\",\"caxis\":{\"gridcolor\":\"#DFE8F3\",\"linecolor\":\"#A2B1C6\",\"ticks\":\"\"}},\"title\":{\"x\":0.05},\"xaxis\":{\"automargin\":true,\"gridcolor\":\"#EBF0F8\",\"linecolor\":\"#EBF0F8\",\"ticks\":\"\",\"title\":{\"standoff\":15},\"zerolinecolor\":\"#EBF0F8\",\"zerolinewidth\":2},\"yaxis\":{\"automargin\":true,\"gridcolor\":\"#EBF0F8\",\"linecolor\":\"#EBF0F8\",\"ticks\":\"\",\"title\":{\"standoff\":15},\"zerolinecolor\":\"#EBF0F8\",\"zerolinewidth\":2}}},\"width\":800,\"xaxis\":{\"anchor\":\"y\",\"domain\":[0.0,1.0],\"linecolor\":\"black\",\"linewidth\":2,\"range\":[0,120],\"showline\":false,\"title\":{\"text\":\"Community sizes [kWh]\"},\"zerolinecolor\":\"black\",\"zerolinewidth\":2},\"yaxis\":{\"anchor\":\"x\",\"domain\":[0.0,1.0],\"dtick\":1,\"linecolor\":\"black\",\"linewidth\":2,\"range\":[0,13.2],\"showline\":false,\"title\":{\"text\":\"Cost [\\u20ac/member]\"},\"zerolinecolor\":\"black\",\"zerolinewidth\":2}},                        {\"responsive\": true}                    ).then(function(){\n",
       "                            \n",
       "var gd = document.getElementById('765fce3b-2191-4080-b699-bf2d3bac9261');\n",
       "var x = new MutationObserver(function (mutations, observer) {{\n",
       "        var display = window.getComputedStyle(gd).display;\n",
       "        if (!display || display === 'none') {{\n",
       "            console.log([gd, 'removed!']);\n",
       "            Plotly.purge(gd);\n",
       "            observer.disconnect();\n",
       "        }}\n",
       "}});\n",
       "\n",
       "// Listen for the removal of the full notebook cells\n",
       "var notebookContainer = gd.closest('#notebook-container');\n",
       "if (notebookContainer) {{\n",
       "    x.observe(notebookContainer, {childList: true});\n",
       "}}\n",
       "\n",
       "// Listen for the clearing of the current output cell\n",
       "var outputEl = gd.closest('.output');\n",
       "if (outputEl) {{\n",
       "    x.observe(outputEl, {childList: true});\n",
       "}}\n",
       "\n",
       "                        })                };                });            </script>        </div>"
      ]
     },
     "metadata": {},
     "output_type": "display_data"
    }
   ],
   "source": [
    "#graph = pd.DataFrame(index=community_sizes, data={\"2D\": cost_2d,\n",
    "#                                                  \"Perfect\": cost_perfect,\n",
    "#                                                  \"PV_only\": cost_pvonly})\n",
    "\n",
    "with open(f'results/_graph_community_size.pickle', 'rb') as handle:\n",
    "    graph = pickle.load(handle)\n",
    "\n",
    "graph = graph[graph[\"PV_only\"] < 13]\n",
    "\n",
    "fig = px.line(graph)\n",
    "\n",
    "fig.update_traces(line_width=2)\n",
    "fig.data[-1].update(fill=\"tonexty\", fillcolor=\"rgba(214, 39, 40, 0.05)\")\n",
    "fig.data[1].update(fill=\"tonexty\", fillcolor=\"rgba(55, 128, 191, 0.2)\")\n",
    "fig.update_layout(\n",
    "    layout,\n",
    "    height=500,\n",
    "    width=800,\n",
    "    yaxis_title=\"Cost [€/member]\",\n",
    "    xaxis_title=\"Community sizes [kWh]\",\n",
    "    yaxis_range=[0, 13.2],\n",
    "    xaxis_range=[0, 120],\n",
    "    yaxis_dtick=1,\n",
    "    yaxis_showline=False, yaxis_linewidth=2, yaxis_linecolor='black',\n",
    "    xaxis_showline=False, xaxis_linewidth=2, xaxis_linecolor='black',\n",
    "    showlegend=False)\n",
    "fig.show()\n",
    "fig.write_image(f\"results/cost_community_size.svg\")"
   ]
  },
  {
   "cell_type": "code",
   "execution_count": 55,
   "metadata": {},
   "outputs": [],
   "source": [
    "with open(f'results/_graph_community_size.pickle', 'wb') as handle:\n",
    "    pickle.dump(graph, handle, protocol=pickle.HIGHEST_PROTOCOL)"
   ]
  },
  {
   "cell_type": "code",
   "execution_count": 32,
   "metadata": {},
   "outputs": [
    {
     "data": {
      "application/vnd.plotly.v1+json": {
       "config": {
        "plotlyServerURL": "https://plot.ly"
       },
       "data": [
        {
         "hovertemplate": "variable=0<br>index=%{x}<br>value=%{y}<extra></extra>",
         "legendgroup": "0",
         "line": {
          "color": "#4C78A8",
          "dash": "solid",
          "width": 3
         },
         "marker": {
          "symbol": "circle"
         },
         "mode": "lines",
         "name": "0",
         "orientation": "v",
         "showlegend": true,
         "type": "scatter",
         "x": [
          2,
          3,
          4,
          5,
          6,
          7,
          8,
          9,
          10,
          11,
          12,
          13,
          14,
          15,
          16,
          17,
          18,
          19,
          20,
          21,
          22,
          23,
          24,
          25,
          26,
          27,
          28,
          29,
          30,
          31,
          32,
          33,
          34,
          35,
          36,
          37,
          38,
          39,
          40,
          41,
          42,
          43,
          44,
          45,
          46,
          47,
          48,
          49,
          50,
          51,
          52,
          53,
          54,
          55,
          56,
          57,
          58,
          59,
          60,
          61,
          62,
          63,
          64,
          65,
          66,
          67,
          68,
          69,
          70,
          71,
          72,
          73,
          74,
          75,
          76,
          77,
          78,
          79,
          80,
          81,
          82,
          83,
          84,
          85,
          86,
          87,
          88,
          89,
          90,
          91,
          92,
          93,
          94,
          95,
          96,
          97,
          98,
          99,
          100,
          101,
          102,
          103,
          104,
          105,
          106,
          107,
          108,
          109,
          110,
          111,
          112,
          113,
          114,
          115,
          116,
          117,
          118,
          119,
          120
         ],
         "xaxis": "x",
         "y": [
          10.065305276251683,
          11.113430758524695,
          13.957813081132777,
          11.676295907236058,
          16.146382236435656,
          9.421750015265319,
          14.278482361718005,
          19.64076349481781,
          12.2923382097694,
          12.153895342640949,
          10.682571005708649,
          6.2462443467535484,
          10.968864766006408,
          13.533887958204392,
          9.791515948701088,
          7.94096803471298,
          10.12591384348193,
          12.170335505942106,
          8.226430037828662,
          10.093635609844894,
          10.346539883782356,
          10.687362240456382,
          12.641176988811562,
          11.576904581988048,
          8.484828984201547,
          6.770420690142058,
          8.232450955452128,
          7.201870046385918,
          7.172736048349876,
          10.538689348323436,
          13.689818941318896,
          8.38238877560182,
          8.689452480432395,
          7.631827677340512,
          10.212364660801473,
          9.864627726247178,
          6.739800634295105,
          8.028124211611654,
          6.989425070193398,
          7.4998462200898075,
          10.277464767381348,
          9.282961059497925,
          6.7352368283528765,
          7.263635188297664,
          8.712274940968104,
          8.309090004207706,
          7.362011912640635,
          8.344346183343372,
          10.866350386801729,
          8.072500665601689,
          7.480848147634466,
          7.552711085398391,
          7.495270999108908,
          7.195739756723383,
          9.022505140623998,
          9.290553087813656,
          8.31482418138236,
          8.44532917271927,
          7.331378299120238,
          7.160803148185417,
          10.095915873713654,
          6.705509216489969,
          8.415696804939808,
          6.114664994590644,
          10.848494878009994,
          7.627421635970731,
          8.297819236888905,
          6.526141017825566,
          7.748806684372163,
          7.109726198384783,
          7.795698924731184,
          9.654909070770023,
          8.45708164954477,
          7.845888500552149,
          8.913532194745512,
          7.396746417845949,
          8.064831352707102,
          7.482695125065526,
          9.114667628907558,
          9.135916909820612,
          8.89662337662338,
          7.563395697320629,
          7.604277230948581,
          8.053370096975666,
          7.113592761779519,
          8.045246848932722,
          7.70668160265756,
          7.776937178796981,
          6.852288041249205,
          7.539021791313921,
          7.096222907356713,
          8.428033975875568,
          7.040919851200548,
          6.839741386002452,
          7.480071680158192,
          6.955798899063359,
          8.032552066274498,
          8.26445391072882,
          6.828749243741557,
          8.122694819476859,
          7.813237860856209,
          7.4428615817058414,
          8.411293085167127,
          7.137147656589176,
          7.889001338773429,
          7.795679703823752,
          7.441076977810623,
          8.6732284467471,
          7.007320334369011,
          8.113422830414121,
          7.0416105501033215,
          7.252343492392487,
          7.785298190769314,
          7.482173012115727,
          7.338561667429107,
          7.185838079091143,
          7.578410248550814,
          6.85888925519688,
          8.252310349587493
         ],
         "yaxis": "y"
        }
       ],
       "layout": {
        "font": {
         "size": 19
        },
        "height": 500,
        "legend": {
         "title": {
          "text": "variable"
         },
         "tracegroupgap": 0
        },
        "margin": {
         "b": 10,
         "l": 20,
         "r": 50,
         "t": 50
        },
        "showlegend": false,
        "template": {
         "data": {
          "bar": [
           {
            "error_x": {
             "color": "#2a3f5f"
            },
            "error_y": {
             "color": "#2a3f5f"
            },
            "marker": {
             "line": {
              "color": "white",
              "width": 0.5
             },
             "pattern": {
              "fillmode": "overlay",
              "size": 10,
              "solidity": 0.2
             }
            },
            "type": "bar"
           }
          ],
          "barpolar": [
           {
            "marker": {
             "line": {
              "color": "white",
              "width": 0.5
             },
             "pattern": {
              "fillmode": "overlay",
              "size": 10,
              "solidity": 0.2
             }
            },
            "type": "barpolar"
           }
          ],
          "carpet": [
           {
            "aaxis": {
             "endlinecolor": "#2a3f5f",
             "gridcolor": "#C8D4E3",
             "linecolor": "#C8D4E3",
             "minorgridcolor": "#C8D4E3",
             "startlinecolor": "#2a3f5f"
            },
            "baxis": {
             "endlinecolor": "#2a3f5f",
             "gridcolor": "#C8D4E3",
             "linecolor": "#C8D4E3",
             "minorgridcolor": "#C8D4E3",
             "startlinecolor": "#2a3f5f"
            },
            "type": "carpet"
           }
          ],
          "choropleth": [
           {
            "colorbar": {
             "outlinewidth": 0,
             "ticks": ""
            },
            "type": "choropleth"
           }
          ],
          "contour": [
           {
            "colorbar": {
             "outlinewidth": 0,
             "ticks": ""
            },
            "colorscale": [
             [
              0,
              "#0d0887"
             ],
             [
              0.1111111111111111,
              "#46039f"
             ],
             [
              0.2222222222222222,
              "#7201a8"
             ],
             [
              0.3333333333333333,
              "#9c179e"
             ],
             [
              0.4444444444444444,
              "#bd3786"
             ],
             [
              0.5555555555555556,
              "#d8576b"
             ],
             [
              0.6666666666666666,
              "#ed7953"
             ],
             [
              0.7777777777777778,
              "#fb9f3a"
             ],
             [
              0.8888888888888888,
              "#fdca26"
             ],
             [
              1,
              "#f0f921"
             ]
            ],
            "type": "contour"
           }
          ],
          "contourcarpet": [
           {
            "colorbar": {
             "outlinewidth": 0,
             "ticks": ""
            },
            "type": "contourcarpet"
           }
          ],
          "heatmap": [
           {
            "colorbar": {
             "outlinewidth": 0,
             "ticks": ""
            },
            "colorscale": [
             [
              0,
              "#0d0887"
             ],
             [
              0.1111111111111111,
              "#46039f"
             ],
             [
              0.2222222222222222,
              "#7201a8"
             ],
             [
              0.3333333333333333,
              "#9c179e"
             ],
             [
              0.4444444444444444,
              "#bd3786"
             ],
             [
              0.5555555555555556,
              "#d8576b"
             ],
             [
              0.6666666666666666,
              "#ed7953"
             ],
             [
              0.7777777777777778,
              "#fb9f3a"
             ],
             [
              0.8888888888888888,
              "#fdca26"
             ],
             [
              1,
              "#f0f921"
             ]
            ],
            "type": "heatmap"
           }
          ],
          "heatmapgl": [
           {
            "colorbar": {
             "outlinewidth": 0,
             "ticks": ""
            },
            "colorscale": [
             [
              0,
              "#0d0887"
             ],
             [
              0.1111111111111111,
              "#46039f"
             ],
             [
              0.2222222222222222,
              "#7201a8"
             ],
             [
              0.3333333333333333,
              "#9c179e"
             ],
             [
              0.4444444444444444,
              "#bd3786"
             ],
             [
              0.5555555555555556,
              "#d8576b"
             ],
             [
              0.6666666666666666,
              "#ed7953"
             ],
             [
              0.7777777777777778,
              "#fb9f3a"
             ],
             [
              0.8888888888888888,
              "#fdca26"
             ],
             [
              1,
              "#f0f921"
             ]
            ],
            "type": "heatmapgl"
           }
          ],
          "histogram": [
           {
            "marker": {
             "pattern": {
              "fillmode": "overlay",
              "size": 10,
              "solidity": 0.2
             }
            },
            "type": "histogram"
           }
          ],
          "histogram2d": [
           {
            "colorbar": {
             "outlinewidth": 0,
             "ticks": ""
            },
            "colorscale": [
             [
              0,
              "#0d0887"
             ],
             [
              0.1111111111111111,
              "#46039f"
             ],
             [
              0.2222222222222222,
              "#7201a8"
             ],
             [
              0.3333333333333333,
              "#9c179e"
             ],
             [
              0.4444444444444444,
              "#bd3786"
             ],
             [
              0.5555555555555556,
              "#d8576b"
             ],
             [
              0.6666666666666666,
              "#ed7953"
             ],
             [
              0.7777777777777778,
              "#fb9f3a"
             ],
             [
              0.8888888888888888,
              "#fdca26"
             ],
             [
              1,
              "#f0f921"
             ]
            ],
            "type": "histogram2d"
           }
          ],
          "histogram2dcontour": [
           {
            "colorbar": {
             "outlinewidth": 0,
             "ticks": ""
            },
            "colorscale": [
             [
              0,
              "#0d0887"
             ],
             [
              0.1111111111111111,
              "#46039f"
             ],
             [
              0.2222222222222222,
              "#7201a8"
             ],
             [
              0.3333333333333333,
              "#9c179e"
             ],
             [
              0.4444444444444444,
              "#bd3786"
             ],
             [
              0.5555555555555556,
              "#d8576b"
             ],
             [
              0.6666666666666666,
              "#ed7953"
             ],
             [
              0.7777777777777778,
              "#fb9f3a"
             ],
             [
              0.8888888888888888,
              "#fdca26"
             ],
             [
              1,
              "#f0f921"
             ]
            ],
            "type": "histogram2dcontour"
           }
          ],
          "mesh3d": [
           {
            "colorbar": {
             "outlinewidth": 0,
             "ticks": ""
            },
            "type": "mesh3d"
           }
          ],
          "parcoords": [
           {
            "line": {
             "colorbar": {
              "outlinewidth": 0,
              "ticks": ""
             }
            },
            "type": "parcoords"
           }
          ],
          "pie": [
           {
            "automargin": true,
            "type": "pie"
           }
          ],
          "scatter": [
           {
            "marker": {
             "colorbar": {
              "outlinewidth": 0,
              "ticks": ""
             }
            },
            "type": "scatter"
           }
          ],
          "scatter3d": [
           {
            "line": {
             "colorbar": {
              "outlinewidth": 0,
              "ticks": ""
             }
            },
            "marker": {
             "colorbar": {
              "outlinewidth": 0,
              "ticks": ""
             }
            },
            "type": "scatter3d"
           }
          ],
          "scattercarpet": [
           {
            "marker": {
             "colorbar": {
              "outlinewidth": 0,
              "ticks": ""
             }
            },
            "type": "scattercarpet"
           }
          ],
          "scattergeo": [
           {
            "marker": {
             "colorbar": {
              "outlinewidth": 0,
              "ticks": ""
             }
            },
            "type": "scattergeo"
           }
          ],
          "scattergl": [
           {
            "marker": {
             "colorbar": {
              "outlinewidth": 0,
              "ticks": ""
             }
            },
            "type": "scattergl"
           }
          ],
          "scattermapbox": [
           {
            "marker": {
             "colorbar": {
              "outlinewidth": 0,
              "ticks": ""
             }
            },
            "type": "scattermapbox"
           }
          ],
          "scatterpolar": [
           {
            "marker": {
             "colorbar": {
              "outlinewidth": 0,
              "ticks": ""
             }
            },
            "type": "scatterpolar"
           }
          ],
          "scatterpolargl": [
           {
            "marker": {
             "colorbar": {
              "outlinewidth": 0,
              "ticks": ""
             }
            },
            "type": "scatterpolargl"
           }
          ],
          "scatterternary": [
           {
            "marker": {
             "colorbar": {
              "outlinewidth": 0,
              "ticks": ""
             }
            },
            "type": "scatterternary"
           }
          ],
          "surface": [
           {
            "colorbar": {
             "outlinewidth": 0,
             "ticks": ""
            },
            "colorscale": [
             [
              0,
              "#0d0887"
             ],
             [
              0.1111111111111111,
              "#46039f"
             ],
             [
              0.2222222222222222,
              "#7201a8"
             ],
             [
              0.3333333333333333,
              "#9c179e"
             ],
             [
              0.4444444444444444,
              "#bd3786"
             ],
             [
              0.5555555555555556,
              "#d8576b"
             ],
             [
              0.6666666666666666,
              "#ed7953"
             ],
             [
              0.7777777777777778,
              "#fb9f3a"
             ],
             [
              0.8888888888888888,
              "#fdca26"
             ],
             [
              1,
              "#f0f921"
             ]
            ],
            "type": "surface"
           }
          ],
          "table": [
           {
            "cells": {
             "fill": {
              "color": "#EBF0F8"
             },
             "line": {
              "color": "white"
             }
            },
            "header": {
             "fill": {
              "color": "#C8D4E3"
             },
             "line": {
              "color": "white"
             }
            },
            "type": "table"
           }
          ]
         },
         "layout": {
          "annotationdefaults": {
           "arrowcolor": "#2a3f5f",
           "arrowhead": 0,
           "arrowwidth": 1
          },
          "autotypenumbers": "strict",
          "coloraxis": {
           "colorbar": {
            "outlinewidth": 0,
            "ticks": ""
           }
          },
          "colorscale": {
           "diverging": [
            [
             0,
             "#8e0152"
            ],
            [
             0.1,
             "#c51b7d"
            ],
            [
             0.2,
             "#de77ae"
            ],
            [
             0.3,
             "#f1b6da"
            ],
            [
             0.4,
             "#fde0ef"
            ],
            [
             0.5,
             "#f7f7f7"
            ],
            [
             0.6,
             "#e6f5d0"
            ],
            [
             0.7,
             "#b8e186"
            ],
            [
             0.8,
             "#7fbc41"
            ],
            [
             0.9,
             "#4d9221"
            ],
            [
             1,
             "#276419"
            ]
           ],
           "sequential": [
            [
             0,
             "#0d0887"
            ],
            [
             0.1111111111111111,
             "#46039f"
            ],
            [
             0.2222222222222222,
             "#7201a8"
            ],
            [
             0.3333333333333333,
             "#9c179e"
            ],
            [
             0.4444444444444444,
             "#bd3786"
            ],
            [
             0.5555555555555556,
             "#d8576b"
            ],
            [
             0.6666666666666666,
             "#ed7953"
            ],
            [
             0.7777777777777778,
             "#fb9f3a"
            ],
            [
             0.8888888888888888,
             "#fdca26"
            ],
            [
             1,
             "#f0f921"
            ]
           ],
           "sequentialminus": [
            [
             0,
             "#0d0887"
            ],
            [
             0.1111111111111111,
             "#46039f"
            ],
            [
             0.2222222222222222,
             "#7201a8"
            ],
            [
             0.3333333333333333,
             "#9c179e"
            ],
            [
             0.4444444444444444,
             "#bd3786"
            ],
            [
             0.5555555555555556,
             "#d8576b"
            ],
            [
             0.6666666666666666,
             "#ed7953"
            ],
            [
             0.7777777777777778,
             "#fb9f3a"
            ],
            [
             0.8888888888888888,
             "#fdca26"
            ],
            [
             1,
             "#f0f921"
            ]
           ]
          },
          "colorway": [
           "#636efa",
           "#EF553B",
           "#00cc96",
           "#ab63fa",
           "#FFA15A",
           "#19d3f3",
           "#FF6692",
           "#B6E880",
           "#FF97FF",
           "#FECB52"
          ],
          "font": {
           "color": "#2a3f5f"
          },
          "geo": {
           "bgcolor": "white",
           "lakecolor": "white",
           "landcolor": "white",
           "showlakes": true,
           "showland": true,
           "subunitcolor": "#C8D4E3"
          },
          "hoverlabel": {
           "align": "left"
          },
          "hovermode": "closest",
          "mapbox": {
           "style": "light"
          },
          "paper_bgcolor": "white",
          "plot_bgcolor": "white",
          "polar": {
           "angularaxis": {
            "gridcolor": "#EBF0F8",
            "linecolor": "#EBF0F8",
            "ticks": ""
           },
           "bgcolor": "white",
           "radialaxis": {
            "gridcolor": "#EBF0F8",
            "linecolor": "#EBF0F8",
            "ticks": ""
           }
          },
          "scene": {
           "xaxis": {
            "backgroundcolor": "white",
            "gridcolor": "#DFE8F3",
            "gridwidth": 2,
            "linecolor": "#EBF0F8",
            "showbackground": true,
            "ticks": "",
            "zerolinecolor": "#EBF0F8"
           },
           "yaxis": {
            "backgroundcolor": "white",
            "gridcolor": "#DFE8F3",
            "gridwidth": 2,
            "linecolor": "#EBF0F8",
            "showbackground": true,
            "ticks": "",
            "zerolinecolor": "#EBF0F8"
           },
           "zaxis": {
            "backgroundcolor": "white",
            "gridcolor": "#DFE8F3",
            "gridwidth": 2,
            "linecolor": "#EBF0F8",
            "showbackground": true,
            "ticks": "",
            "zerolinecolor": "#EBF0F8"
           }
          },
          "shapedefaults": {
           "line": {
            "color": "#2a3f5f"
           }
          },
          "ternary": {
           "aaxis": {
            "gridcolor": "#DFE8F3",
            "linecolor": "#A2B1C6",
            "ticks": ""
           },
           "baxis": {
            "gridcolor": "#DFE8F3",
            "linecolor": "#A2B1C6",
            "ticks": ""
           },
           "bgcolor": "white",
           "caxis": {
            "gridcolor": "#DFE8F3",
            "linecolor": "#A2B1C6",
            "ticks": ""
           }
          },
          "title": {
           "x": 0.05
          },
          "xaxis": {
           "automargin": true,
           "gridcolor": "#EBF0F8",
           "linecolor": "#EBF0F8",
           "ticks": "",
           "title": {
            "standoff": 15
           },
           "zerolinecolor": "#EBF0F8",
           "zerolinewidth": 2
          },
          "yaxis": {
           "automargin": true,
           "gridcolor": "#EBF0F8",
           "linecolor": "#EBF0F8",
           "ticks": "",
           "title": {
            "standoff": 15
           },
           "zerolinecolor": "#EBF0F8",
           "zerolinewidth": 2
          }
         }
        },
        "width": 800,
        "xaxis": {
         "anchor": "y",
         "domain": [
          0,
          1
         ],
         "linecolor": "black",
         "linewidth": 2,
         "range": [
          0,
          120
         ],
         "showline": false,
         "title": {
          "text": "Community sizes [kWh]"
         },
         "type": "linear",
         "zerolinecolor": "black",
         "zerolinewidth": 2
        },
        "yaxis": {
         "anchor": "x",
         "domain": [
          0,
          1
         ],
         "dtick": 2,
         "linecolor": "black",
         "linewidth": 2,
         "range": [
          0,
          20
         ],
         "showline": false,
         "title": {
          "text": "Cost gap [%]"
         },
         "type": "linear",
         "zerolinecolor": "black",
         "zerolinewidth": 2
        }
       }
      },
      "image/png": "[encoded data removed]",
      "text/html": [
       "<div>                            <div id=\"cc4046a5-4df3-46b1-85e9-c7b19fe13f31\" class=\"plotly-graph-div\" style=\"height:500px; width:800px;\"></div>            <script type=\"text/javascript\">                require([\"plotly\"], function(Plotly) {                    window.PLOTLYENV=window.PLOTLYENV || {};                                    if (document.getElementById(\"cc4046a5-4df3-46b1-85e9-c7b19fe13f31\")) {                    Plotly.newPlot(                        \"cc4046a5-4df3-46b1-85e9-c7b19fe13f31\",                        [{\"hovertemplate\":\"variable=0<br>index=%{x}<br>value=%{y}<extra></extra>\",\"legendgroup\":\"0\",\"line\":{\"color\":\"#4C78A8\",\"dash\":\"solid\",\"width\":3},\"marker\":{\"symbol\":\"circle\"},\"mode\":\"lines\",\"name\":\"0\",\"orientation\":\"v\",\"showlegend\":true,\"type\":\"scatter\",\"x\":[2,3,4,5,6,7,8,9,10,11,12,13,14,15,16,17,18,19,20,21,22,23,24,25,26,27,28,29,30,31,32,33,34,35,36,37,38,39,40,41,42,43,44,45,46,47,48,49,50,51,52,53,54,55,56,57,58,59,60,61,62,63,64,65,66,67,68,69,70,71,72,73,74,75,76,77,78,79,80,81,82,83,84,85,86,87,88,89,90,91,92,93,94,95,96,97,98,99,100,101,102,103,104,105,106,107,108,109,110,111,112,113,114,115,116,117,118,119,120],\"xaxis\":\"x\",\"y\":[10.065305276251683,11.113430758524695,13.957813081132777,11.676295907236058,16.146382236435656,9.421750015265319,14.278482361718005,19.64076349481781,12.2923382097694,12.153895342640949,10.682571005708649,6.2462443467535484,10.968864766006408,13.533887958204392,9.791515948701088,7.94096803471298,10.12591384348193,12.170335505942106,8.226430037828662,10.093635609844894,10.346539883782356,10.687362240456382,12.641176988811562,11.576904581988048,8.484828984201547,6.770420690142058,8.232450955452128,7.201870046385918,7.172736048349876,10.538689348323436,13.689818941318896,8.38238877560182,8.689452480432395,7.631827677340512,10.212364660801473,9.864627726247178,6.739800634295105,8.028124211611654,6.989425070193398,7.4998462200898075,10.277464767381348,9.282961059497925,6.7352368283528765,7.263635188297664,8.712274940968104,8.309090004207706,7.362011912640635,8.344346183343372,10.866350386801729,8.072500665601689,7.480848147634466,7.552711085398391,7.495270999108908,7.195739756723383,9.022505140623998,9.290553087813656,8.31482418138236,8.44532917271927,7.331378299120238,7.160803148185417,10.095915873713654,6.705509216489969,8.415696804939808,6.114664994590644,10.848494878009994,7.627421635970731,8.297819236888905,6.526141017825566,7.748806684372163,7.109726198384783,7.795698924731184,9.654909070770023,8.45708164954477,7.845888500552149,8.913532194745512,7.396746417845949,8.064831352707102,7.482695125065526,9.114667628907558,9.135916909820612,8.89662337662338,7.563395697320629,7.604277230948581,8.053370096975666,7.113592761779519,8.045246848932722,7.70668160265756,7.776937178796981,6.852288041249205,7.539021791313921,7.096222907356713,8.428033975875568,7.040919851200548,6.839741386002452,7.480071680158192,6.955798899063359,8.032552066274498,8.26445391072882,6.828749243741557,8.122694819476859,7.813237860856209,7.4428615817058414,8.411293085167127,7.137147656589176,7.889001338773429,7.795679703823752,7.441076977810623,8.6732284467471,7.007320334369011,8.113422830414121,7.0416105501033215,7.252343492392487,7.785298190769314,7.482173012115727,7.338561667429107,7.185838079091143,7.578410248550814,6.85888925519688,8.252310349587493],\"yaxis\":\"y\"}],                        {\"font\":{\"size\":19},\"height\":500,\"legend\":{\"title\":{\"text\":\"variable\"},\"tracegroupgap\":0},\"margin\":{\"b\":10,\"l\":20,\"r\":50,\"t\":50},\"showlegend\":false,\"template\":{\"data\":{\"bar\":[{\"error_x\":{\"color\":\"#2a3f5f\"},\"error_y\":{\"color\":\"#2a3f5f\"},\"marker\":{\"line\":{\"color\":\"white\",\"width\":0.5},\"pattern\":{\"fillmode\":\"overlay\",\"size\":10,\"solidity\":0.2}},\"type\":\"bar\"}],\"barpolar\":[{\"marker\":{\"line\":{\"color\":\"white\",\"width\":0.5},\"pattern\":{\"fillmode\":\"overlay\",\"size\":10,\"solidity\":0.2}},\"type\":\"barpolar\"}],\"carpet\":[{\"aaxis\":{\"endlinecolor\":\"#2a3f5f\",\"gridcolor\":\"#C8D4E3\",\"linecolor\":\"#C8D4E3\",\"minorgridcolor\":\"#C8D4E3\",\"startlinecolor\":\"#2a3f5f\"},\"baxis\":{\"endlinecolor\":\"#2a3f5f\",\"gridcolor\":\"#C8D4E3\",\"linecolor\":\"#C8D4E3\",\"minorgridcolor\":\"#C8D4E3\",\"startlinecolor\":\"#2a3f5f\"},\"type\":\"carpet\"}],\"choropleth\":[{\"colorbar\":{\"outlinewidth\":0,\"ticks\":\"\"},\"type\":\"choropleth\"}],\"contour\":[{\"colorbar\":{\"outlinewidth\":0,\"ticks\":\"\"},\"colorscale\":[[0.0,\"#0d0887\"],[0.1111111111111111,\"#46039f\"],[0.2222222222222222,\"#7201a8\"],[0.3333333333333333,\"#9c179e\"],[0.4444444444444444,\"#bd3786\"],[0.5555555555555556,\"#d8576b\"],[0.6666666666666666,\"#ed7953\"],[0.7777777777777778,\"#fb9f3a\"],[0.8888888888888888,\"#fdca26\"],[1.0,\"#f0f921\"]],\"type\":\"contour\"}],\"contourcarpet\":[{\"colorbar\":{\"outlinewidth\":0,\"ticks\":\"\"},\"type\":\"contourcarpet\"}],\"heatmap\":[{\"colorbar\":{\"outlinewidth\":0,\"ticks\":\"\"},\"colorscale\":[[0.0,\"#0d0887\"],[0.1111111111111111,\"#46039f\"],[0.2222222222222222,\"#7201a8\"],[0.3333333333333333,\"#9c179e\"],[0.4444444444444444,\"#bd3786\"],[0.5555555555555556,\"#d8576b\"],[0.6666666666666666,\"#ed7953\"],[0.7777777777777778,\"#fb9f3a\"],[0.8888888888888888,\"#fdca26\"],[1.0,\"#f0f921\"]],\"type\":\"heatmap\"}],\"heatmapgl\":[{\"colorbar\":{\"outlinewidth\":0,\"ticks\":\"\"},\"colorscale\":[[0.0,\"#0d0887\"],[0.1111111111111111,\"#46039f\"],[0.2222222222222222,\"#7201a8\"],[0.3333333333333333,\"#9c179e\"],[0.4444444444444444,\"#bd3786\"],[0.5555555555555556,\"#d8576b\"],[0.6666666666666666,\"#ed7953\"],[0.7777777777777778,\"#fb9f3a\"],[0.8888888888888888,\"#fdca26\"],[1.0,\"#f0f921\"]],\"type\":\"heatmapgl\"}],\"histogram\":[{\"marker\":{\"pattern\":{\"fillmode\":\"overlay\",\"size\":10,\"solidity\":0.2}},\"type\":\"histogram\"}],\"histogram2d\":[{\"colorbar\":{\"outlinewidth\":0,\"ticks\":\"\"},\"colorscale\":[[0.0,\"#0d0887\"],[0.1111111111111111,\"#46039f\"],[0.2222222222222222,\"#7201a8\"],[0.3333333333333333,\"#9c179e\"],[0.4444444444444444,\"#bd3786\"],[0.5555555555555556,\"#d8576b\"],[0.6666666666666666,\"#ed7953\"],[0.7777777777777778,\"#fb9f3a\"],[0.8888888888888888,\"#fdca26\"],[1.0,\"#f0f921\"]],\"type\":\"histogram2d\"}],\"histogram2dcontour\":[{\"colorbar\":{\"outlinewidth\":0,\"ticks\":\"\"},\"colorscale\":[[0.0,\"#0d0887\"],[0.1111111111111111,\"#46039f\"],[0.2222222222222222,\"#7201a8\"],[0.3333333333333333,\"#9c179e\"],[0.4444444444444444,\"#bd3786\"],[0.5555555555555556,\"#d8576b\"],[0.6666666666666666,\"#ed7953\"],[0.7777777777777778,\"#fb9f3a\"],[0.8888888888888888,\"#fdca26\"],[1.0,\"#f0f921\"]],\"type\":\"histogram2dcontour\"}],\"mesh3d\":[{\"colorbar\":{\"outlinewidth\":0,\"ticks\":\"\"},\"type\":\"mesh3d\"}],\"parcoords\":[{\"line\":{\"colorbar\":{\"outlinewidth\":0,\"ticks\":\"\"}},\"type\":\"parcoords\"}],\"pie\":[{\"automargin\":true,\"type\":\"pie\"}],\"scatter\":[{\"marker\":{\"colorbar\":{\"outlinewidth\":0,\"ticks\":\"\"}},\"type\":\"scatter\"}],\"scatter3d\":[{\"line\":{\"colorbar\":{\"outlinewidth\":0,\"ticks\":\"\"}},\"marker\":{\"colorbar\":{\"outlinewidth\":0,\"ticks\":\"\"}},\"type\":\"scatter3d\"}],\"scattercarpet\":[{\"marker\":{\"colorbar\":{\"outlinewidth\":0,\"ticks\":\"\"}},\"type\":\"scattercarpet\"}],\"scattergeo\":[{\"marker\":{\"colorbar\":{\"outlinewidth\":0,\"ticks\":\"\"}},\"type\":\"scattergeo\"}],\"scattergl\":[{\"marker\":{\"colorbar\":{\"outlinewidth\":0,\"ticks\":\"\"}},\"type\":\"scattergl\"}],\"scattermapbox\":[{\"marker\":{\"colorbar\":{\"outlinewidth\":0,\"ticks\":\"\"}},\"type\":\"scattermapbox\"}],\"scatterpolar\":[{\"marker\":{\"colorbar\":{\"outlinewidth\":0,\"ticks\":\"\"}},\"type\":\"scatterpolar\"}],\"scatterpolargl\":[{\"marker\":{\"colorbar\":{\"outlinewidth\":0,\"ticks\":\"\"}},\"type\":\"scatterpolargl\"}],\"scatterternary\":[{\"marker\":{\"colorbar\":{\"outlinewidth\":0,\"ticks\":\"\"}},\"type\":\"scatterternary\"}],\"surface\":[{\"colorbar\":{\"outlinewidth\":0,\"ticks\":\"\"},\"colorscale\":[[0.0,\"#0d0887\"],[0.1111111111111111,\"#46039f\"],[0.2222222222222222,\"#7201a8\"],[0.3333333333333333,\"#9c179e\"],[0.4444444444444444,\"#bd3786\"],[0.5555555555555556,\"#d8576b\"],[0.6666666666666666,\"#ed7953\"],[0.7777777777777778,\"#fb9f3a\"],[0.8888888888888888,\"#fdca26\"],[1.0,\"#f0f921\"]],\"type\":\"surface\"}],\"table\":[{\"cells\":{\"fill\":{\"color\":\"#EBF0F8\"},\"line\":{\"color\":\"white\"}},\"header\":{\"fill\":{\"color\":\"#C8D4E3\"},\"line\":{\"color\":\"white\"}},\"type\":\"table\"}]},\"layout\":{\"annotationdefaults\":{\"arrowcolor\":\"#2a3f5f\",\"arrowhead\":0,\"arrowwidth\":1},\"autotypenumbers\":\"strict\",\"coloraxis\":{\"colorbar\":{\"outlinewidth\":0,\"ticks\":\"\"}},\"colorscale\":{\"diverging\":[[0,\"#8e0152\"],[0.1,\"#c51b7d\"],[0.2,\"#de77ae\"],[0.3,\"#f1b6da\"],[0.4,\"#fde0ef\"],[0.5,\"#f7f7f7\"],[0.6,\"#e6f5d0\"],[0.7,\"#b8e186\"],[0.8,\"#7fbc41\"],[0.9,\"#4d9221\"],[1,\"#276419\"]],\"sequential\":[[0.0,\"#0d0887\"],[0.1111111111111111,\"#46039f\"],[0.2222222222222222,\"#7201a8\"],[0.3333333333333333,\"#9c179e\"],[0.4444444444444444,\"#bd3786\"],[0.5555555555555556,\"#d8576b\"],[0.6666666666666666,\"#ed7953\"],[0.7777777777777778,\"#fb9f3a\"],[0.8888888888888888,\"#fdca26\"],[1.0,\"#f0f921\"]],\"sequentialminus\":[[0.0,\"#0d0887\"],[0.1111111111111111,\"#46039f\"],[0.2222222222222222,\"#7201a8\"],[0.3333333333333333,\"#9c179e\"],[0.4444444444444444,\"#bd3786\"],[0.5555555555555556,\"#d8576b\"],[0.6666666666666666,\"#ed7953\"],[0.7777777777777778,\"#fb9f3a\"],[0.8888888888888888,\"#fdca26\"],[1.0,\"#f0f921\"]]},\"colorway\":[\"#636efa\",\"#EF553B\",\"#00cc96\",\"#ab63fa\",\"#FFA15A\",\"#19d3f3\",\"#FF6692\",\"#B6E880\",\"#FF97FF\",\"#FECB52\"],\"font\":{\"color\":\"#2a3f5f\"},\"geo\":{\"bgcolor\":\"white\",\"lakecolor\":\"white\",\"landcolor\":\"white\",\"showlakes\":true,\"showland\":true,\"subunitcolor\":\"#C8D4E3\"},\"hoverlabel\":{\"align\":\"left\"},\"hovermode\":\"closest\",\"mapbox\":{\"style\":\"light\"},\"paper_bgcolor\":\"white\",\"plot_bgcolor\":\"white\",\"polar\":{\"angularaxis\":{\"gridcolor\":\"#EBF0F8\",\"linecolor\":\"#EBF0F8\",\"ticks\":\"\"},\"bgcolor\":\"white\",\"radialaxis\":{\"gridcolor\":\"#EBF0F8\",\"linecolor\":\"#EBF0F8\",\"ticks\":\"\"}},\"scene\":{\"xaxis\":{\"backgroundcolor\":\"white\",\"gridcolor\":\"#DFE8F3\",\"gridwidth\":2,\"linecolor\":\"#EBF0F8\",\"showbackground\":true,\"ticks\":\"\",\"zerolinecolor\":\"#EBF0F8\"},\"yaxis\":{\"backgroundcolor\":\"white\",\"gridcolor\":\"#DFE8F3\",\"gridwidth\":2,\"linecolor\":\"#EBF0F8\",\"showbackground\":true,\"ticks\":\"\",\"zerolinecolor\":\"#EBF0F8\"},\"zaxis\":{\"backgroundcolor\":\"white\",\"gridcolor\":\"#DFE8F3\",\"gridwidth\":2,\"linecolor\":\"#EBF0F8\",\"showbackground\":true,\"ticks\":\"\",\"zerolinecolor\":\"#EBF0F8\"}},\"shapedefaults\":{\"line\":{\"color\":\"#2a3f5f\"}},\"ternary\":{\"aaxis\":{\"gridcolor\":\"#DFE8F3\",\"linecolor\":\"#A2B1C6\",\"ticks\":\"\"},\"baxis\":{\"gridcolor\":\"#DFE8F3\",\"linecolor\":\"#A2B1C6\",\"ticks\":\"\"},\"bgcolor\":\"white\",\"caxis\":{\"gridcolor\":\"#DFE8F3\",\"linecolor\":\"#A2B1C6\",\"ticks\":\"\"}},\"title\":{\"x\":0.05},\"xaxis\":{\"automargin\":true,\"gridcolor\":\"#EBF0F8\",\"linecolor\":\"#EBF0F8\",\"ticks\":\"\",\"title\":{\"standoff\":15},\"zerolinecolor\":\"#EBF0F8\",\"zerolinewidth\":2},\"yaxis\":{\"automargin\":true,\"gridcolor\":\"#EBF0F8\",\"linecolor\":\"#EBF0F8\",\"ticks\":\"\",\"title\":{\"standoff\":15},\"zerolinecolor\":\"#EBF0F8\",\"zerolinewidth\":2}}},\"width\":800,\"xaxis\":{\"anchor\":\"y\",\"domain\":[0.0,1.0],\"linecolor\":\"black\",\"linewidth\":2,\"range\":[0,120],\"showline\":false,\"title\":{\"text\":\"Community sizes [kWh]\"},\"zerolinecolor\":\"black\",\"zerolinewidth\":2},\"yaxis\":{\"anchor\":\"x\",\"domain\":[0.0,1.0],\"dtick\":2,\"linecolor\":\"black\",\"linewidth\":2,\"range\":[0,20],\"showline\":false,\"title\":{\"text\":\"Cost gap [%]\"},\"zerolinecolor\":\"black\",\"zerolinewidth\":2}},                        {\"responsive\": true}                    ).then(function(){\n",
       "                            \n",
       "var gd = document.getElementById('cc4046a5-4df3-46b1-85e9-c7b19fe13f31');\n",
       "var x = new MutationObserver(function (mutations, observer) {{\n",
       "        var display = window.getComputedStyle(gd).display;\n",
       "        if (!display || display === 'none') {{\n",
       "            console.log([gd, 'removed!']);\n",
       "            Plotly.purge(gd);\n",
       "            observer.disconnect();\n",
       "        }}\n",
       "}});\n",
       "\n",
       "// Listen for the removal of the full notebook cells\n",
       "var notebookContainer = gd.closest('#notebook-container');\n",
       "if (notebookContainer) {{\n",
       "    x.observe(notebookContainer, {childList: true});\n",
       "}}\n",
       "\n",
       "// Listen for the clearing of the current output cell\n",
       "var outputEl = gd.closest('.output');\n",
       "if (outputEl) {{\n",
       "    x.observe(outputEl, {childList: true});\n",
       "}}\n",
       "\n",
       "                        })                };                });            </script>        </div>"
      ]
     },
     "metadata": {},
     "output_type": "display_data"
    }
   ],
   "source": [
    "fig = px.line((graph[\"2D\"] - graph[\"Perfect\"]) * 100 / (graph[\"PV_only\"] - graph[\"Perfect\"]))\n",
    "fig.update_traces(line_width=3)\n",
    "fig.update_layout(\n",
    "    layout,\n",
    "    height=500,\n",
    "    width=800,\n",
    "    yaxis_title=\"Cost gap [%]\",\n",
    "    xaxis_title=\"Community sizes [kWh]\",\n",
    "    yaxis_range=[0, 20],\n",
    "    xaxis_range=[0, 120],\n",
    "    yaxis_dtick=2,\n",
    "    yaxis_showline=False, yaxis_linewidth=2, yaxis_linecolor='black',\n",
    "    xaxis_showline=False, xaxis_linewidth=2, xaxis_linecolor='black',\n",
    "    showlegend=False)\n",
    "fig.show()"
   ]
  },
  {
   "cell_type": "code",
   "execution_count": null,
   "metadata": {},
   "outputs": [],
   "source": []
  }
 ],
 "metadata": {
  "kernelspec": {
   "display_name": "Jonathan",
   "language": "python",
   "name": "jonathan"
  },
  "language_info": {
   "codemirror_mode": {
    "name": "ipython",
    "version": 3
   },
   "file_extension": ".py",
   "mimetype": "text/x-python",
   "name": "python",
   "nbconvert_exporter": "python",
   "pygments_lexer": "ipython3",
   "version": "3.8.9"
  }
 },
 "nbformat": 4,
 "nbformat_minor": 4
}
